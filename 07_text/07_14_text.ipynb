{
 "cells": [
  {
   "cell_type": "markdown",
   "metadata": {
    "slideshow": {
     "slide_type": "slide"
    }
   },
   "source": [
    "### Course Announcements\n",
    "\n",
    "**Due Sunday (11:59 PM)**\n",
    "- D6\n",
    "- Q7 \n",
    "- Checkpoint #1 (discuss Data section)\n",
    "- Weekly Project Survey (optional)"
   ]
  },
  {
   "cell_type": "markdown",
   "metadata": {
    "slideshow": {
     "slide_type": "slide"
    }
   },
   "source": [
    "# Text Analysis\n",
    "\n",
    "- **Sentiment Analysis**\n",
    "    - tokenization\n",
    "    - stop words\n",
    "    - stemming\n",
    "- **TF-IDF**\n",
    "    - Bag of Words\n",
    "    - term frequency\n",
    "    - inverse document frequency\n",
    "- Tools: `nltk`"
   ]
  },
  {
   "cell_type": "code",
   "execution_count": 1,
   "metadata": {
    "slideshow": {
     "slide_type": "slide"
    }
   },
   "outputs": [
    {
     "name": "stderr",
     "output_type": "stream",
     "text": [
      "[nltk_data] Downloading package stopwords to\n",
      "[nltk_data]     /Users/shannonellis/nltk_data...\n",
      "[nltk_data]   Package stopwords is already up-to-date!\n",
      "[nltk_data] Downloading package punkt to\n",
      "[nltk_data]     /Users/shannonellis/nltk_data...\n",
      "[nltk_data]   Package punkt is already up-to-date!\n"
     ]
    },
    {
     "data": {
      "text/plain": [
       "True"
      ]
     },
     "execution_count": 1,
     "metadata": {},
     "output_type": "execute_result"
    }
   ],
   "source": [
    "# pandas and matplotlib setup\n",
    "import pandas as pd\n",
    "\n",
    "import matplotlib.pyplot as plt\n",
    "plt.rcParams['figure.figsize'] = (17, 7)\n",
    "plt.rcParams.update({'font.size': 14})\n",
    "import seaborn as sns\n",
    "\n",
    "#improve resolution\n",
    "#comment this line if erroring on your machine/screen\n",
    "%config InlineBackend.figure_format ='retina'\n",
    "\n",
    "import warnings\n",
    "warnings.filterwarnings('ignore')\n",
    "\n",
    "#import natural language toolkit\n",
    "import nltk\n",
    "\n",
    "# download stopwords & punkt\n",
    "nltk.download('stopwords')\n",
    "nltk.download('punkt')"
   ]
  },
  {
   "cell_type": "markdown",
   "metadata": {
    "slideshow": {
     "slide_type": "slide"
    }
   },
   "source": [
    "#### Reminder: **Natural Language Processing** is a whole field of study.\n",
    "\n",
    "Like most topics in this course, there are many courses solely focused on the appropriate analysis of text. We'll cover the general concepts in this course, but know you're missing lots of important details."
   ]
  },
  {
   "cell_type": "markdown",
   "metadata": {
    "slideshow": {
     "slide_type": "slide"
    }
   },
   "source": [
    "## Natural Language Toolkit (`nltk`)\n",
    "\n",
    "For more details on using the functionality within this package, check out the [NLTK Book](http://www.nltk.org/book/).\n",
    "\n",
    "0. Preface\n",
    "1. Language Processing and Python\n",
    "2. Accessing Text Corpora and Lexical Resources\n",
    "3. Processing Raw Text\n",
    "4. Writing Structured Programs\n",
    "5. Categorizing and Tagging Words \n",
    "6. Learning to Classify Text\n",
    "7. Extracting Information from Text\n",
    "8. Analyzing Sentence Structure\n",
    "9. Building Feature Based Grammars\n",
    "10. Analyzing the Meaning of Sentences \n",
    "11. Managing Linguistic Data\n",
    "12. Afterword: Facing the Language Challenge"
   ]
  },
  {
   "cell_type": "markdown",
   "metadata": {
    "slideshow": {
     "slide_type": "fragment"
    }
   },
   "source": [
    "[VADER](https://github.com/cjhutto/vaderSentiment) is a particularly helpful tool/lexicon when working with sentiments expressed in social media (tweets, online reviews, etc.)\n",
    "\n",
    "Its functionality is available through `nltk`, so we'll download the vader lexicon for use later in this notebook."
   ]
  },
  {
   "cell_type": "code",
   "execution_count": 2,
   "metadata": {
    "slideshow": {
     "slide_type": "fragment"
    }
   },
   "outputs": [
    {
     "name": "stderr",
     "output_type": "stream",
     "text": [
      "[nltk_data] Downloading package vader_lexicon to\n",
      "[nltk_data]     /Users/shannonellis/nltk_data...\n",
      "[nltk_data]   Package vader_lexicon is already up-to-date!\n"
     ]
    },
    {
     "data": {
      "text/plain": [
       "True"
      ]
     },
     "execution_count": 2,
     "metadata": {},
     "output_type": "execute_result"
    }
   ],
   "source": [
    "# get lexicon we'll be working with today\n",
    "nltk.download('vader_lexicon') "
   ]
  },
  {
   "cell_type": "markdown",
   "metadata": {
    "slideshow": {
     "slide_type": "slide"
    }
   },
   "source": [
    "## The Data"
   ]
  },
  {
   "cell_type": "code",
   "execution_count": 3,
   "metadata": {
    "slideshow": {
     "slide_type": "-"
    }
   },
   "outputs": [],
   "source": [
    "quarters = ['Wi24', 'Wi21', 'Fa20', 'Wi20', 'Sp20', 'Sp19']"
   ]
  },
  {
   "cell_type": "code",
   "execution_count": 4,
   "metadata": {
    "slideshow": {
     "slide_type": "-"
    }
   },
   "outputs": [],
   "source": [
    "def read_data(quarter):\n",
    "    '''read data in from specified quarter, extract columns of interest \n",
    "    and add a column indicating quarter from which data originated'''\n",
    "    \n",
    "    df = pd.read_csv('https://raw.githubusercontent.com/shanellis/datasets/master/COGS108_feedback_' + quarter + '.csv')\n",
    "    df = df[['enjoyed_most', 'enjoyed_least']]\n",
    "    df['quarter'] = quarter\n",
    "    \n",
    "    return df"
   ]
  },
  {
   "cell_type": "code",
   "execution_count": 5,
   "metadata": {
    "scrolled": true,
    "slideshow": {
     "slide_type": "fragment"
    }
   },
   "outputs": [
    {
     "data": {
      "text/html": [
       "<div>\n",
       "<style scoped>\n",
       "    .dataframe tbody tr th:only-of-type {\n",
       "        vertical-align: middle;\n",
       "    }\n",
       "\n",
       "    .dataframe tbody tr th {\n",
       "        vertical-align: top;\n",
       "    }\n",
       "\n",
       "    .dataframe thead th {\n",
       "        text-align: right;\n",
       "    }\n",
       "</style>\n",
       "<table border=\"1\" class=\"dataframe\">\n",
       "  <thead>\n",
       "    <tr style=\"text-align: right;\">\n",
       "      <th></th>\n",
       "      <th>enjoyed_most</th>\n",
       "      <th>enjoyed_least</th>\n",
       "      <th>quarter</th>\n",
       "    </tr>\n",
       "  </thead>\n",
       "  <tbody>\n",
       "    <tr>\n",
       "      <th>0</th>\n",
       "      <td>The pace is moderate, easy to follow but not b...</td>\n",
       "      <td>We have to work in a group. personally speakin...</td>\n",
       "      <td>Wi24</td>\n",
       "    </tr>\n",
       "    <tr>\n",
       "      <th>1</th>\n",
       "      <td>I enjoy exploring data science more using Python.</td>\n",
       "      <td>I don't really like when labs, lecture, and as...</td>\n",
       "      <td>Wi24</td>\n",
       "    </tr>\n",
       "    <tr>\n",
       "      <th>2</th>\n",
       "      <td>guest lectures, being able to hear real life e...</td>\n",
       "      <td>weekly lecture quizzes</td>\n",
       "      <td>Wi24</td>\n",
       "    </tr>\n",
       "    <tr>\n",
       "      <th>3</th>\n",
       "      <td>Assignment, there is a step by step guide how ...</td>\n",
       "      <td>Assignment, because its also time consuming.</td>\n",
       "      <td>Wi24</td>\n",
       "    </tr>\n",
       "    <tr>\n",
       "      <th>4</th>\n",
       "      <td>Coding</td>\n",
       "      <td>Group members not responding</td>\n",
       "      <td>Wi24</td>\n",
       "    </tr>\n",
       "    <tr>\n",
       "      <th>...</th>\n",
       "      <td>...</td>\n",
       "      <td>...</td>\n",
       "      <td>...</td>\n",
       "    </tr>\n",
       "    <tr>\n",
       "      <th>2290</th>\n",
       "      <td>the fact that the professor codes in class liv...</td>\n",
       "      <td>the fact that the group partners were assigned...</td>\n",
       "      <td>Sp19</td>\n",
       "    </tr>\n",
       "    <tr>\n",
       "      <th>2291</th>\n",
       "      <td>No exams</td>\n",
       "      <td>Team project</td>\n",
       "      <td>Sp19</td>\n",
       "    </tr>\n",
       "    <tr>\n",
       "      <th>2292</th>\n",
       "      <td>The availability of office hours and style of ...</td>\n",
       "      <td>I don't know much about Python and it is reall...</td>\n",
       "      <td>Sp19</td>\n",
       "    </tr>\n",
       "    <tr>\n",
       "      <th>2293</th>\n",
       "      <td>The availability of office hours and style of ...</td>\n",
       "      <td>I don't know much about Python and it is reall...</td>\n",
       "      <td>Sp19</td>\n",
       "    </tr>\n",
       "    <tr>\n",
       "      <th>2294</th>\n",
       "      <td>NaN</td>\n",
       "      <td>NaN</td>\n",
       "      <td>Sp19</td>\n",
       "    </tr>\n",
       "  </tbody>\n",
       "</table>\n",
       "<p>2295 rows × 3 columns</p>\n",
       "</div>"
      ],
      "text/plain": [
       "                                           enjoyed_most  \\\n",
       "0     The pace is moderate, easy to follow but not b...   \n",
       "1     I enjoy exploring data science more using Python.   \n",
       "2     guest lectures, being able to hear real life e...   \n",
       "3     Assignment, there is a step by step guide how ...   \n",
       "4                                                Coding   \n",
       "...                                                 ...   \n",
       "2290  the fact that the professor codes in class liv...   \n",
       "2291                                           No exams   \n",
       "2292  The availability of office hours and style of ...   \n",
       "2293  The availability of office hours and style of ...   \n",
       "2294                                                NaN   \n",
       "\n",
       "                                          enjoyed_least quarter  \n",
       "0     We have to work in a group. personally speakin...    Wi24  \n",
       "1     I don't really like when labs, lecture, and as...    Wi24  \n",
       "2                                weekly lecture quizzes    Wi24  \n",
       "3          Assignment, because its also time consuming.    Wi24  \n",
       "4                          Group members not responding    Wi24  \n",
       "...                                                 ...     ...  \n",
       "2290  the fact that the group partners were assigned...    Sp19  \n",
       "2291                                       Team project    Sp19  \n",
       "2292  I don't know much about Python and it is reall...    Sp19  \n",
       "2293  I don't know much about Python and it is reall...    Sp19  \n",
       "2294                                                NaN    Sp19  \n",
       "\n",
       "[2295 rows x 3 columns]"
      ]
     },
     "execution_count": 5,
     "metadata": {},
     "output_type": "execute_result"
    }
   ],
   "source": [
    "# read in data for all quarters\n",
    "df = pd.DataFrame()\n",
    "\n",
    "for quarter in quarters:\n",
    "    qtr = read_data(quarter)\n",
    "    df = pd.concat([df, qtr], ignore_index=True)\n",
    "    \n",
    "df"
   ]
  },
  {
   "cell_type": "markdown",
   "metadata": {
    "slideshow": {
     "slide_type": "slide"
    }
   },
   "source": [
    "## Describe & Explore\n",
    "\n",
    "We'll quickly describe and explore the data to see what information we have before moving on to Text Analysis."
   ]
  },
  {
   "cell_type": "markdown",
   "metadata": {
    "slideshow": {
     "slide_type": "fragment"
    }
   },
   "source": [
    "### Data Considerations\n",
    "\n",
    "- duplicate responses?\n",
    "- PIDs for individuals in the class (typos?)\n",
    "- missingness?\n",
    "- reflect reality?"
   ]
  },
  {
   "cell_type": "code",
   "execution_count": 6,
   "metadata": {
    "slideshow": {
     "slide_type": "fragment"
    }
   },
   "outputs": [
    {
     "data": {
      "text/plain": [
       "quarter\n",
       "Wi24    584\n",
       "Sp20    397\n",
       "Sp19    384\n",
       "Fa20    321\n",
       "Wi21    314\n",
       "Wi20    295\n",
       "dtype: int64"
      ]
     },
     "execution_count": 6,
     "metadata": {},
     "output_type": "execute_result"
    }
   ],
   "source": [
    "# how many from each quarter?\n",
    "df.value_counts('quarter')"
   ]
  },
  {
   "cell_type": "markdown",
   "metadata": {
    "slideshow": {
     "slide_type": "fragment"
    }
   },
   "source": [
    "Note: Response Rates\n",
    "- Spring 2019: 384/826 (46%)\n",
    "- Winter 2020: 295/444 (66%)\n",
    "- Spring 2020: 397/475 (84%)\n",
    "- Fall 2020: 321/447 (72%)\n",
    "- Winter 2021: 314/438 (72%)\n",
    "- **Winter 2024: 584/701 (83%)**"
   ]
  },
  {
   "cell_type": "markdown",
   "metadata": {
    "slideshow": {
     "slide_type": "slide"
    }
   },
   "source": [
    "### Missingness"
   ]
  },
  {
   "cell_type": "code",
   "execution_count": 7,
   "metadata": {
    "slideshow": {
     "slide_type": "fragment"
    }
   },
   "outputs": [
    {
     "data": {
      "text/plain": [
       "enjoyed_most     141\n",
       "enjoyed_least    276\n",
       "quarter            0\n",
       "dtype: int64"
      ]
     },
     "execution_count": 7,
     "metadata": {},
     "output_type": "execute_result"
    }
   ],
   "source": [
    "# how many nonresponses\n",
    "df.isnull().sum()"
   ]
  },
  {
   "cell_type": "markdown",
   "metadata": {
    "slideshow": {
     "slide_type": "fragment"
    }
   },
   "source": [
    "We see that there are more nonresponses in the `enjoyed_least` category than the `enjoyed_most` category. So, more people left what they enjoyed least blank than they did what they enjoyed most."
   ]
  },
  {
   "cell_type": "code",
   "execution_count": 8,
   "metadata": {
    "scrolled": true
   },
   "outputs": [
    {
     "name": "stdout",
     "output_type": "stream",
     "text": [
      "quarter\n",
      "Fa20    27\n",
      "Sp19    58\n",
      "Sp20    23\n",
      "Wi20    33\n",
      "Wi21     0\n",
      "Wi24     0\n",
      "Name: enjoyed_most, dtype: int64 quarter\n",
      "Fa20    54\n",
      "Sp19    78\n",
      "Sp20    56\n",
      "Wi20    64\n",
      "Wi21    10\n",
      "Wi24    14\n",
      "Name: enjoyed_least, dtype: int64\n"
     ]
    }
   ],
   "source": [
    "# how does that look by quarter?\n",
    "null_most = df.groupby('quarter')['enjoyed_most'].apply(lambda x: x.isnull().sum())\n",
    "null_least = df.groupby('quarter')['enjoyed_least'].apply(lambda x: x.isnull().sum())\n",
    "\n",
    "print(null_most, null_least)"
   ]
  },
  {
   "cell_type": "markdown",
   "metadata": {},
   "source": [
    "We also see a decrease in Wi21 on. This is when I started requiring these questions (b/c I shortened the survey overall). "
   ]
  },
  {
   "cell_type": "markdown",
   "metadata": {
    "slideshow": {
     "slide_type": "fragment"
    }
   },
   "source": [
    "#### Previous Quarters\n",
    "\n",
    "Typically, there are a few people who have what they enjoy least but don't have an enjoy most....but often these students' feedback is of particular interest to me."
   ]
  },
  {
   "cell_type": "code",
   "execution_count": 9,
   "metadata": {},
   "outputs": [
    {
     "data": {
      "text/plain": [
       "['The PAs are a little bit challenging. I feel that lecture videos do not do a sufficient job in  preparing me for the PA',\n",
       " \"Doesn't feel like the hw and lectures are solidly connected\",\n",
       " 'The amount of work, pace of the course, and lack of connection between python notebook and lecture videos/notebooks.',\n",
       " 'The team final project',\n",
       " \"The quizzes. I feel like sometimes the quiz questions are a bit more advanced from lecture, which can be a good thing, but I don't know to expect it right after just watching the lecture.\",\n",
       " 'I have not really enjoyed having to take a quiz after every lecture video. I personally find having to take 7-10 quizzes a week slightly excessive but I do see the value in taking the quizzes. ',\n",
       " 'Seems to include a lot of important topics in data science, but only goes very briefly in every single one of them. Might be the purpose so that students are made aware of the basic concepts of such topics in data science and expected to learn deeper concepts in other concentrated classes. ',\n",
       " 'I think the tests and the hidden tests from assignments are not exhaustive.',\n",
       " 'The lack of leniency on the video quiz. I understand that the professor is generous enough to give 20 free quiz points, and students really do appreciate it. But I also hope that the professor and TAs know that us students can make a lot of mistakes, especially when it comes to managing our time. Some of us can get carried away with projects and work in other classes that we forget to take the video quizzes. Instead of restricting the quiz right away after the deadline, maybe implement a late penalty for them. This is just a suggestion, I am not in any ways trying to tell the professor and TAs how to do their job. However, I do hope you guys can take this input into account. ',\n",
       " \"There are too many quiz every week. And even if I watched the video very carefully, there will be some points deducted. We also don't know how to check whether our answer is correct, even if I pass the datahub's previous test, I may still lose points after turning in. This is weird\",\n",
       " 'assigned groups because I was looking forward to working with my friends',\n",
       " 'Coding....',\n",
       " 'The professor focus too much on statistics and spend insufficient time in coding',\n",
       " 'What I have liked the least of COGS108 is that I have had trouble with the assignments since I came in with a matlab background and not a python background. So basically not knowing the language has been tough. ',\n",
       " 'Assigned groups. I enrolled in the class with a group of friends under the assumption that we’d get to work together as in previous iterations of the course.',\n",
       " 'The professor talked a bit fast',\n",
       " \"I think lectures are not organized and they are extremely confusing. It would help if they were catered in a more content / topic based way. The homeworks are extremely difficult if you don't have python experience \",\n",
       " 'Not being able to work with friends on the group project. Trying to work with chosen groupmates who do not care about this class.']"
      ]
     },
     "execution_count": 9,
     "metadata": {},
     "output_type": "execute_result"
    }
   ],
   "source": [
    "# overall\n",
    "check_least = df[df['enjoyed_most'].isnull() & df['enjoyed_least'].notnull()]\n",
    "list(check_least['enjoyed_least'])"
   ]
  },
  {
   "cell_type": "markdown",
   "metadata": {
    "slideshow": {
     "slide_type": "fragment"
    }
   },
   "source": [
    "Missing data causes a problem in `nltk`, so we either get rid of individuals who didn't respond to both, or we can replace their missing data with 'No response', knowing that this text will be included in the analysis now."
   ]
  },
  {
   "cell_type": "code",
   "execution_count": 10,
   "metadata": {
    "slideshow": {
     "slide_type": "fragment"
    }
   },
   "outputs": [],
   "source": [
    "def fill_no_response(df):\n",
    "    '''replace missing data in enjoyed_most/least series with string No response'''\n",
    "    \n",
    "    df['enjoyed_most'] = df['enjoyed_most'].fillna('No response')\n",
    "    df['enjoyed_least'] = df['enjoyed_least'].fillna('No response')"
   ]
  },
  {
   "cell_type": "code",
   "execution_count": 11,
   "metadata": {
    "slideshow": {
     "slide_type": "-"
    }
   },
   "outputs": [],
   "source": [
    "# fill NAs with string 'No response'\n",
    "fill_no_response(df)"
   ]
  },
  {
   "cell_type": "markdown",
   "metadata": {
    "slideshow": {
     "slide_type": "slide"
    }
   },
   "source": [
    "## Quick checks: Words of interest\n",
    "\n"
   ]
  },
  {
   "cell_type": "code",
   "execution_count": 12,
   "metadata": {},
   "outputs": [],
   "source": [
    "def check_word_freq(df, word):\n",
    "    \"\"\"checks for frequenccy of word specified in most and least enjoyed responses\"\"\"\n",
    "    \n",
    "    # calculate proportion within quarter\n",
    "    word_most = df[df['enjoyed_most'].str.contains(word, case=False, na=False)]\n",
    "    proportion_most = word_most.groupby('quarter').size() / df.groupby('quarter').size()\n",
    "    \n",
    "    word_least = df[df['enjoyed_least'].str.contains(word, case=False, na=False)]\n",
    "    proportion_least = word_least.groupby('quarter').size() / df.groupby('quarter').size()\n",
    "    \n",
    "    out = combined_df = pd.concat([proportion_most, proportion_least], keys=['most', 'least'], axis=1)\n",
    "\n",
    "    return out"
   ]
  },
  {
   "cell_type": "markdown",
   "metadata": {
    "slideshow": {
     "slide_type": "fragment"
    }
   },
   "source": [
    "#### Assignment"
   ]
  },
  {
   "cell_type": "code",
   "execution_count": 13,
   "metadata": {
    "slideshow": {
     "slide_type": "-"
    }
   },
   "outputs": [
    {
     "data": {
      "text/html": [
       "<div>\n",
       "<style scoped>\n",
       "    .dataframe tbody tr th:only-of-type {\n",
       "        vertical-align: middle;\n",
       "    }\n",
       "\n",
       "    .dataframe tbody tr th {\n",
       "        vertical-align: top;\n",
       "    }\n",
       "\n",
       "    .dataframe thead th {\n",
       "        text-align: right;\n",
       "    }\n",
       "</style>\n",
       "<table border=\"1\" class=\"dataframe\">\n",
       "  <thead>\n",
       "    <tr style=\"text-align: right;\">\n",
       "      <th></th>\n",
       "      <th>most</th>\n",
       "      <th>least</th>\n",
       "    </tr>\n",
       "    <tr>\n",
       "      <th>quarter</th>\n",
       "      <th></th>\n",
       "      <th></th>\n",
       "    </tr>\n",
       "  </thead>\n",
       "  <tbody>\n",
       "    <tr>\n",
       "      <th>Fa20</th>\n",
       "      <td>0.171340</td>\n",
       "      <td>0.080997</td>\n",
       "    </tr>\n",
       "    <tr>\n",
       "      <th>Sp19</th>\n",
       "      <td>0.255208</td>\n",
       "      <td>0.117188</td>\n",
       "    </tr>\n",
       "    <tr>\n",
       "      <th>Sp20</th>\n",
       "      <td>0.123426</td>\n",
       "      <td>0.088161</td>\n",
       "    </tr>\n",
       "    <tr>\n",
       "      <th>Wi20</th>\n",
       "      <td>0.186441</td>\n",
       "      <td>0.176271</td>\n",
       "    </tr>\n",
       "    <tr>\n",
       "      <th>Wi21</th>\n",
       "      <td>0.200637</td>\n",
       "      <td>0.219745</td>\n",
       "    </tr>\n",
       "    <tr>\n",
       "      <th>Wi24</th>\n",
       "      <td>0.222603</td>\n",
       "      <td>0.239726</td>\n",
       "    </tr>\n",
       "  </tbody>\n",
       "</table>\n",
       "</div>"
      ],
      "text/plain": [
       "             most     least\n",
       "quarter                    \n",
       "Fa20     0.171340  0.080997\n",
       "Sp19     0.255208  0.117188\n",
       "Sp20     0.123426  0.088161\n",
       "Wi20     0.186441  0.176271\n",
       "Wi21     0.200637  0.219745\n",
       "Wi24     0.222603  0.239726"
      ]
     },
     "execution_count": 13,
     "metadata": {},
     "output_type": "execute_result"
    }
   ],
   "source": [
    "## check for assignment\n",
    "check_word_freq(df, 'assignment')"
   ]
  },
  {
   "cell_type": "markdown",
   "metadata": {
    "slideshow": {
     "slide_type": "slide"
    }
   },
   "source": [
    "#### Project"
   ]
  },
  {
   "cell_type": "code",
   "execution_count": 14,
   "metadata": {
    "scrolled": true,
    "slideshow": {
     "slide_type": "fragment"
    }
   },
   "outputs": [
    {
     "data": {
      "text/html": [
       "<div>\n",
       "<style scoped>\n",
       "    .dataframe tbody tr th:only-of-type {\n",
       "        vertical-align: middle;\n",
       "    }\n",
       "\n",
       "    .dataframe tbody tr th {\n",
       "        vertical-align: top;\n",
       "    }\n",
       "\n",
       "    .dataframe thead th {\n",
       "        text-align: right;\n",
       "    }\n",
       "</style>\n",
       "<table border=\"1\" class=\"dataframe\">\n",
       "  <thead>\n",
       "    <tr style=\"text-align: right;\">\n",
       "      <th></th>\n",
       "      <th>most</th>\n",
       "      <th>least</th>\n",
       "    </tr>\n",
       "    <tr>\n",
       "      <th>quarter</th>\n",
       "      <th></th>\n",
       "      <th></th>\n",
       "    </tr>\n",
       "  </thead>\n",
       "  <tbody>\n",
       "    <tr>\n",
       "      <th>Fa20</th>\n",
       "      <td>0.099688</td>\n",
       "      <td>0.137072</td>\n",
       "    </tr>\n",
       "    <tr>\n",
       "      <th>Sp19</th>\n",
       "      <td>0.106771</td>\n",
       "      <td>0.192708</td>\n",
       "    </tr>\n",
       "    <tr>\n",
       "      <th>Sp20</th>\n",
       "      <td>0.085642</td>\n",
       "      <td>0.108312</td>\n",
       "    </tr>\n",
       "    <tr>\n",
       "      <th>Wi20</th>\n",
       "      <td>0.118644</td>\n",
       "      <td>0.091525</td>\n",
       "    </tr>\n",
       "    <tr>\n",
       "      <th>Wi21</th>\n",
       "      <td>0.159236</td>\n",
       "      <td>0.146497</td>\n",
       "    </tr>\n",
       "    <tr>\n",
       "      <th>Wi24</th>\n",
       "      <td>0.116438</td>\n",
       "      <td>0.196918</td>\n",
       "    </tr>\n",
       "  </tbody>\n",
       "</table>\n",
       "</div>"
      ],
      "text/plain": [
       "             most     least\n",
       "quarter                    \n",
       "Fa20     0.099688  0.137072\n",
       "Sp19     0.106771  0.192708\n",
       "Sp20     0.085642  0.108312\n",
       "Wi20     0.118644  0.091525\n",
       "Wi21     0.159236  0.146497\n",
       "Wi24     0.116438  0.196918"
      ]
     },
     "execution_count": 14,
     "metadata": {},
     "output_type": "execute_result"
    }
   ],
   "source": [
    "## check for project in free text\n",
    "check_word_freq(df, 'project')"
   ]
  },
  {
   "cell_type": "code",
   "execution_count": 15,
   "metadata": {
    "scrolled": true,
    "slideshow": {
     "slide_type": "fragment"
    }
   },
   "outputs": [
    {
     "data": {
      "text/html": [
       "<div>\n",
       "<style scoped>\n",
       "    .dataframe tbody tr th:only-of-type {\n",
       "        vertical-align: middle;\n",
       "    }\n",
       "\n",
       "    .dataframe tbody tr th {\n",
       "        vertical-align: top;\n",
       "    }\n",
       "\n",
       "    .dataframe thead th {\n",
       "        text-align: right;\n",
       "    }\n",
       "</style>\n",
       "<table border=\"1\" class=\"dataframe\">\n",
       "  <thead>\n",
       "    <tr style=\"text-align: right;\">\n",
       "      <th></th>\n",
       "      <th>most</th>\n",
       "      <th>least</th>\n",
       "    </tr>\n",
       "    <tr>\n",
       "      <th>quarter</th>\n",
       "      <th></th>\n",
       "      <th></th>\n",
       "    </tr>\n",
       "  </thead>\n",
       "  <tbody>\n",
       "    <tr>\n",
       "      <th>Fa20</th>\n",
       "      <td>0.046729</td>\n",
       "      <td>0.056075</td>\n",
       "    </tr>\n",
       "    <tr>\n",
       "      <th>Sp19</th>\n",
       "      <td>0.059896</td>\n",
       "      <td>0.195312</td>\n",
       "    </tr>\n",
       "    <tr>\n",
       "      <th>Sp20</th>\n",
       "      <td>0.047859</td>\n",
       "      <td>0.042821</td>\n",
       "    </tr>\n",
       "    <tr>\n",
       "      <th>Wi20</th>\n",
       "      <td>0.037288</td>\n",
       "      <td>0.044068</td>\n",
       "    </tr>\n",
       "    <tr>\n",
       "      <th>Wi21</th>\n",
       "      <td>0.101911</td>\n",
       "      <td>0.108280</td>\n",
       "    </tr>\n",
       "    <tr>\n",
       "      <th>Wi24</th>\n",
       "      <td>0.058219</td>\n",
       "      <td>0.208904</td>\n",
       "    </tr>\n",
       "  </tbody>\n",
       "</table>\n",
       "</div>"
      ],
      "text/plain": [
       "             most     least\n",
       "quarter                    \n",
       "Fa20     0.046729  0.056075\n",
       "Sp19     0.059896  0.195312\n",
       "Sp20     0.047859  0.042821\n",
       "Wi20     0.037288  0.044068\n",
       "Wi21     0.101911  0.108280\n",
       "Wi24     0.058219  0.208904"
      ]
     },
     "execution_count": 15,
     "metadata": {},
     "output_type": "execute_result"
    }
   ],
   "source": [
    "## check for group in free text\n",
    "check_word_freq(df, 'group')"
   ]
  },
  {
   "cell_type": "markdown",
   "metadata": {
    "slideshow": {
     "slide_type": "fragment"
    }
   },
   "source": [
    "#### Quizzes"
   ]
  },
  {
   "cell_type": "code",
   "execution_count": 16,
   "metadata": {
    "scrolled": true,
    "slideshow": {
     "slide_type": "-"
    }
   },
   "outputs": [
    {
     "data": {
      "text/html": [
       "<div>\n",
       "<style scoped>\n",
       "    .dataframe tbody tr th:only-of-type {\n",
       "        vertical-align: middle;\n",
       "    }\n",
       "\n",
       "    .dataframe tbody tr th {\n",
       "        vertical-align: top;\n",
       "    }\n",
       "\n",
       "    .dataframe thead th {\n",
       "        text-align: right;\n",
       "    }\n",
       "</style>\n",
       "<table border=\"1\" class=\"dataframe\">\n",
       "  <thead>\n",
       "    <tr style=\"text-align: right;\">\n",
       "      <th></th>\n",
       "      <th>most</th>\n",
       "      <th>least</th>\n",
       "    </tr>\n",
       "    <tr>\n",
       "      <th>quarter</th>\n",
       "      <th></th>\n",
       "      <th></th>\n",
       "    </tr>\n",
       "  </thead>\n",
       "  <tbody>\n",
       "    <tr>\n",
       "      <th>Fa20</th>\n",
       "      <td>0.065421</td>\n",
       "      <td>0.302181</td>\n",
       "    </tr>\n",
       "    <tr>\n",
       "      <th>Sp19</th>\n",
       "      <td>NaN</td>\n",
       "      <td>NaN</td>\n",
       "    </tr>\n",
       "    <tr>\n",
       "      <th>Sp20</th>\n",
       "      <td>0.068010</td>\n",
       "      <td>0.362720</td>\n",
       "    </tr>\n",
       "    <tr>\n",
       "      <th>Wi20</th>\n",
       "      <td>0.016949</td>\n",
       "      <td>0.061017</td>\n",
       "    </tr>\n",
       "    <tr>\n",
       "      <th>Wi21</th>\n",
       "      <td>NaN</td>\n",
       "      <td>0.089172</td>\n",
       "    </tr>\n",
       "    <tr>\n",
       "      <th>Wi24</th>\n",
       "      <td>0.010274</td>\n",
       "      <td>0.071918</td>\n",
       "    </tr>\n",
       "  </tbody>\n",
       "</table>\n",
       "</div>"
      ],
      "text/plain": [
       "             most     least\n",
       "quarter                    \n",
       "Fa20     0.065421  0.302181\n",
       "Sp19          NaN       NaN\n",
       "Sp20     0.068010  0.362720\n",
       "Wi20     0.016949  0.061017\n",
       "Wi21          NaN  0.089172\n",
       "Wi24     0.010274  0.071918"
      ]
     },
     "execution_count": 16,
     "metadata": {},
     "output_type": "execute_result"
    }
   ],
   "source": [
    "check_word_freq(df, 'quiz')"
   ]
  },
  {
   "cell_type": "markdown",
   "metadata": {
    "slideshow": {
     "slide_type": "fragment"
    }
   },
   "source": [
    "#### Labs"
   ]
  },
  {
   "cell_type": "code",
   "execution_count": 17,
   "metadata": {
    "slideshow": {
     "slide_type": "-"
    }
   },
   "outputs": [
    {
     "data": {
      "text/html": [
       "<div>\n",
       "<style scoped>\n",
       "    .dataframe tbody tr th:only-of-type {\n",
       "        vertical-align: middle;\n",
       "    }\n",
       "\n",
       "    .dataframe tbody tr th {\n",
       "        vertical-align: top;\n",
       "    }\n",
       "\n",
       "    .dataframe thead th {\n",
       "        text-align: right;\n",
       "    }\n",
       "</style>\n",
       "<table border=\"1\" class=\"dataframe\">\n",
       "  <thead>\n",
       "    <tr style=\"text-align: right;\">\n",
       "      <th></th>\n",
       "      <th>most</th>\n",
       "      <th>least</th>\n",
       "    </tr>\n",
       "    <tr>\n",
       "      <th>quarter</th>\n",
       "      <th></th>\n",
       "      <th></th>\n",
       "    </tr>\n",
       "  </thead>\n",
       "  <tbody>\n",
       "    <tr>\n",
       "      <th>Fa20</th>\n",
       "      <td>0.009346</td>\n",
       "      <td>0.006231</td>\n",
       "    </tr>\n",
       "    <tr>\n",
       "      <th>Sp19</th>\n",
       "      <td>0.010417</td>\n",
       "      <td>0.010417</td>\n",
       "    </tr>\n",
       "    <tr>\n",
       "      <th>Sp20</th>\n",
       "      <td>0.020151</td>\n",
       "      <td>0.015113</td>\n",
       "    </tr>\n",
       "    <tr>\n",
       "      <th>Wi20</th>\n",
       "      <td>0.010169</td>\n",
       "      <td>0.003390</td>\n",
       "    </tr>\n",
       "    <tr>\n",
       "      <th>Wi21</th>\n",
       "      <td>0.060510</td>\n",
       "      <td>0.076433</td>\n",
       "    </tr>\n",
       "    <tr>\n",
       "      <th>Wi24</th>\n",
       "      <td>0.121575</td>\n",
       "      <td>0.109589</td>\n",
       "    </tr>\n",
       "  </tbody>\n",
       "</table>\n",
       "</div>"
      ],
      "text/plain": [
       "             most     least\n",
       "quarter                    \n",
       "Fa20     0.009346  0.006231\n",
       "Sp19     0.010417  0.010417\n",
       "Sp20     0.020151  0.015113\n",
       "Wi20     0.010169  0.003390\n",
       "Wi21     0.060510  0.076433\n",
       "Wi24     0.121575  0.109589"
      ]
     },
     "execution_count": 17,
     "metadata": {},
     "output_type": "execute_result"
    }
   ],
   "source": [
    "check_word_freq(df, 'lab')"
   ]
  },
  {
   "cell_type": "markdown",
   "metadata": {
    "slideshow": {
     "slide_type": "slide"
    }
   },
   "source": [
    "## Sentiment Analysis\n",
    "\n",
    "We get a quick snapshot of what's going on in COGS 108, but we really want to understand the details. To do this, analyzing the sentiment of the text is a good next step."
   ]
  },
  {
   "cell_type": "markdown",
   "metadata": {
    "slideshow": {
     "slide_type": "slide"
    }
   },
   "source": [
    "#### Step 1: Tokenization\n",
    "\n",
    "Tokenization is the first step in analyzing text. \n",
    "\n",
    "1. Aquire text of interest\n",
    "2. Break text down (tokenize) into smaller chunks (i.e. words, bigrams, sentences, etc.)\n",
    "\n",
    "A **token** is a single entity - think of it as a building block of language."
   ]
  },
  {
   "cell_type": "markdown",
   "metadata": {
    "slideshow": {
     "slide_type": "slide"
    }
   },
   "source": [
    "### Tokenization Example\n",
    "\n",
    "Here we demonstrate what a tokenized single response looks like."
   ]
  },
  {
   "cell_type": "code",
   "execution_count": 18,
   "metadata": {
    "slideshow": {
     "slide_type": "fragment"
    }
   },
   "outputs": [],
   "source": [
    "# import regex word tokenizer\n",
    "from nltk.tokenize import RegexpTokenizer\n",
    "tokenizer = RegexpTokenizer(r'\\w+')"
   ]
  },
  {
   "cell_type": "code",
   "execution_count": 19,
   "metadata": {},
   "outputs": [
    {
     "data": {
      "text/plain": [
       "'The pace is moderate, easy to follow but not boring.'"
      ]
     },
     "execution_count": 19,
     "metadata": {},
     "output_type": "execute_result"
    }
   ],
   "source": [
    "df.loc[0,'enjoyed_most']"
   ]
  },
  {
   "cell_type": "code",
   "execution_count": 20,
   "metadata": {
    "scrolled": true,
    "slideshow": {
     "slide_type": "fragment"
    }
   },
   "outputs": [
    {
     "name": "stdout",
     "output_type": "stream",
     "text": [
      "['The', 'pace', 'is', 'moderate', 'easy', 'to', 'follow', 'but', 'not', 'boring']\n"
     ]
    }
   ],
   "source": [
    "tokenized_word = tokenizer.tokenize(df.loc[0,'enjoyed_most'])\n",
    "print(tokenized_word)"
   ]
  },
  {
   "cell_type": "markdown",
   "metadata": {
    "slideshow": {
     "slide_type": "slide"
    }
   },
   "source": [
    "#### Tokenize COGS108 data\n",
    "\n",
    "Using that concept we'll tokenize the words in the enjoyed_most and `enjoyed_least` columns for the data in our COGS108 data."
   ]
  },
  {
   "cell_type": "code",
   "execution_count": 21,
   "metadata": {
    "scrolled": true,
    "slideshow": {
     "slide_type": "fragment"
    }
   },
   "outputs": [
    {
     "data": {
      "text/html": [
       "<div>\n",
       "<style scoped>\n",
       "    .dataframe tbody tr th:only-of-type {\n",
       "        vertical-align: middle;\n",
       "    }\n",
       "\n",
       "    .dataframe tbody tr th {\n",
       "        vertical-align: top;\n",
       "    }\n",
       "\n",
       "    .dataframe thead th {\n",
       "        text-align: right;\n",
       "    }\n",
       "</style>\n",
       "<table border=\"1\" class=\"dataframe\">\n",
       "  <thead>\n",
       "    <tr style=\"text-align: right;\">\n",
       "      <th></th>\n",
       "      <th>enjoyed_most</th>\n",
       "      <th>enjoyed_least</th>\n",
       "      <th>quarter</th>\n",
       "      <th>most_token</th>\n",
       "      <th>least_token</th>\n",
       "    </tr>\n",
       "  </thead>\n",
       "  <tbody>\n",
       "    <tr>\n",
       "      <th>0</th>\n",
       "      <td>The pace is moderate, easy to follow but not b...</td>\n",
       "      <td>We have to work in a group. personally speakin...</td>\n",
       "      <td>Wi24</td>\n",
       "      <td>[The, pace, is, moderate, easy, to, follow, bu...</td>\n",
       "      <td>[We, have, to, work, in, a, group, personally,...</td>\n",
       "    </tr>\n",
       "    <tr>\n",
       "      <th>1</th>\n",
       "      <td>I enjoy exploring data science more using Python.</td>\n",
       "      <td>I don't really like when labs, lecture, and as...</td>\n",
       "      <td>Wi24</td>\n",
       "      <td>[I, enjoy, exploring, data, science, more, usi...</td>\n",
       "      <td>[I, don, t, really, like, when, labs, lecture,...</td>\n",
       "    </tr>\n",
       "    <tr>\n",
       "      <th>2</th>\n",
       "      <td>guest lectures, being able to hear real life e...</td>\n",
       "      <td>weekly lecture quizzes</td>\n",
       "      <td>Wi24</td>\n",
       "      <td>[guest, lectures, being, able, to, hear, real,...</td>\n",
       "      <td>[weekly, lecture, quizzes]</td>\n",
       "    </tr>\n",
       "    <tr>\n",
       "      <th>3</th>\n",
       "      <td>Assignment, there is a step by step guide how ...</td>\n",
       "      <td>Assignment, because its also time consuming.</td>\n",
       "      <td>Wi24</td>\n",
       "      <td>[Assignment, there, is, a, step, by, step, gui...</td>\n",
       "      <td>[Assignment, because, its, also, time, consuming]</td>\n",
       "    </tr>\n",
       "    <tr>\n",
       "      <th>4</th>\n",
       "      <td>Coding</td>\n",
       "      <td>Group members not responding</td>\n",
       "      <td>Wi24</td>\n",
       "      <td>[Coding]</td>\n",
       "      <td>[Group, members, not, responding]</td>\n",
       "    </tr>\n",
       "  </tbody>\n",
       "</table>\n",
       "</div>"
      ],
      "text/plain": [
       "                                        enjoyed_most  \\\n",
       "0  The pace is moderate, easy to follow but not b...   \n",
       "1  I enjoy exploring data science more using Python.   \n",
       "2  guest lectures, being able to hear real life e...   \n",
       "3  Assignment, there is a step by step guide how ...   \n",
       "4                                             Coding   \n",
       "\n",
       "                                       enjoyed_least quarter  \\\n",
       "0  We have to work in a group. personally speakin...    Wi24   \n",
       "1  I don't really like when labs, lecture, and as...    Wi24   \n",
       "2                             weekly lecture quizzes    Wi24   \n",
       "3       Assignment, because its also time consuming.    Wi24   \n",
       "4                       Group members not responding    Wi24   \n",
       "\n",
       "                                          most_token  \\\n",
       "0  [The, pace, is, moderate, easy, to, follow, bu...   \n",
       "1  [I, enjoy, exploring, data, science, more, usi...   \n",
       "2  [guest, lectures, being, able, to, hear, real,...   \n",
       "3  [Assignment, there, is, a, step, by, step, gui...   \n",
       "4                                           [Coding]   \n",
       "\n",
       "                                         least_token  \n",
       "0  [We, have, to, work, in, a, group, personally,...  \n",
       "1  [I, don, t, really, like, when, labs, lecture,...  \n",
       "2                         [weekly, lecture, quizzes]  \n",
       "3  [Assignment, because, its, also, time, consuming]  \n",
       "4                  [Group, members, not, responding]  "
      ]
     },
     "execution_count": 21,
     "metadata": {},
     "output_type": "execute_result"
    }
   ],
   "source": [
    "# tokenize most and least responses\n",
    "df['most_token'] = df['enjoyed_most'].apply(tokenizer.tokenize) \n",
    "df['least_token'] = df['enjoyed_least'].apply(tokenizer.tokenize) \n",
    "df.head()"
   ]
  },
  {
   "cell_type": "markdown",
   "metadata": {
    "slideshow": {
     "slide_type": "slide"
    }
   },
   "source": [
    "#### Step 2: Stop Words\n",
    "\n",
    "**Stop words** are words that are of less interest to your analysis. \n",
    "\n",
    "For example, you wouldn't expect the following words to be important: is, am, are, this, a, an, the, etc.\n",
    "\n",
    "By removing stopwords, you can lower the computational burden, focusing on only the words of interest.\n",
    "\n",
    "To do so in `nltk`, you need to create a list of stopwords and filter them from your tokens.\n"
   ]
  },
  {
   "cell_type": "code",
   "execution_count": 22,
   "metadata": {
    "scrolled": true,
    "slideshow": {
     "slide_type": "fragment"
    }
   },
   "outputs": [
    {
     "name": "stdout",
     "output_type": "stream",
     "text": [
      "{'should', 'hasn', 'most', \"shouldn't\", 'of', 'when', 'or', 'd', 'shan', 'this', 'above', 'aren', 'which', 'them', \"wasn't\", 'do', 'myself', 'whom', \"wouldn't\", 'off', 'was', 'how', 'so', 'such', 'being', 'with', 'wouldn', 'same', \"it's\", 'has', 'further', 'once', 'couldn', 'between', 'yours', 'why', 'few', 'themselves', 'm', 'needn', 'out', 'during', \"hasn't\", 'through', 'nor', \"aren't\", 'down', 'haven', 'am', \"haven't\", 'hers', \"you'll\", 'mustn', 'herself', 'shouldn', 'now', 'she', 'been', 'too', 's', 'having', 'there', 'from', 'wasn', 'as', 'here', \"she's\", 'him', 'itself', 'other', 'you', 'our', 'than', 'against', 'what', \"should've\", \"you're\", 'can', 'over', 'ain', 'who', 'their', 'then', 'only', 'i', 'ours', 'not', 'but', 'he', 'by', \"won't\", 'while', 'himself', 'at', 'very', 'and', 'after', 'your', 'had', 'isn', 'on', 'is', \"that'll\", \"isn't\", 'are', 'doesn', 'll', 'be', 'were', \"you'd\", 'yourselves', 't', 'if', 'before', 'those', 'where', 'into', 'they', 'the', 'don', 'ourselves', 'for', \"didn't\", 'theirs', 'his', 'does', 'again', 'ma', 've', 'some', 'all', \"mustn't\", \"shan't\", 'that', 'until', 'about', 'weren', 'yourself', \"doesn't\", 'own', \"couldn't\", 'below', 'these', 'have', 'just', 'under', 'won', \"needn't\", 'because', 'hadn', 'more', 'doing', 'we', 'did', \"don't\", 'a', 'her', 'up', \"you've\", \"weren't\", 'mightn', \"hadn't\", 'o', 'in', 'my', 'didn', 'to', 're', 'both', 'will', 'no', 'its', 'y', \"mightn't\", 'me', 'it', 'each', 'an', 'any'}\n"
     ]
    }
   ],
   "source": [
    "# import stop words\n",
    "from nltk.corpus import stopwords\n",
    "stop_words = set(stopwords.words('english'))\n",
    "\n",
    "# look at stop words\n",
    "print(stop_words)"
   ]
  },
  {
   "cell_type": "markdown",
   "metadata": {
    "slideshow": {
     "slide_type": "slide"
    }
   },
   "source": [
    "### Stop Words Example\n",
    "\n",
    "Here we compare a sentence after tokenization to one that has been tokenized _and had stop words removed_."
   ]
  },
  {
   "cell_type": "code",
   "execution_count": 23,
   "metadata": {
    "slideshow": {
     "slide_type": "fragment"
    }
   },
   "outputs": [
    {
     "name": "stdout",
     "output_type": "stream",
     "text": [
      "Tokenized Sentence: ['The', 'pace', 'is', 'moderate', 'easy', 'to', 'follow', 'but', 'not', 'boring']\n",
      "Filtered Sentence: ['The', 'pace', 'moderate', 'easy', 'follow', 'boring']\n"
     ]
    }
   ],
   "source": [
    "# example of removing stop words\n",
    "filtered_sent=[]\n",
    "for w in tokenized_word:\n",
    "    if w not in stop_words:\n",
    "        filtered_sent.append(w)\n",
    "print(\"Tokenized Sentence:\", tokenized_word)\n",
    "print(\"Filtered Sentence:\", filtered_sent)"
   ]
  },
  {
   "cell_type": "markdown",
   "metadata": {
    "slideshow": {
     "slide_type": "slide"
    }
   },
   "source": [
    "#### Remove Stop Words: COGS108 data\n",
    "\n",
    "Using that idea, we can go ahead and remove stop words from our tokenized most and least liked tokenized data."
   ]
  },
  {
   "cell_type": "code",
   "execution_count": 24,
   "metadata": {
    "scrolled": false,
    "slideshow": {
     "slide_type": "fragment"
    }
   },
   "outputs": [
    {
     "data": {
      "text/html": [
       "<div>\n",
       "<style scoped>\n",
       "    .dataframe tbody tr th:only-of-type {\n",
       "        vertical-align: middle;\n",
       "    }\n",
       "\n",
       "    .dataframe tbody tr th {\n",
       "        vertical-align: top;\n",
       "    }\n",
       "\n",
       "    .dataframe thead th {\n",
       "        text-align: right;\n",
       "    }\n",
       "</style>\n",
       "<table border=\"1\" class=\"dataframe\">\n",
       "  <thead>\n",
       "    <tr style=\"text-align: right;\">\n",
       "      <th></th>\n",
       "      <th>enjoyed_most</th>\n",
       "      <th>enjoyed_least</th>\n",
       "      <th>quarter</th>\n",
       "      <th>most_token</th>\n",
       "      <th>least_token</th>\n",
       "      <th>most_stop</th>\n",
       "      <th>least_stop</th>\n",
       "    </tr>\n",
       "  </thead>\n",
       "  <tbody>\n",
       "    <tr>\n",
       "      <th>0</th>\n",
       "      <td>The pace is moderate, easy to follow but not b...</td>\n",
       "      <td>We have to work in a group. personally speakin...</td>\n",
       "      <td>Wi24</td>\n",
       "      <td>[The, pace, is, moderate, easy, to, follow, bu...</td>\n",
       "      <td>[We, have, to, work, in, a, group, personally,...</td>\n",
       "      <td>[The, pace, moderate, easy, follow, boring]</td>\n",
       "      <td>[We, work, group, personally, speaking, I, don...</td>\n",
       "    </tr>\n",
       "    <tr>\n",
       "      <th>1</th>\n",
       "      <td>I enjoy exploring data science more using Python.</td>\n",
       "      <td>I don't really like when labs, lecture, and as...</td>\n",
       "      <td>Wi24</td>\n",
       "      <td>[I, enjoy, exploring, data, science, more, usi...</td>\n",
       "      <td>[I, don, t, really, like, when, labs, lecture,...</td>\n",
       "      <td>[I, enjoy, exploring, data, science, using, Py...</td>\n",
       "      <td>[I, really, like, labs, lecture, assignments, ...</td>\n",
       "    </tr>\n",
       "    <tr>\n",
       "      <th>2</th>\n",
       "      <td>guest lectures, being able to hear real life e...</td>\n",
       "      <td>weekly lecture quizzes</td>\n",
       "      <td>Wi24</td>\n",
       "      <td>[guest, lectures, being, able, to, hear, real,...</td>\n",
       "      <td>[weekly, lecture, quizzes]</td>\n",
       "      <td>[guest, lectures, able, hear, real, life, expe...</td>\n",
       "      <td>[weekly, lecture, quizzes]</td>\n",
       "    </tr>\n",
       "    <tr>\n",
       "      <th>3</th>\n",
       "      <td>Assignment, there is a step by step guide how ...</td>\n",
       "      <td>Assignment, because its also time consuming.</td>\n",
       "      <td>Wi24</td>\n",
       "      <td>[Assignment, there, is, a, step, by, step, gui...</td>\n",
       "      <td>[Assignment, because, its, also, time, consuming]</td>\n",
       "      <td>[Assignment, step, step, guide, finish, assign...</td>\n",
       "      <td>[Assignment, also, time, consuming]</td>\n",
       "    </tr>\n",
       "    <tr>\n",
       "      <th>4</th>\n",
       "      <td>Coding</td>\n",
       "      <td>Group members not responding</td>\n",
       "      <td>Wi24</td>\n",
       "      <td>[Coding]</td>\n",
       "      <td>[Group, members, not, responding]</td>\n",
       "      <td>[Coding]</td>\n",
       "      <td>[Group, members, responding]</td>\n",
       "    </tr>\n",
       "  </tbody>\n",
       "</table>\n",
       "</div>"
      ],
      "text/plain": [
       "                                        enjoyed_most  \\\n",
       "0  The pace is moderate, easy to follow but not b...   \n",
       "1  I enjoy exploring data science more using Python.   \n",
       "2  guest lectures, being able to hear real life e...   \n",
       "3  Assignment, there is a step by step guide how ...   \n",
       "4                                             Coding   \n",
       "\n",
       "                                       enjoyed_least quarter  \\\n",
       "0  We have to work in a group. personally speakin...    Wi24   \n",
       "1  I don't really like when labs, lecture, and as...    Wi24   \n",
       "2                             weekly lecture quizzes    Wi24   \n",
       "3       Assignment, because its also time consuming.    Wi24   \n",
       "4                       Group members not responding    Wi24   \n",
       "\n",
       "                                          most_token  \\\n",
       "0  [The, pace, is, moderate, easy, to, follow, bu...   \n",
       "1  [I, enjoy, exploring, data, science, more, usi...   \n",
       "2  [guest, lectures, being, able, to, hear, real,...   \n",
       "3  [Assignment, there, is, a, step, by, step, gui...   \n",
       "4                                           [Coding]   \n",
       "\n",
       "                                         least_token  \\\n",
       "0  [We, have, to, work, in, a, group, personally,...   \n",
       "1  [I, don, t, really, like, when, labs, lecture,...   \n",
       "2                         [weekly, lecture, quizzes]   \n",
       "3  [Assignment, because, its, also, time, consuming]   \n",
       "4                  [Group, members, not, responding]   \n",
       "\n",
       "                                           most_stop  \\\n",
       "0        [The, pace, moderate, easy, follow, boring]   \n",
       "1  [I, enjoy, exploring, data, science, using, Py...   \n",
       "2  [guest, lectures, able, hear, real, life, expe...   \n",
       "3  [Assignment, step, step, guide, finish, assign...   \n",
       "4                                           [Coding]   \n",
       "\n",
       "                                          least_stop  \n",
       "0  [We, work, group, personally, speaking, I, don...  \n",
       "1  [I, really, like, labs, lecture, assignments, ...  \n",
       "2                         [weekly, lecture, quizzes]  \n",
       "3                [Assignment, also, time, consuming]  \n",
       "4                       [Group, members, responding]  "
      ]
     },
     "execution_count": 24,
     "metadata": {},
     "output_type": "execute_result"
    }
   ],
   "source": [
    "# remove stop words\n",
    "df['most_stop'] = df['most_token'].apply(lambda x: [item for item in x if item not in stop_words])\n",
    "df['least_stop'] = df['least_token'].apply(lambda x: [item for item in x if item not in stop_words])\n",
    "df.head()"
   ]
  },
  {
   "cell_type": "markdown",
   "metadata": {
    "slideshow": {
     "slide_type": "slide"
    }
   },
   "source": [
    "#### Step 3: Lexicon Normalization (**Stemming**)\n",
    "\n",
    "In language, many different words come from the same root word. \n",
    "\n",
    "For example, \"intersection\", \"intersecting\", \"intersects\", and \"intersected\" are all related to the common root word - \"intersect\".\n",
    "\n",
    "**Stemming** is how linguistic normalization occurs - it reduces words to their root words (and chops off additional things like 'ing') - all of the above words would be reduced to their common stem \"intersect.\"\n",
    "\n",
    "\n",
    "\n",
    "\n"
   ]
  },
  {
   "cell_type": "markdown",
   "metadata": {
    "slideshow": {
     "slide_type": "slide"
    }
   },
   "source": [
    "### Stemming Example\n",
    "\n",
    "After tokenization and removing stop words, we can get the stem for all tokens (words) in our dataset."
   ]
  },
  {
   "cell_type": "code",
   "execution_count": 25,
   "metadata": {
    "scrolled": true,
    "slideshow": {
     "slide_type": "fragment"
    }
   },
   "outputs": [
    {
     "name": "stdout",
     "output_type": "stream",
     "text": [
      "Filtered Sentence: ['The', 'pace', 'moderate', 'easy', 'follow', 'boring']\n",
      "Stemmed Sentence: ['the', 'pace', 'moder', 'easi', 'follow', 'bore']\n"
     ]
    }
   ],
   "source": [
    "# Stemming\n",
    "from nltk.stem import PorterStemmer\n",
    "\n",
    "ps = PorterStemmer()\n",
    "\n",
    "stemmed_words=[]\n",
    "for w in filtered_sent:\n",
    "    stemmed_words.append(ps.stem(w))\n",
    "\n",
    "print(\"Filtered Sentence:\", filtered_sent)\n",
    "print(\"Stemmed Sentence:\", stemmed_words)"
   ]
  },
  {
   "cell_type": "markdown",
   "metadata": {
    "slideshow": {
     "slide_type": "slide"
    }
   },
   "source": [
    "#### Stemming: COGS108 data\n",
    "\n",
    "Here, we obtain the stem (root word) for all tokens in our dataset."
   ]
  },
  {
   "cell_type": "code",
   "execution_count": 26,
   "metadata": {
    "scrolled": true,
    "slideshow": {
     "slide_type": "fragment"
    }
   },
   "outputs": [
    {
     "data": {
      "text/html": [
       "<div>\n",
       "<style scoped>\n",
       "    .dataframe tbody tr th:only-of-type {\n",
       "        vertical-align: middle;\n",
       "    }\n",
       "\n",
       "    .dataframe tbody tr th {\n",
       "        vertical-align: top;\n",
       "    }\n",
       "\n",
       "    .dataframe thead th {\n",
       "        text-align: right;\n",
       "    }\n",
       "</style>\n",
       "<table border=\"1\" class=\"dataframe\">\n",
       "  <thead>\n",
       "    <tr style=\"text-align: right;\">\n",
       "      <th></th>\n",
       "      <th>enjoyed_most</th>\n",
       "      <th>enjoyed_least</th>\n",
       "      <th>quarter</th>\n",
       "      <th>most_token</th>\n",
       "      <th>least_token</th>\n",
       "      <th>most_stop</th>\n",
       "      <th>least_stop</th>\n",
       "      <th>most_stem</th>\n",
       "      <th>least_stem</th>\n",
       "    </tr>\n",
       "  </thead>\n",
       "  <tbody>\n",
       "    <tr>\n",
       "      <th>0</th>\n",
       "      <td>The pace is moderate, easy to follow but not b...</td>\n",
       "      <td>We have to work in a group. personally speakin...</td>\n",
       "      <td>Wi24</td>\n",
       "      <td>[The, pace, is, moderate, easy, to, follow, bu...</td>\n",
       "      <td>[We, have, to, work, in, a, group, personally,...</td>\n",
       "      <td>[The, pace, moderate, easy, follow, boring]</td>\n",
       "      <td>[We, work, group, personally, speaking, I, don...</td>\n",
       "      <td>[the, pace, moder, easi, follow, bore]</td>\n",
       "      <td>[we, work, group, person, speak, i, dont, like...</td>\n",
       "    </tr>\n",
       "    <tr>\n",
       "      <th>1</th>\n",
       "      <td>I enjoy exploring data science more using Python.</td>\n",
       "      <td>I don't really like when labs, lecture, and as...</td>\n",
       "      <td>Wi24</td>\n",
       "      <td>[I, enjoy, exploring, data, science, more, usi...</td>\n",
       "      <td>[I, don, t, really, like, when, labs, lecture,...</td>\n",
       "      <td>[I, enjoy, exploring, data, science, using, Py...</td>\n",
       "      <td>[I, really, like, labs, lecture, assignments, ...</td>\n",
       "      <td>[i, enjoy, explor, data, scienc, use, python]</td>\n",
       "      <td>[i, realli, like, lab, lectur, assign, releas,...</td>\n",
       "    </tr>\n",
       "    <tr>\n",
       "      <th>2</th>\n",
       "      <td>guest lectures, being able to hear real life e...</td>\n",
       "      <td>weekly lecture quizzes</td>\n",
       "      <td>Wi24</td>\n",
       "      <td>[guest, lectures, being, able, to, hear, real,...</td>\n",
       "      <td>[weekly, lecture, quizzes]</td>\n",
       "      <td>[guest, lectures, able, hear, real, life, expe...</td>\n",
       "      <td>[weekly, lecture, quizzes]</td>\n",
       "      <td>[guest, lectur, abl, hear, real, life, experi,...</td>\n",
       "      <td>[weekli, lectur, quizz]</td>\n",
       "    </tr>\n",
       "    <tr>\n",
       "      <th>3</th>\n",
       "      <td>Assignment, there is a step by step guide how ...</td>\n",
       "      <td>Assignment, because its also time consuming.</td>\n",
       "      <td>Wi24</td>\n",
       "      <td>[Assignment, there, is, a, step, by, step, gui...</td>\n",
       "      <td>[Assignment, because, its, also, time, consuming]</td>\n",
       "      <td>[Assignment, step, step, guide, finish, assign...</td>\n",
       "      <td>[Assignment, also, time, consuming]</td>\n",
       "      <td>[assign, step, step, guid, finish, assign, by,...</td>\n",
       "      <td>[assign, also, time, consum]</td>\n",
       "    </tr>\n",
       "    <tr>\n",
       "      <th>4</th>\n",
       "      <td>Coding</td>\n",
       "      <td>Group members not responding</td>\n",
       "      <td>Wi24</td>\n",
       "      <td>[Coding]</td>\n",
       "      <td>[Group, members, not, responding]</td>\n",
       "      <td>[Coding]</td>\n",
       "      <td>[Group, members, responding]</td>\n",
       "      <td>[code]</td>\n",
       "      <td>[group, member, respond]</td>\n",
       "    </tr>\n",
       "  </tbody>\n",
       "</table>\n",
       "</div>"
      ],
      "text/plain": [
       "                                        enjoyed_most  \\\n",
       "0  The pace is moderate, easy to follow but not b...   \n",
       "1  I enjoy exploring data science more using Python.   \n",
       "2  guest lectures, being able to hear real life e...   \n",
       "3  Assignment, there is a step by step guide how ...   \n",
       "4                                             Coding   \n",
       "\n",
       "                                       enjoyed_least quarter  \\\n",
       "0  We have to work in a group. personally speakin...    Wi24   \n",
       "1  I don't really like when labs, lecture, and as...    Wi24   \n",
       "2                             weekly lecture quizzes    Wi24   \n",
       "3       Assignment, because its also time consuming.    Wi24   \n",
       "4                       Group members not responding    Wi24   \n",
       "\n",
       "                                          most_token  \\\n",
       "0  [The, pace, is, moderate, easy, to, follow, bu...   \n",
       "1  [I, enjoy, exploring, data, science, more, usi...   \n",
       "2  [guest, lectures, being, able, to, hear, real,...   \n",
       "3  [Assignment, there, is, a, step, by, step, gui...   \n",
       "4                                           [Coding]   \n",
       "\n",
       "                                         least_token  \\\n",
       "0  [We, have, to, work, in, a, group, personally,...   \n",
       "1  [I, don, t, really, like, when, labs, lecture,...   \n",
       "2                         [weekly, lecture, quizzes]   \n",
       "3  [Assignment, because, its, also, time, consuming]   \n",
       "4                  [Group, members, not, responding]   \n",
       "\n",
       "                                           most_stop  \\\n",
       "0        [The, pace, moderate, easy, follow, boring]   \n",
       "1  [I, enjoy, exploring, data, science, using, Py...   \n",
       "2  [guest, lectures, able, hear, real, life, expe...   \n",
       "3  [Assignment, step, step, guide, finish, assign...   \n",
       "4                                           [Coding]   \n",
       "\n",
       "                                          least_stop  \\\n",
       "0  [We, work, group, personally, speaking, I, don...   \n",
       "1  [I, really, like, labs, lecture, assignments, ...   \n",
       "2                         [weekly, lecture, quizzes]   \n",
       "3                [Assignment, also, time, consuming]   \n",
       "4                       [Group, members, responding]   \n",
       "\n",
       "                                           most_stem  \\\n",
       "0             [the, pace, moder, easi, follow, bore]   \n",
       "1      [i, enjoy, explor, data, scienc, use, python]   \n",
       "2  [guest, lectur, abl, hear, real, life, experi,...   \n",
       "3  [assign, step, step, guid, finish, assign, by,...   \n",
       "4                                             [code]   \n",
       "\n",
       "                                          least_stem  \n",
       "0  [we, work, group, person, speak, i, dont, like...  \n",
       "1  [i, realli, like, lab, lectur, assign, releas,...  \n",
       "2                            [weekli, lectur, quizz]  \n",
       "3                       [assign, also, time, consum]  \n",
       "4                           [group, member, respond]  "
      ]
     },
     "execution_count": 26,
     "metadata": {},
     "output_type": "execute_result"
    }
   ],
   "source": [
    "df['most_stem'] = df['most_stop'].apply(lambda x: [ps.stem(y) for y in x])\n",
    "df['least_stem'] = df['least_stop'].apply(lambda x: [ps.stem(y) for y in x])\n",
    "df.head()"
   ]
  },
  {
   "cell_type": "markdown",
   "metadata": {
    "slideshow": {
     "slide_type": "slide"
    }
   },
   "source": [
    "#### Step 4: Frequency Distribution\n",
    "\n",
    "It can be helpful to get a sense of which words are most frequent in our dataset."
   ]
  },
  {
   "cell_type": "code",
   "execution_count": 27,
   "metadata": {
    "slideshow": {
     "slide_type": "fragment"
    }
   },
   "outputs": [],
   "source": [
    "# get series of all most and least liked words after stemming\n",
    "# note that \"No Response\" is still being included in the analysis\n",
    "most = df['most_stem'].apply(pd.Series).stack()\n",
    "least = df['least_stem'].apply(pd.Series).stack()"
   ]
  },
  {
   "cell_type": "markdown",
   "metadata": {
    "slideshow": {
     "slide_type": "fragment"
    }
   },
   "source": [
    "`FreqDist` calculates the frequency of each word in the text and we can plot the most frequent words."
   ]
  },
  {
   "cell_type": "code",
   "execution_count": 28,
   "metadata": {
    "slideshow": {
     "slide_type": "fragment"
    }
   },
   "outputs": [],
   "source": [
    "from nltk.probability import FreqDist\n",
    "import string\n",
    "\n",
    "# calculation word frequency\n",
    "fdist_most = FreqDist(most)\n",
    "fdist_least = FreqDist(least)\n",
    "\n",
    "# remove punctuation counts\n",
    "for punc in string.punctuation:\n",
    "    del fdist_most[punc]\n",
    "    del fdist_least[punc]"
   ]
  },
  {
   "cell_type": "code",
   "execution_count": 31,
   "metadata": {
    "scrolled": true
   },
   "outputs": [
    {
     "data": {
      "image/png": "[encoded data removed]",
      "text/plain": [
       "<Figure size 1224x504 with 1 Axes>"
      ]
     },
     "metadata": {
      "image/png": {
       "height": 480,
       "width": 1023
      },
      "needs_background": "light"
     },
     "output_type": "display_data"
    }
   ],
   "source": [
    "# Frequency Distribution Plot - top 20\n",
    "# for words in what students like most\n",
    "fdist_least.plot(20, cumulative=False);"
   ]
  },
  {
   "cell_type": "markdown",
   "metadata": {
    "slideshow": {
     "slide_type": "slide"
    }
   },
   "source": [
    "#### Step 5: Sentiment Analysis!\n",
    "\n",
    "**Sentiment Analysis** quantifies the content, idea, beliefs and opinions conveyed in text. \n",
    "\n",
    "Two general approaches:\n",
    "\n",
    "1. **Lexicon-based** - count number of words in a text belonging to each sentiment (positive, negative, happy, angry, etc.)\n",
    "2. **Machine learning-based** - develop a classification model on pre-labeled data\n",
    "\n"
   ]
  },
  {
   "cell_type": "markdown",
   "metadata": {
    "slideshow": {
     "slide_type": "slide"
    }
   },
   "source": [
    "### Sentiment Example\n",
    "\n",
    "To get a measure of overall sentiment in our text, we'll compare our text to the VADER lexicon."
   ]
  },
  {
   "cell_type": "code",
   "execution_count": 32,
   "metadata": {
    "slideshow": {
     "slide_type": "fragment"
    }
   },
   "outputs": [],
   "source": [
    "from nltk.sentiment.vader import SentimentIntensityAnalyzer \n",
    "analyser = SentimentIntensityAnalyzer()"
   ]
  },
  {
   "cell_type": "markdown",
   "metadata": {
    "slideshow": {
     "slide_type": "fragment"
    }
   },
   "source": [
    "VADER handles:\n",
    "\n",
    "- capitalization (great vs GREAT) & punctuation (exclamation makes more positive!)\n",
    "- emojis and emoticons\n",
    "- degree modifiers (extremely good vs. marginally good)\n",
    "- contractions and conjunctions (but signals shift)"
   ]
  },
  {
   "cell_type": "markdown",
   "metadata": {
    "slideshow": {
     "slide_type": "fragment"
    }
   },
   "source": [
    "`pos` + `neg` + `neu` = 1\n",
    "\n",
    "**`compound`** score - metric that calculates sum of all the lexicon ratings and normalizes between -1 (most extreme negative) and +1 (most extreme positive)\n",
    "- positive: `compound` >= 0.05 \n",
    "- neutral: -0.05 < `compound` < 0.05\n",
    "- negative : `compound` <= -0.05"
   ]
  },
  {
   "cell_type": "code",
   "execution_count": 33,
   "metadata": {
    "slideshow": {
     "slide_type": "fragment"
    }
   },
   "outputs": [
    {
     "data": {
      "text/plain": [
       "{'neg': 0.0, 'neu': 0.326, 'pos': 0.674, 'compound': 0.7351}"
      ]
     },
     "execution_count": 33,
     "metadata": {},
     "output_type": "execute_result"
    }
   ],
   "source": [
    "analyser.polarity_scores(\"The class is super cool.\")"
   ]
  },
  {
   "cell_type": "code",
   "execution_count": 34,
   "metadata": {
    "slideshow": {
     "slide_type": "fragment"
    }
   },
   "outputs": [
    {
     "data": {
      "text/plain": [
       "{'neg': 0.561, 'neu': 0.439, 'pos': 0.0, 'compound': -0.6259}"
      ]
     },
     "execution_count": 34,
     "metadata": {},
     "output_type": "execute_result"
    }
   ],
   "source": [
    "analyser.polarity_scores(\"The class is not super cool.\")"
   ]
  },
  {
   "cell_type": "code",
   "execution_count": 35,
   "metadata": {
    "slideshow": {
     "slide_type": "fragment"
    }
   },
   "outputs": [
    {
     "data": {
      "text/plain": [
       "{'neg': 0.574, 'neu': 0.426, 'pos': 0.0, 'compound': -0.6597}"
      ]
     },
     "execution_count": 35,
     "metadata": {},
     "output_type": "execute_result"
    }
   ],
   "source": [
    "analyser.polarity_scores(\"The class is NOT super cool!\")"
   ]
  },
  {
   "cell_type": "markdown",
   "metadata": {
    "slideshow": {
     "slide_type": "slide"
    }
   },
   "source": [
    "#### Sentiment Analysis: COGS108 data\n",
    "\n",
    "Here, we will calculate the sentiment of each most liked and least liked student response from the survey."
   ]
  },
  {
   "cell_type": "code",
   "execution_count": 36,
   "metadata": {
    "slideshow": {
     "slide_type": "fragment"
    }
   },
   "outputs": [],
   "source": [
    "# get list of the 'sentences' (responses) from each individual\n",
    "most_list = list(df[df['quarter'] == 'Wi24']['enjoyed_most'].values)\n",
    "least_list = list(df[df['quarter'] == 'Wi24']['enjoyed_least'].values)"
   ]
  },
  {
   "cell_type": "code",
   "execution_count": 37,
   "metadata": {
    "slideshow": {
     "slide_type": "fragment"
    }
   },
   "outputs": [],
   "source": [
    "# create function that will output dataframe \n",
    "# that stores sentiment information\n",
    "def get_sentiments(input_list):\n",
    "    \n",
    "    output = pd.DataFrame()\n",
    "\n",
    "    for sentence in input_list:\n",
    "        ss = analyser.polarity_scores(sentence)\n",
    "        ss['sentence'] = sentence\n",
    "        # Note use of pd.concat\n",
    "        output = pd.concat([output, pd.DataFrame([ss])], ignore_index=True)\n",
    "\n",
    "\n",
    "    return output"
   ]
  },
  {
   "cell_type": "code",
   "execution_count": 38,
   "metadata": {
    "scrolled": false,
    "slideshow": {
     "slide_type": "fragment"
    }
   },
   "outputs": [],
   "source": [
    "# get sentiment measures\n",
    "least_sentiments = get_sentiments(least_list)\n",
    "most_sentiments = get_sentiments(most_list)"
   ]
  },
  {
   "cell_type": "markdown",
   "metadata": {
    "slideshow": {
     "slide_type": "slide"
    }
   },
   "source": [
    "#### Sentiment Analysis: COGS108 data output\n",
    "\n",
    "After calculating the sentiment of each response, we can look at the output of each."
   ]
  },
  {
   "cell_type": "code",
   "execution_count": 39,
   "metadata": {
    "slideshow": {
     "slide_type": "fragment"
    }
   },
   "outputs": [],
   "source": [
    "# let's get rid of those no response values here\n",
    "most_sentiments = most_sentiments[most_sentiments['sentence'] != 'No response']\n",
    "least_sentiments = least_sentiments[least_sentiments['sentence'] != 'No response']"
   ]
  },
  {
   "cell_type": "code",
   "execution_count": 41,
   "metadata": {
    "scrolled": true,
    "slideshow": {
     "slide_type": "fragment"
    }
   },
   "outputs": [
    {
     "data": {
      "text/html": [
       "<div>\n",
       "<style scoped>\n",
       "    .dataframe tbody tr th:only-of-type {\n",
       "        vertical-align: middle;\n",
       "    }\n",
       "\n",
       "    .dataframe tbody tr th {\n",
       "        vertical-align: top;\n",
       "    }\n",
       "\n",
       "    .dataframe thead th {\n",
       "        text-align: right;\n",
       "    }\n",
       "</style>\n",
       "<table border=\"1\" class=\"dataframe\">\n",
       "  <thead>\n",
       "    <tr style=\"text-align: right;\">\n",
       "      <th></th>\n",
       "      <th>neg</th>\n",
       "      <th>neu</th>\n",
       "      <th>pos</th>\n",
       "      <th>compound</th>\n",
       "      <th>sentence</th>\n",
       "    </tr>\n",
       "  </thead>\n",
       "  <tbody>\n",
       "    <tr>\n",
       "      <th>329</th>\n",
       "      <td>0.189</td>\n",
       "      <td>0.811</td>\n",
       "      <td>0.000</td>\n",
       "      <td>-0.9422</td>\n",
       "      <td>I am generally struggling with assignments, bu...</td>\n",
       "    </tr>\n",
       "    <tr>\n",
       "      <th>280</th>\n",
       "      <td>0.148</td>\n",
       "      <td>0.829</td>\n",
       "      <td>0.022</td>\n",
       "      <td>-0.9195</td>\n",
       "      <td>Personally I'm not the best at coding and the ...</td>\n",
       "    </tr>\n",
       "    <tr>\n",
       "      <th>349</th>\n",
       "      <td>0.147</td>\n",
       "      <td>0.853</td>\n",
       "      <td>0.000</td>\n",
       "      <td>-0.8202</td>\n",
       "      <td>I don't like how much work there is, especiall...</td>\n",
       "    </tr>\n",
       "    <tr>\n",
       "      <th>65</th>\n",
       "      <td>0.200</td>\n",
       "      <td>0.800</td>\n",
       "      <td>0.000</td>\n",
       "      <td>-0.8173</td>\n",
       "      <td>Struggled with the assignment. Because I have ...</td>\n",
       "    </tr>\n",
       "    <tr>\n",
       "      <th>436</th>\n",
       "      <td>0.150</td>\n",
       "      <td>0.803</td>\n",
       "      <td>0.047</td>\n",
       "      <td>-0.8039</td>\n",
       "      <td>So far the discussion activities haven't been ...</td>\n",
       "    </tr>\n",
       "    <tr>\n",
       "      <th>364</th>\n",
       "      <td>0.108</td>\n",
       "      <td>0.878</td>\n",
       "      <td>0.014</td>\n",
       "      <td>-0.7984</td>\n",
       "      <td>I think sometimes some of the labs are difficu...</td>\n",
       "    </tr>\n",
       "    <tr>\n",
       "      <th>315</th>\n",
       "      <td>0.138</td>\n",
       "      <td>0.862</td>\n",
       "      <td>0.000</td>\n",
       "      <td>-0.7657</td>\n",
       "      <td>My least favorite part of the class so far has...</td>\n",
       "    </tr>\n",
       "    <tr>\n",
       "      <th>365</th>\n",
       "      <td>0.169</td>\n",
       "      <td>0.831</td>\n",
       "      <td>0.000</td>\n",
       "      <td>-0.7580</td>\n",
       "      <td>I find many of the discussion assignments to b...</td>\n",
       "    </tr>\n",
       "    <tr>\n",
       "      <th>460</th>\n",
       "      <td>0.256</td>\n",
       "      <td>0.744</td>\n",
       "      <td>0.000</td>\n",
       "      <td>-0.7340</td>\n",
       "      <td>I think D3 was very stressful for me since I w...</td>\n",
       "    </tr>\n",
       "    <tr>\n",
       "      <th>547</th>\n",
       "      <td>0.303</td>\n",
       "      <td>0.697</td>\n",
       "      <td>0.000</td>\n",
       "      <td>-0.7247</td>\n",
       "      <td>I don't really have any negative experience so...</td>\n",
       "    </tr>\n",
       "  </tbody>\n",
       "</table>\n",
       "</div>"
      ],
      "text/plain": [
       "       neg    neu    pos  compound  \\\n",
       "329  0.189  0.811  0.000   -0.9422   \n",
       "280  0.148  0.829  0.022   -0.9195   \n",
       "349  0.147  0.853  0.000   -0.8202   \n",
       "65   0.200  0.800  0.000   -0.8173   \n",
       "436  0.150  0.803  0.047   -0.8039   \n",
       "364  0.108  0.878  0.014   -0.7984   \n",
       "315  0.138  0.862  0.000   -0.7657   \n",
       "365  0.169  0.831  0.000   -0.7580   \n",
       "460  0.256  0.744  0.000   -0.7340   \n",
       "547  0.303  0.697  0.000   -0.7247   \n",
       "\n",
       "                                              sentence  \n",
       "329  I am generally struggling with assignments, bu...  \n",
       "280  Personally I'm not the best at coding and the ...  \n",
       "349  I don't like how much work there is, especiall...  \n",
       "65   Struggled with the assignment. Because I have ...  \n",
       "436  So far the discussion activities haven't been ...  \n",
       "364  I think sometimes some of the labs are difficu...  \n",
       "315  My least favorite part of the class so far has...  \n",
       "365  I find many of the discussion assignments to b...  \n",
       "460  I think D3 was very stressful for me since I w...  \n",
       "547  I don't really have any negative experience so...  "
      ]
     },
     "execution_count": 41,
     "metadata": {},
     "output_type": "execute_result"
    }
   ],
   "source": [
    "# take a look at the output\n",
    "least_sentiments.sort_values(by='compound', ascending=True).head(10)"
   ]
  },
  {
   "cell_type": "code",
   "execution_count": 43,
   "metadata": {
    "scrolled": false,
    "slideshow": {
     "slide_type": "fragment"
    }
   },
   "outputs": [
    {
     "data": {
      "text/html": [
       "<div>\n",
       "<style scoped>\n",
       "    .dataframe tbody tr th:only-of-type {\n",
       "        vertical-align: middle;\n",
       "    }\n",
       "\n",
       "    .dataframe tbody tr th {\n",
       "        vertical-align: top;\n",
       "    }\n",
       "\n",
       "    .dataframe thead th {\n",
       "        text-align: right;\n",
       "    }\n",
       "</style>\n",
       "<table border=\"1\" class=\"dataframe\">\n",
       "  <thead>\n",
       "    <tr style=\"text-align: right;\">\n",
       "      <th></th>\n",
       "      <th>neg</th>\n",
       "      <th>neu</th>\n",
       "      <th>pos</th>\n",
       "      <th>compound</th>\n",
       "      <th>sentence</th>\n",
       "    </tr>\n",
       "  </thead>\n",
       "  <tbody>\n",
       "    <tr>\n",
       "      <th>43</th>\n",
       "      <td>0.031</td>\n",
       "      <td>0.624</td>\n",
       "      <td>0.346</td>\n",
       "      <td>0.9876</td>\n",
       "      <td>I enjoy lectures in Cogs 108. I think the prof...</td>\n",
       "    </tr>\n",
       "    <tr>\n",
       "      <th>364</th>\n",
       "      <td>0.000</td>\n",
       "      <td>0.724</td>\n",
       "      <td>0.276</td>\n",
       "      <td>0.9736</td>\n",
       "      <td>I enjoy the content—it's really interesting to...</td>\n",
       "    </tr>\n",
       "    <tr>\n",
       "      <th>398</th>\n",
       "      <td>0.000</td>\n",
       "      <td>0.758</td>\n",
       "      <td>0.242</td>\n",
       "      <td>0.9640</td>\n",
       "      <td>I have really enjoyed learning the basics of g...</td>\n",
       "    </tr>\n",
       "    <tr>\n",
       "      <th>97</th>\n",
       "      <td>0.000</td>\n",
       "      <td>0.713</td>\n",
       "      <td>0.287</td>\n",
       "      <td>0.9589</td>\n",
       "      <td>I've enjoyed attending lectures the most becau...</td>\n",
       "    </tr>\n",
       "    <tr>\n",
       "      <th>428</th>\n",
       "      <td>0.000</td>\n",
       "      <td>0.852</td>\n",
       "      <td>0.148</td>\n",
       "      <td>0.9589</td>\n",
       "      <td>What I've enjoyed most about COGS 108 so far i...</td>\n",
       "    </tr>\n",
       "    <tr>\n",
       "      <th>107</th>\n",
       "      <td>0.000</td>\n",
       "      <td>0.592</td>\n",
       "      <td>0.408</td>\n",
       "      <td>0.9578</td>\n",
       "      <td>I have enjoyed learning more about python and ...</td>\n",
       "    </tr>\n",
       "    <tr>\n",
       "      <th>500</th>\n",
       "      <td>0.000</td>\n",
       "      <td>0.615</td>\n",
       "      <td>0.385</td>\n",
       "      <td>0.9571</td>\n",
       "      <td>I have enjoyed the group project. I have been ...</td>\n",
       "    </tr>\n",
       "    <tr>\n",
       "      <th>269</th>\n",
       "      <td>0.000</td>\n",
       "      <td>0.749</td>\n",
       "      <td>0.251</td>\n",
       "      <td>0.9544</td>\n",
       "      <td>I've really enjoyed our hands-on work with pyt...</td>\n",
       "    </tr>\n",
       "    <tr>\n",
       "      <th>258</th>\n",
       "      <td>0.000</td>\n",
       "      <td>0.695</td>\n",
       "      <td>0.305</td>\n",
       "      <td>0.9538</td>\n",
       "      <td>- good organization of content -&gt; very good re...</td>\n",
       "    </tr>\n",
       "    <tr>\n",
       "      <th>422</th>\n",
       "      <td>0.000</td>\n",
       "      <td>0.727</td>\n",
       "      <td>0.273</td>\n",
       "      <td>0.9509</td>\n",
       "      <td>Working in group projects is fun, and I enjoy ...</td>\n",
       "    </tr>\n",
       "  </tbody>\n",
       "</table>\n",
       "</div>"
      ],
      "text/plain": [
       "       neg    neu    pos  compound  \\\n",
       "43   0.031  0.624  0.346    0.9876   \n",
       "364  0.000  0.724  0.276    0.9736   \n",
       "398  0.000  0.758  0.242    0.9640   \n",
       "97   0.000  0.713  0.287    0.9589   \n",
       "428  0.000  0.852  0.148    0.9589   \n",
       "107  0.000  0.592  0.408    0.9578   \n",
       "500  0.000  0.615  0.385    0.9571   \n",
       "269  0.000  0.749  0.251    0.9544   \n",
       "258  0.000  0.695  0.305    0.9538   \n",
       "422  0.000  0.727  0.273    0.9509   \n",
       "\n",
       "                                              sentence  \n",
       "43   I enjoy lectures in Cogs 108. I think the prof...  \n",
       "364  I enjoy the content—it's really interesting to...  \n",
       "398  I have really enjoyed learning the basics of g...  \n",
       "97   I've enjoyed attending lectures the most becau...  \n",
       "428  What I've enjoyed most about COGS 108 so far i...  \n",
       "107  I have enjoyed learning more about python and ...  \n",
       "500  I have enjoyed the group project. I have been ...  \n",
       "269  I've really enjoyed our hands-on work with pyt...  \n",
       "258  - good organization of content -> very good re...  \n",
       "422  Working in group projects is fun, and I enjoy ...  "
      ]
     },
     "execution_count": 43,
     "metadata": {},
     "output_type": "execute_result"
    }
   ],
   "source": [
    "# take a look at the output\n",
    "most_sentiments.sort_values(by='compound', ascending=False).head(10)"
   ]
  },
  {
   "cell_type": "markdown",
   "metadata": {
    "slideshow": {
     "slide_type": "slide"
    }
   },
   "source": [
    "#### Sentiment Analysis: COGS108 data - `describe`\n",
    "\n",
    "To get an overall sense of the values stored in each of these dataframes, we can use `describe`."
   ]
  },
  {
   "cell_type": "code",
   "execution_count": 44,
   "metadata": {
    "scrolled": true,
    "slideshow": {
     "slide_type": "fragment"
    }
   },
   "outputs": [
    {
     "data": {
      "text/html": [
       "<div>\n",
       "<style scoped>\n",
       "    .dataframe tbody tr th:only-of-type {\n",
       "        vertical-align: middle;\n",
       "    }\n",
       "\n",
       "    .dataframe tbody tr th {\n",
       "        vertical-align: top;\n",
       "    }\n",
       "\n",
       "    .dataframe thead th {\n",
       "        text-align: right;\n",
       "    }\n",
       "</style>\n",
       "<table border=\"1\" class=\"dataframe\">\n",
       "  <thead>\n",
       "    <tr style=\"text-align: right;\">\n",
       "      <th></th>\n",
       "      <th>neg</th>\n",
       "      <th>neu</th>\n",
       "      <th>pos</th>\n",
       "      <th>compound</th>\n",
       "    </tr>\n",
       "  </thead>\n",
       "  <tbody>\n",
       "    <tr>\n",
       "      <th>count</th>\n",
       "      <td>584.000000</td>\n",
       "      <td>584.000000</td>\n",
       "      <td>584.000000</td>\n",
       "      <td>584.000000</td>\n",
       "    </tr>\n",
       "    <tr>\n",
       "      <th>mean</th>\n",
       "      <td>0.010789</td>\n",
       "      <td>0.776896</td>\n",
       "      <td>0.212317</td>\n",
       "      <td>0.510628</td>\n",
       "    </tr>\n",
       "    <tr>\n",
       "      <th>std</th>\n",
       "      <td>0.039681</td>\n",
       "      <td>0.149374</td>\n",
       "      <td>0.147439</td>\n",
       "      <td>0.330710</td>\n",
       "    </tr>\n",
       "    <tr>\n",
       "      <th>min</th>\n",
       "      <td>0.000000</td>\n",
       "      <td>0.238000</td>\n",
       "      <td>0.000000</td>\n",
       "      <td>-0.634100</td>\n",
       "    </tr>\n",
       "    <tr>\n",
       "      <th>25%</th>\n",
       "      <td>0.000000</td>\n",
       "      <td>0.685000</td>\n",
       "      <td>0.118750</td>\n",
       "      <td>0.361200</td>\n",
       "    </tr>\n",
       "    <tr>\n",
       "      <th>50%</th>\n",
       "      <td>0.000000</td>\n",
       "      <td>0.774500</td>\n",
       "      <td>0.215500</td>\n",
       "      <td>0.557100</td>\n",
       "    </tr>\n",
       "    <tr>\n",
       "      <th>75%</th>\n",
       "      <td>0.000000</td>\n",
       "      <td>0.870000</td>\n",
       "      <td>0.301250</td>\n",
       "      <td>0.777800</td>\n",
       "    </tr>\n",
       "    <tr>\n",
       "      <th>max</th>\n",
       "      <td>0.487000</td>\n",
       "      <td>1.000000</td>\n",
       "      <td>0.762000</td>\n",
       "      <td>0.987600</td>\n",
       "    </tr>\n",
       "  </tbody>\n",
       "</table>\n",
       "</div>"
      ],
      "text/plain": [
       "              neg         neu         pos    compound\n",
       "count  584.000000  584.000000  584.000000  584.000000\n",
       "mean     0.010789    0.776896    0.212317    0.510628\n",
       "std      0.039681    0.149374    0.147439    0.330710\n",
       "min      0.000000    0.238000    0.000000   -0.634100\n",
       "25%      0.000000    0.685000    0.118750    0.361200\n",
       "50%      0.000000    0.774500    0.215500    0.557100\n",
       "75%      0.000000    0.870000    0.301250    0.777800\n",
       "max      0.487000    1.000000    0.762000    0.987600"
      ]
     },
     "execution_count": 44,
     "metadata": {},
     "output_type": "execute_result"
    }
   ],
   "source": [
    "most_sentiments.describe()"
   ]
  },
  {
   "cell_type": "code",
   "execution_count": 45,
   "metadata": {
    "scrolled": false,
    "slideshow": {
     "slide_type": "fragment"
    }
   },
   "outputs": [
    {
     "data": {
      "text/html": [
       "<div>\n",
       "<style scoped>\n",
       "    .dataframe tbody tr th:only-of-type {\n",
       "        vertical-align: middle;\n",
       "    }\n",
       "\n",
       "    .dataframe tbody tr th {\n",
       "        vertical-align: top;\n",
       "    }\n",
       "\n",
       "    .dataframe thead th {\n",
       "        text-align: right;\n",
       "    }\n",
       "</style>\n",
       "<table border=\"1\" class=\"dataframe\">\n",
       "  <thead>\n",
       "    <tr style=\"text-align: right;\">\n",
       "      <th></th>\n",
       "      <th>neg</th>\n",
       "      <th>neu</th>\n",
       "      <th>pos</th>\n",
       "      <th>compound</th>\n",
       "    </tr>\n",
       "  </thead>\n",
       "  <tbody>\n",
       "    <tr>\n",
       "      <th>count</th>\n",
       "      <td>570.000000</td>\n",
       "      <td>570.000000</td>\n",
       "      <td>570.000000</td>\n",
       "      <td>570.000000</td>\n",
       "    </tr>\n",
       "    <tr>\n",
       "      <th>mean</th>\n",
       "      <td>0.088686</td>\n",
       "      <td>0.833263</td>\n",
       "      <td>0.078070</td>\n",
       "      <td>0.024846</td>\n",
       "    </tr>\n",
       "    <tr>\n",
       "      <th>std</th>\n",
       "      <td>0.112837</td>\n",
       "      <td>0.136770</td>\n",
       "      <td>0.110833</td>\n",
       "      <td>0.432874</td>\n",
       "    </tr>\n",
       "    <tr>\n",
       "      <th>min</th>\n",
       "      <td>0.000000</td>\n",
       "      <td>0.253000</td>\n",
       "      <td>0.000000</td>\n",
       "      <td>-0.942200</td>\n",
       "    </tr>\n",
       "    <tr>\n",
       "      <th>25%</th>\n",
       "      <td>0.000000</td>\n",
       "      <td>0.756000</td>\n",
       "      <td>0.000000</td>\n",
       "      <td>-0.318200</td>\n",
       "    </tr>\n",
       "    <tr>\n",
       "      <th>50%</th>\n",
       "      <td>0.055500</td>\n",
       "      <td>0.840000</td>\n",
       "      <td>0.000000</td>\n",
       "      <td>0.000000</td>\n",
       "    </tr>\n",
       "    <tr>\n",
       "      <th>75%</th>\n",
       "      <td>0.132750</td>\n",
       "      <td>0.935750</td>\n",
       "      <td>0.128000</td>\n",
       "      <td>0.381725</td>\n",
       "    </tr>\n",
       "    <tr>\n",
       "      <th>max</th>\n",
       "      <td>0.662000</td>\n",
       "      <td>1.000000</td>\n",
       "      <td>0.604000</td>\n",
       "      <td>0.978400</td>\n",
       "    </tr>\n",
       "  </tbody>\n",
       "</table>\n",
       "</div>"
      ],
      "text/plain": [
       "              neg         neu         pos    compound\n",
       "count  570.000000  570.000000  570.000000  570.000000\n",
       "mean     0.088686    0.833263    0.078070    0.024846\n",
       "std      0.112837    0.136770    0.110833    0.432874\n",
       "min      0.000000    0.253000    0.000000   -0.942200\n",
       "25%      0.000000    0.756000    0.000000   -0.318200\n",
       "50%      0.055500    0.840000    0.000000    0.000000\n",
       "75%      0.132750    0.935750    0.128000    0.381725\n",
       "max      0.662000    1.000000    0.604000    0.978400"
      ]
     },
     "execution_count": 45,
     "metadata": {},
     "output_type": "execute_result"
    }
   ],
   "source": [
    "least_sentiments.describe()"
   ]
  },
  {
   "cell_type": "markdown",
   "metadata": {
    "slideshow": {
     "slide_type": "slide"
    }
   },
   "source": [
    "#### Sentiment Analysis: COGS108 data - plotting\n",
    "\n",
    "We can compare the distribution of the `compound` metric between the two analyses."
   ]
  },
  {
   "cell_type": "code",
   "execution_count": 46,
   "metadata": {
    "scrolled": false,
    "slideshow": {
     "slide_type": "fragment"
    }
   },
   "outputs": [
    {
     "data": {
      "image/png": "[encoded data removed]",
      "text/plain": [
       "<Figure size 1224x504 with 1 Axes>"
      ]
     },
     "metadata": {
      "image/png": {
       "height": 433,
       "width": 1025
      },
      "needs_background": "light"
     },
     "output_type": "display_data"
    }
   ],
   "source": [
    "most_sentiments['compound'].plot.density(label='most')\n",
    "least_sentiments['compound'].plot.density(label='least')\n",
    "plt.legend()\n",
    "plt.xlabel('Compound Sentiment Scores')\n",
    "plt.xlim(-1,1);"
   ]
  },
  {
   "cell_type": "code",
   "execution_count": 47,
   "metadata": {
    "scrolled": false,
    "slideshow": {
     "slide_type": "slide"
    }
   },
   "outputs": [
    {
     "data": {
      "text/html": [
       "<div>\n",
       "<style scoped>\n",
       "    .dataframe tbody tr th:only-of-type {\n",
       "        vertical-align: middle;\n",
       "    }\n",
       "\n",
       "    .dataframe tbody tr th {\n",
       "        vertical-align: top;\n",
       "    }\n",
       "\n",
       "    .dataframe thead th {\n",
       "        text-align: right;\n",
       "    }\n",
       "</style>\n",
       "<table border=\"1\" class=\"dataframe\">\n",
       "  <thead>\n",
       "    <tr style=\"text-align: right;\">\n",
       "      <th></th>\n",
       "      <th>neg</th>\n",
       "      <th>neu</th>\n",
       "      <th>pos</th>\n",
       "      <th>compound</th>\n",
       "      <th>sentence</th>\n",
       "      <th>which</th>\n",
       "    </tr>\n",
       "  </thead>\n",
       "  <tbody>\n",
       "    <tr>\n",
       "      <th>0</th>\n",
       "      <td>0.0</td>\n",
       "      <td>0.646</td>\n",
       "      <td>0.354</td>\n",
       "      <td>0.5256</td>\n",
       "      <td>The pace is moderate, easy to follow but not b...</td>\n",
       "      <td>most</td>\n",
       "    </tr>\n",
       "    <tr>\n",
       "      <th>1</th>\n",
       "      <td>0.0</td>\n",
       "      <td>0.652</td>\n",
       "      <td>0.348</td>\n",
       "      <td>0.4939</td>\n",
       "      <td>I enjoy exploring data science more using Python.</td>\n",
       "      <td>most</td>\n",
       "    </tr>\n",
       "    <tr>\n",
       "      <th>2</th>\n",
       "      <td>0.0</td>\n",
       "      <td>0.781</td>\n",
       "      <td>0.219</td>\n",
       "      <td>0.4215</td>\n",
       "      <td>guest lectures, being able to hear real life e...</td>\n",
       "      <td>most</td>\n",
       "    </tr>\n",
       "    <tr>\n",
       "      <th>3</th>\n",
       "      <td>0.0</td>\n",
       "      <td>0.848</td>\n",
       "      <td>0.152</td>\n",
       "      <td>0.5267</td>\n",
       "      <td>Assignment, there is a step by step guide how ...</td>\n",
       "      <td>most</td>\n",
       "    </tr>\n",
       "    <tr>\n",
       "      <th>4</th>\n",
       "      <td>0.0</td>\n",
       "      <td>1.000</td>\n",
       "      <td>0.000</td>\n",
       "      <td>0.0000</td>\n",
       "      <td>Coding</td>\n",
       "      <td>most</td>\n",
       "    </tr>\n",
       "  </tbody>\n",
       "</table>\n",
       "</div>"
      ],
      "text/plain": [
       "   neg    neu    pos  compound  \\\n",
       "0  0.0  0.646  0.354    0.5256   \n",
       "1  0.0  0.652  0.348    0.4939   \n",
       "2  0.0  0.781  0.219    0.4215   \n",
       "3  0.0  0.848  0.152    0.5267   \n",
       "4  0.0  1.000  0.000    0.0000   \n",
       "\n",
       "                                            sentence which  \n",
       "0  The pace is moderate, easy to follow but not b...  most  \n",
       "1  I enjoy exploring data science more using Python.  most  \n",
       "2  guest lectures, being able to hear real life e...  most  \n",
       "3  Assignment, there is a step by step guide how ...  most  \n",
       "4                                             Coding  most  "
      ]
     },
     "execution_count": 47,
     "metadata": {},
     "output_type": "execute_result"
    }
   ],
   "source": [
    "# include label for boxplot\n",
    "most_sentiments['which'] = 'most'\n",
    "least_sentiments['which'] = 'least'\n",
    "# concatenate data frames together\n",
    "compound_out = pd.concat([most_sentiments, least_sentiments])\n",
    "compound_out.head()"
   ]
  },
  {
   "cell_type": "code",
   "execution_count": 48,
   "metadata": {},
   "outputs": [
    {
     "data": {
      "image/png": "[encoded data removed]",
      "text/plain": [
       "<Figure size 1224x504 with 1 Axes>"
      ]
     },
     "metadata": {
      "image/png": {
       "height": 433,
       "width": 1031
      },
      "needs_background": "light"
     },
     "output_type": "display_data"
    }
   ],
   "source": [
    "# plot compound by resonse type\n",
    "sns.boxplot(data=compound_out, x='which', y='compound')\n",
    "plt.xlabel('response');"
   ]
  },
  {
   "cell_type": "markdown",
   "metadata": {
    "slideshow": {
     "slide_type": "fragment"
    }
   },
   "source": [
    "Probably unsurprisingly, the overall sentiment of what students like tends to be more positive than what students like less. \n",
    "\n",
    "Probably not surprising given the data and question on the survey. But, let's dig deeper into these data moving beyond sentiment analysis..."
   ]
  },
  {
   "cell_type": "markdown",
   "metadata": {
    "slideshow": {
     "slide_type": "slide"
    }
   },
   "source": [
    "## TF-IDF\n",
    "\n",
    "Term Frequency - Inverse Document Frequency (**TF-IDF**) sets out to identify the tokens most unique to your document of interest (relative to all documents in your corpus). "
   ]
  },
  {
   "cell_type": "markdown",
   "metadata": {
    "slideshow": {
     "slide_type": "fragment"
    }
   },
   "source": [
    "**Term Frequency (TF)** - counts the number of words (tokens) occurring in each document.\n",
    "\n",
    "**Inverse Document Frequency (IDF)** - weights the word by their relative frequency across documents. "
   ]
  },
  {
   "cell_type": "markdown",
   "metadata": {
    "slideshow": {
     "slide_type": "fragment"
    }
   },
   "source": [
    "$$IDF_{word} = log(\\frac{\\# documents}{\\# \\ documents\\_containing\\_word})$$"
   ]
  },
  {
   "cell_type": "markdown",
   "metadata": {
    "slideshow": {
     "slide_type": "fragment"
    }
   },
   "source": [
    "$$TF-IDF = TF \\times IDF$$"
   ]
  },
  {
   "cell_type": "markdown",
   "metadata": {
    "slideshow": {
     "slide_type": "fragment"
    }
   },
   "source": [
    "words with a high TF-IDF are those with high frequency in one document & relatively low frequency in other documents"
   ]
  },
  {
   "cell_type": "markdown",
   "metadata": {
    "slideshow": {
     "slide_type": "slide"
    }
   },
   "source": [
    "For our purposes, our **corpus** will be students' responses to what they like most and least about COGS108.\n",
    "\n",
    "We'll treat this as **two separate documents**:\n",
    "1. What students like most\n",
    "2. What students like least"
   ]
  },
  {
   "cell_type": "markdown",
   "metadata": {
    "slideshow": {
     "slide_type": "slide"
    }
   },
   "source": [
    "### Bag of Words (BoW) approach\n",
    "\n",
    "Converts the text into a co-occurrence matrix across documents within the corpus."
   ]
  },
  {
   "cell_type": "markdown",
   "metadata": {
    "slideshow": {
     "slide_type": "fragment"
    }
   },
   "source": [
    "To do this, let's get our text ready.\n",
    "\n",
    "We're going to make sure all our words are lower case, remove punctuation from each, and then provide the text (`corpus`) to `TfidfVectorizer`."
   ]
  },
  {
   "cell_type": "code",
   "execution_count": 49,
   "metadata": {
    "slideshow": {
     "slide_type": "fragment"
    }
   },
   "outputs": [],
   "source": [
    "import string \n",
    "\n",
    "# lowercase text\n",
    "least = list(map(str.lower, least_list))\n",
    "most = list(map(str.lower, most_list))\n",
    "\n",
    "# remove punctuation\n",
    "for c in string.punctuation:\n",
    "    least = str(least).replace(c, \"\")\n",
    "    most = str(most).replace(c, \"\")\n",
    "\n",
    "# get list of two documents together\n",
    "corpus = [str(least), str(most)]"
   ]
  },
  {
   "cell_type": "markdown",
   "metadata": {
    "slideshow": {
     "slide_type": "slide"
    }
   },
   "source": [
    "### Calculate TF-IDF\n",
    "\n",
    "With our text ready for analysis, it's time to calculate TF-IDF"
   ]
  },
  {
   "cell_type": "markdown",
   "metadata": {
    "slideshow": {
     "slide_type": "fragment"
    }
   },
   "source": [
    "To start our TF-IDF analysis, we'll first **create a `TfidfVectorizer` object to transform our text data into vectors.**"
   ]
  },
  {
   "cell_type": "code",
   "execution_count": 50,
   "metadata": {
    "slideshow": {
     "slide_type": "fragment"
    }
   },
   "outputs": [],
   "source": [
    "from sklearn.feature_extraction.text import TfidfVectorizer"
   ]
  },
  {
   "cell_type": "code",
   "execution_count": 51,
   "metadata": {
    "slideshow": {
     "slide_type": "fragment"
    }
   },
   "outputs": [],
   "source": [
    "# create vectorizer\n",
    "tfidf = TfidfVectorizer(sublinear_tf=True,\n",
    "                        analyzer='word',\n",
    "                        max_features=2000,\n",
    "                        tokenizer=tokenizer.tokenize,\n",
    "                        stop_words=stop_words)"
   ]
  },
  {
   "cell_type": "markdown",
   "metadata": {
    "slideshow": {
     "slide_type": "slide"
    }
   },
   "source": [
    "#### TF-IDF: COGS108 data - calculation\n",
    "\n",
    "Here, we use our vectorizer to calculate TF-IDF across the words in our word matrix."
   ]
  },
  {
   "cell_type": "code",
   "execution_count": 52,
   "metadata": {
    "slideshow": {
     "slide_type": "fragment"
    }
   },
   "outputs": [],
   "source": [
    "# calculate TF-IDF\n",
    "cogs_tfidf = pd.DataFrame(tfidf.fit_transform(corpus).toarray())\n",
    "cogs_tfidf.columns = tfidf.get_feature_names()\n",
    "cogs_tfidf = cogs_tfidf.rename(index={0:'least', 1:'most'})"
   ]
  },
  {
   "cell_type": "markdown",
   "metadata": {
    "slideshow": {
     "slide_type": "slide"
    }
   },
   "source": [
    "#### TF-IDF: COGS108 data - output\n",
    "\n",
    "If we just want to look at the word most uniuqe in each document..."
   ]
  },
  {
   "cell_type": "code",
   "execution_count": 53,
   "metadata": {
    "scrolled": true,
    "slideshow": {
     "slide_type": "fragment"
    }
   },
   "outputs": [
    {
     "data": {
      "text/plain": [
       "least    least\n",
       "most      data\n",
       "dtype: object"
      ]
     },
     "execution_count": 53,
     "metadata": {},
     "output_type": "execute_result"
    }
   ],
   "source": [
    "most_unique = cogs_tfidf.idxmax(axis=1) \n",
    "most_unique"
   ]
  },
  {
   "cell_type": "markdown",
   "metadata": {
    "slideshow": {
     "slide_type": "fragment"
    }
   },
   "source": [
    "Alternatively, we can sort by the set or words most unique to each document:"
   ]
  },
  {
   "cell_type": "code",
   "execution_count": 54,
   "metadata": {
    "slideshow": {
     "slide_type": "fragment"
    }
   },
   "outputs": [
    {
     "data": {
      "text/html": [
       "<div>\n",
       "<style scoped>\n",
       "    .dataframe tbody tr th:only-of-type {\n",
       "        vertical-align: middle;\n",
       "    }\n",
       "\n",
       "    .dataframe tbody tr th {\n",
       "        vertical-align: top;\n",
       "    }\n",
       "\n",
       "    .dataframe thead th {\n",
       "        text-align: right;\n",
       "    }\n",
       "</style>\n",
       "<table border=\"1\" class=\"dataframe\">\n",
       "  <thead>\n",
       "    <tr style=\"text-align: right;\">\n",
       "      <th></th>\n",
       "      <th>data</th>\n",
       "      <th>enjoyed</th>\n",
       "      <th>learning</th>\n",
       "      <th>like</th>\n",
       "      <th>assignments</th>\n",
       "      <th>really</th>\n",
       "      <th>science</th>\n",
       "      <th>python</th>\n",
       "      <th>class</th>\n",
       "      <th>enjoy</th>\n",
       "      <th>...</th>\n",
       "      <th>lives</th>\n",
       "      <th>llms</th>\n",
       "      <th>load</th>\n",
       "      <th>lol</th>\n",
       "      <th>longer</th>\n",
       "      <th>looked</th>\n",
       "      <th>loss</th>\n",
       "      <th>lost</th>\n",
       "      <th>lower</th>\n",
       "      <th>zone</th>\n",
       "    </tr>\n",
       "  </thead>\n",
       "  <tbody>\n",
       "    <tr>\n",
       "      <th>least</th>\n",
       "      <td>0.049167</td>\n",
       "      <td>0.037958</td>\n",
       "      <td>0.045702</td>\n",
       "      <td>0.066920</td>\n",
       "      <td>0.065286</td>\n",
       "      <td>0.059101</td>\n",
       "      <td>0.036894</td>\n",
       "      <td>0.044637</td>\n",
       "      <td>0.059983</td>\n",
       "      <td>0.042144</td>\n",
       "      <td>...</td>\n",
       "      <td>0.015701</td>\n",
       "      <td>0.015701</td>\n",
       "      <td>0.026584</td>\n",
       "      <td>0.015701</td>\n",
       "      <td>0.037466</td>\n",
       "      <td>0.015701</td>\n",
       "      <td>0.015701</td>\n",
       "      <td>0.037466</td>\n",
       "      <td>0.015701</td>\n",
       "      <td>0.015701</td>\n",
       "    </tr>\n",
       "    <tr>\n",
       "      <th>most</th>\n",
       "      <td>0.081532</td>\n",
       "      <td>0.077169</td>\n",
       "      <td>0.076651</td>\n",
       "      <td>0.074243</td>\n",
       "      <td>0.073776</td>\n",
       "      <td>0.070665</td>\n",
       "      <td>0.068691</td>\n",
       "      <td>0.067958</td>\n",
       "      <td>0.067958</td>\n",
       "      <td>0.065822</td>\n",
       "      <td>...</td>\n",
       "      <td>0.000000</td>\n",
       "      <td>0.000000</td>\n",
       "      <td>0.000000</td>\n",
       "      <td>0.000000</td>\n",
       "      <td>0.000000</td>\n",
       "      <td>0.000000</td>\n",
       "      <td>0.000000</td>\n",
       "      <td>0.000000</td>\n",
       "      <td>0.000000</td>\n",
       "      <td>0.000000</td>\n",
       "    </tr>\n",
       "  </tbody>\n",
       "</table>\n",
       "<p>2 rows × 2000 columns</p>\n",
       "</div>"
      ],
      "text/plain": [
       "           data   enjoyed  learning      like  assignments    really  \\\n",
       "least  0.049167  0.037958  0.045702  0.066920     0.065286  0.059101   \n",
       "most   0.081532  0.077169  0.076651  0.074243     0.073776  0.070665   \n",
       "\n",
       "        science    python     class     enjoy  ...     lives      llms  \\\n",
       "least  0.036894  0.044637  0.059983  0.042144  ...  0.015701  0.015701   \n",
       "most   0.068691  0.067958  0.067958  0.065822  ...  0.000000  0.000000   \n",
       "\n",
       "           load       lol    longer    looked      loss      lost     lower  \\\n",
       "least  0.026584  0.015701  0.037466  0.015701  0.015701  0.037466  0.015701   \n",
       "most   0.000000  0.000000  0.000000  0.000000  0.000000  0.000000  0.000000   \n",
       "\n",
       "           zone  \n",
       "least  0.015701  \n",
       "most   0.000000  \n",
       "\n",
       "[2 rows x 2000 columns]"
      ]
     },
     "execution_count": 54,
     "metadata": {},
     "output_type": "execute_result"
    }
   ],
   "source": [
    "cogs_tfidf.sort_values(by='most', axis=1, ascending=False)"
   ]
  },
  {
   "cell_type": "code",
   "execution_count": 55,
   "metadata": {
    "scrolled": false,
    "slideshow": {
     "slide_type": "fragment"
    }
   },
   "outputs": [
    {
     "data": {
      "text/html": [
       "<div>\n",
       "<style scoped>\n",
       "    .dataframe tbody tr th:only-of-type {\n",
       "        vertical-align: middle;\n",
       "    }\n",
       "\n",
       "    .dataframe tbody tr th {\n",
       "        vertical-align: top;\n",
       "    }\n",
       "\n",
       "    .dataframe thead th {\n",
       "        text-align: right;\n",
       "    }\n",
       "</style>\n",
       "<table border=\"1\" class=\"dataframe\">\n",
       "  <thead>\n",
       "    <tr style=\"text-align: right;\">\n",
       "      <th></th>\n",
       "      <th>least</th>\n",
       "      <th>confusing</th>\n",
       "      <th>like</th>\n",
       "      <th>group</th>\n",
       "      <th>assignments</th>\n",
       "      <th>project</th>\n",
       "      <th>wish</th>\n",
       "      <th>dont</th>\n",
       "      <th>trying</th>\n",
       "      <th>think</th>\n",
       "      <th>...</th>\n",
       "      <th>relationships</th>\n",
       "      <th>relaxed</th>\n",
       "      <th>relaxing</th>\n",
       "      <th>relearning</th>\n",
       "      <th>demonstrations</th>\n",
       "      <th>demonstrate</th>\n",
       "      <th>delved</th>\n",
       "      <th>reminder</th>\n",
       "      <th>delivered</th>\n",
       "      <th>linkedin</th>\n",
       "    </tr>\n",
       "  </thead>\n",
       "  <tbody>\n",
       "    <tr>\n",
       "      <th>least</th>\n",
       "      <td>0.083488</td>\n",
       "      <td>0.068019</td>\n",
       "      <td>0.066920</td>\n",
       "      <td>0.065461</td>\n",
       "      <td>0.065286</td>\n",
       "      <td>0.063982</td>\n",
       "      <td>0.062736</td>\n",
       "      <td>0.062043</td>\n",
       "      <td>0.06193</td>\n",
       "      <td>0.060124</td>\n",
       "      <td>...</td>\n",
       "      <td>0.000000</td>\n",
       "      <td>0.000000</td>\n",
       "      <td>0.000000</td>\n",
       "      <td>0.000000</td>\n",
       "      <td>0.000000</td>\n",
       "      <td>0.000000</td>\n",
       "      <td>0.000000</td>\n",
       "      <td>0.000000</td>\n",
       "      <td>0.000000</td>\n",
       "      <td>0.000000</td>\n",
       "    </tr>\n",
       "    <tr>\n",
       "      <th>most</th>\n",
       "      <td>0.000000</td>\n",
       "      <td>0.000000</td>\n",
       "      <td>0.074243</td>\n",
       "      <td>0.057129</td>\n",
       "      <td>0.073776</td>\n",
       "      <td>0.062567</td>\n",
       "      <td>0.000000</td>\n",
       "      <td>0.044708</td>\n",
       "      <td>0.00000</td>\n",
       "      <td>0.060826</td>\n",
       "      <td>...</td>\n",
       "      <td>0.017626</td>\n",
       "      <td>0.017626</td>\n",
       "      <td>0.029843</td>\n",
       "      <td>0.017626</td>\n",
       "      <td>0.017626</td>\n",
       "      <td>0.017626</td>\n",
       "      <td>0.017626</td>\n",
       "      <td>0.017626</td>\n",
       "      <td>0.017626</td>\n",
       "      <td>0.017626</td>\n",
       "    </tr>\n",
       "  </tbody>\n",
       "</table>\n",
       "<p>2 rows × 2000 columns</p>\n",
       "</div>"
      ],
      "text/plain": [
       "          least  confusing      like     group  assignments   project  \\\n",
       "least  0.083488   0.068019  0.066920  0.065461     0.065286  0.063982   \n",
       "most   0.000000   0.000000  0.074243  0.057129     0.073776  0.062567   \n",
       "\n",
       "           wish      dont   trying     think  ...  relationships   relaxed  \\\n",
       "least  0.062736  0.062043  0.06193  0.060124  ...       0.000000  0.000000   \n",
       "most   0.000000  0.044708  0.00000  0.060826  ...       0.017626  0.017626   \n",
       "\n",
       "       relaxing  relearning  demonstrations  demonstrate    delved  reminder  \\\n",
       "least  0.000000    0.000000        0.000000     0.000000  0.000000  0.000000   \n",
       "most   0.029843    0.017626        0.017626     0.017626  0.017626  0.017626   \n",
       "\n",
       "       delivered  linkedin  \n",
       "least   0.000000  0.000000  \n",
       "most    0.017626  0.017626  \n",
       "\n",
       "[2 rows x 2000 columns]"
      ]
     },
     "execution_count": 55,
     "metadata": {},
     "output_type": "execute_result"
    }
   ],
   "source": [
    "cogs_tfidf.sort_values(by='least', axis=1, ascending=False)"
   ]
  },
  {
   "cell_type": "markdown",
   "metadata": {
    "slideshow": {
     "slide_type": "fragment"
    }
   },
   "source": [
    "**Sentiment Analysis** and **TF-IDF** are really helpful when analyzing documents and corpuses of text.\n",
    "\n",
    "But, what if, from the text itself we wanted to predict whether or not the text was likely a 'most' liked or a 'least' liked comment? We'll discuss how to do this in the coming **machine learning** lectures!"
   ]
  }
 ],
 "metadata": {
  "celltoolbar": "Slideshow",
  "kernelspec": {
   "display_name": "Python 3 (ipykernel)",
   "language": "python",
   "name": "python3"
  },
  "language_info": {
   "codemirror_mode": {
    "name": "ipython",
    "version": 3
   },
   "file_extension": ".py",
   "mimetype": "text/x-python",
   "name": "python",
   "nbconvert_exporter": "python",
   "pygments_lexer": "ipython3",
   "version": "3.9.7"
  },
  "rise": {
   "scroll": true
  }
 },
 "nbformat": 4,
 "nbformat_minor": 2
}
