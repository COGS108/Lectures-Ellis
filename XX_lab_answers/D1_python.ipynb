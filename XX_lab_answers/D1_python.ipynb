{
 "cells": [
  {
   "cell_type": "markdown",
   "metadata": {
    "nbgrader": {
     "grade": false,
     "grade_id": "cell-d267fbcc561949c0",
     "locked": true,
     "schema_version": 3,
     "solution": false
    }
   },
   "source": [
    "# D1 : Python Introduction & GitHub\n",
    "\n",
    "This workbook is meant to refresh your memory on Python Programming, to get you comfortable working within a Jupyter Notebook (this week's workbook is *meant* to be programmatically-simple, and help you gain familiarity with GitHub; others will be more involved). Workbooks will be graded for correctness, but the entire workbook is only worth 2 points in the class (so errors will not have a huge negative impact on your grade) and and *all tests are visible* (meaning if you pass all the tests here, you know you've gotten full credit). These are meant to get you more practice *and* help you in assignment completion. (Occasionally, they'll even use the same dataset.)\n",
    "\n",
    "Note, if you're stuck in these workbooks, you can use the COGS108 Tutorials to look information up, search on the Internet, and talk with your classmates & course staff.\n",
    "\n",
    "Workbooks for discussion section will always be broken down into three parts. Answers will be released the following week.\n",
    "\n",
    "In this workbook, you'll get practice with the following:\n",
    "- working in a Jupyter Notebook\n",
    "- math vs. programing variables\n",
    "- dictionaries\n",
    "- indexing\n",
    "- functions"
   ]
  },
  {
   "cell_type": "markdown",
   "metadata": {
    "nbgrader": {
     "grade": false,
     "grade_id": "cell-ac9fa2ac0c858229",
     "locked": true,
     "schema_version": 3,
     "solution": false
    }
   },
   "source": [
    "## General Instructions:\n",
    "\n",
    "Whenever you see:\n",
    "\n",
    "```python\n",
    "# YOUR CODE HERE\n",
    "raise NotImplementedError()\n",
    "```\n",
    "\n",
    "You need to **replace (meaning: delete) these lines of code with some code that answers the question**. Make sure you remove the 'raise' line when you do this (or your notebook will raise an error, regardless of any other code.\n",
    "\n",
    "You should write the answer to the questions in those cells (the ones with `# YOUR CODE HERE`), but you can also add extra cells to explore / investigate things if you need / want to. \n",
    "\n",
    "Any cell with `assert` statements in it is a test cell. You should not try to change or delete these cells. Note that there might be more than one assert that tests a particular question. \n",
    "\n",
    "If a test does fail, reading the error that is printed out should let you know which test failed, which may be useful for fixing it.\n",
    "\n",
    "Note that some cells, including the test cells, may be read only, which means they won't let you edit them. If you cannot edit a cell - that is normal, and you shouldn't need to edit that cell."
   ]
  },
  {
   "cell_type": "markdown",
   "metadata": {
    "nbgrader": {
     "grade": false,
     "grade_id": "cell-1668666e16ede8f8",
     "locked": true,
     "schema_version": 3,
     "solution": false
    }
   },
   "source": [
    "## Part I: Variables\n",
    "\n",
    "Throughout these workbooks, there will be instructions for you to follow. Be sure that you get practice following the directions as specified. While these will not be autograded, it's good to get practice now so that you don't lose unecessary points due to lack of attention to detail in your assignments later.\n",
    "\n",
    "There will be assert cells throughout. If you successfully accommplish the stated programming task and run the cell, the assert cell should run without a problem. However, if you make an error in your code, the assert cell may error."
   ]
  },
  {
   "cell_type": "markdown",
   "metadata": {
    "nbgrader": {
     "grade": false,
     "grade_id": "cell-0d97c9adf2150975",
     "locked": true,
     "schema_version": 3,
     "solution": false
    }
   },
   "source": [
    "\n",
    "**Q1. Define a list called `numbers` including the values 1-5 (inclusively)**"
   ]
  },
  {
   "cell_type": "code",
   "execution_count": 1,
   "metadata": {
    "nbgrader": {
     "grade": false,
     "grade_id": "cell-1a6389eb352f3675",
     "locked": false,
     "schema_version": 3,
     "solution": true
    }
   },
   "outputs": [],
   "source": [
    "### BEGIN SOLUTION\n",
    "## YOUR CODE HERE\n",
    "numbers = list(range(1,6))\n",
    "### END SOLUTION"
   ]
  },
  {
   "cell_type": "code",
   "execution_count": 2,
   "metadata": {
    "nbgrader": {
     "grade": true,
     "grade_id": "cell-85b6650a8d53d1db",
     "locked": true,
     "points": 0.25,
     "schema_version": 3,
     "solution": false
    }
   },
   "outputs": [],
   "source": [
    "assert isinstance(numbers, list)\n",
    "assert len(numbers) == 5"
   ]
  },
  {
   "cell_type": "markdown",
   "metadata": {
    "nbgrader": {
     "grade": false,
     "grade_id": "cell-38413adfac114c14",
     "locked": true,
     "schema_version": 3,
     "solution": false
    }
   },
   "source": [
    "**Q2. Define a tuple called `letters` that contains the individual letters a-e (inclusively)**"
   ]
  },
  {
   "cell_type": "code",
   "execution_count": 3,
   "metadata": {
    "nbgrader": {
     "grade": false,
     "grade_id": "cell-11375c86b1b648cd",
     "locked": false,
     "schema_version": 3,
     "solution": true
    }
   },
   "outputs": [],
   "source": [
    "### BEGIN SOLUTION\n",
    "letters = tuple('a b c d e'.split(' '))\n",
    "### END SOLUTION"
   ]
  },
  {
   "cell_type": "code",
   "execution_count": 4,
   "metadata": {
    "nbgrader": {
     "grade": true,
     "grade_id": "cell-339d85c35804d3ed",
     "locked": true,
     "points": 0.25,
     "schema_version": 3,
     "solution": false
    }
   },
   "outputs": [],
   "source": [
    "assert isinstance(letters, tuple)\n",
    "assert len(letters) == 5"
   ]
  },
  {
   "cell_type": "markdown",
   "metadata": {
    "nbgrader": {
     "grade": false,
     "grade_id": "cell-b181e7c639fa0e54",
     "locked": true,
     "schema_version": 3,
     "solution": false
    }
   },
   "source": [
    "Now that you've defined a few variables, let's start working with a few variables to remind ourselves of the difference between programming variables and math variables.\n",
    "\n",
    "In algebra, the following doesn't make a whole lot of sense:\n",
    "$$x = x + 1$$\n",
    "\n",
    "If you try to subtract 1 from each side, you're stuck with something nonsensical. However in programming, `x = x + 1` is a totally reasonable statement.\n"
   ]
  },
  {
   "cell_type": "markdown",
   "metadata": {
    "nbgrader": {
     "grade": false,
     "grade_id": "cell-31a2fd7010e92e5b",
     "locked": true,
     "schema_version": 3,
     "solution": false
    }
   },
   "source": [
    "**Q3a. Define a variable x to have the value 10**"
   ]
  },
  {
   "cell_type": "code",
   "execution_count": 5,
   "metadata": {
    "nbgrader": {
     "grade": false,
     "grade_id": "cell-16b1b433775aca10",
     "locked": false,
     "schema_version": 3,
     "solution": true
    }
   },
   "outputs": [],
   "source": [
    "### BEGIN SOLUTION\n",
    "x = 10\n",
    "### END SOLUTION"
   ]
  },
  {
   "cell_type": "code",
   "execution_count": 6,
   "metadata": {
    "nbgrader": {
     "grade": true,
     "grade_id": "cell-920d765fc62ce55b",
     "locked": true,
     "points": 0.25,
     "schema_version": 3,
     "solution": false
    }
   },
   "outputs": [],
   "source": [
    "assert x==10"
   ]
  },
  {
   "cell_type": "markdown",
   "metadata": {
    "nbgrader": {
     "grade": false,
     "grade_id": "cell-141c59ab41d2a13e",
     "locked": true,
     "schema_version": 3,
     "solution": false
    }
   },
   "source": [
    "**Now that you've done that, run the following cell.**"
   ]
  },
  {
   "cell_type": "code",
   "execution_count": 7,
   "metadata": {
    "nbgrader": {
     "grade": false,
     "grade_id": "cell-eec6c8bda3332f01",
     "locked": true,
     "schema_version": 3,
     "solution": false
    }
   },
   "outputs": [],
   "source": [
    "x = x + 1"
   ]
  },
  {
   "cell_type": "markdown",
   "metadata": {
    "nbgrader": {
     "grade": false,
     "grade_id": "cell-1e77592aede0f0d0",
     "locked": true,
     "schema_version": 3,
     "solution": false
    }
   },
   "source": [
    "**Q3b. Assign what you think the value of x is now to the variable `y`**\n",
    "\n",
    "Then run the assert statement. If you don't get an error, you're doing well on programmatic variables and how they differ from mathematical variables."
   ]
  },
  {
   "cell_type": "code",
   "execution_count": 8,
   "metadata": {
    "nbgrader": {
     "grade": true,
     "grade_id": "cell-f766f9a75b3fa4f8",
     "locked": false,
     "points": 0,
     "schema_version": 3,
     "solution": true
    }
   },
   "outputs": [],
   "source": [
    "### BEGIN SOLUTION\n",
    "y = 11\n",
    "### END SOLUTION"
   ]
  },
  {
   "cell_type": "code",
   "execution_count": 9,
   "metadata": {
    "nbgrader": {
     "grade": true,
     "grade_id": "cell-3092450735dbaba6",
     "locked": true,
     "points": 0.5,
     "schema_version": 3,
     "solution": false
    }
   },
   "outputs": [],
   "source": [
    "assert x==y\n",
    "assert x == 11\n",
    "assert y == 11"
   ]
  },
  {
   "cell_type": "markdown",
   "metadata": {
    "nbgrader": {
     "grade": false,
     "grade_id": "cell-9c512155aaaff9ed",
     "locked": true,
     "schema_version": 3,
     "solution": false
    }
   },
   "source": [
    "Dictionaries are a fundamental aspect to programming in Python. We'll create a dictionary here using the variables `numbers` and `letters` we already created.\n",
    "\n",
    "**Q4. Create a Pyton dict `dictionary` where the keys are the elements in the `letters` variable and their values are the corresponding elements in `numbers`.**"
   ]
  },
  {
   "cell_type": "code",
   "execution_count": 10,
   "metadata": {
    "nbgrader": {
     "grade": false,
     "grade_id": "cell-ee1c3f48e50799d6",
     "locked": false,
     "schema_version": 3,
     "solution": true
    }
   },
   "outputs": [],
   "source": [
    "### BEGIN SOLUTION\n",
    "dictionary = {key: val for key, val in zip(letters, numbers)}\n",
    "### END SOLUTION"
   ]
  },
  {
   "cell_type": "code",
   "execution_count": 11,
   "metadata": {
    "nbgrader": {
     "grade": true,
     "grade_id": "cell-da03f154e4ba0e03",
     "locked": true,
     "points": 0.25,
     "schema_version": 3,
     "solution": false
    }
   },
   "outputs": [],
   "source": [
    "assert sorted(dictionary.items()) == [\n",
    "    ('a', 1),\n",
    "    ('b', 2),\n",
    "    ('c', 3),\n",
    "    ('d', 4),\n",
    "    ('e', 5),\n",
    "]"
   ]
  },
  {
   "cell_type": "markdown",
   "metadata": {
    "nbgrader": {
     "grade": false,
     "grade_id": "cell-b02a9ae05587b327",
     "locked": true,
     "schema_version": 3,
     "solution": false
    }
   },
   "source": [
    "**Q5.** You realize you want to add a key-value pair to `dictionary`. **Add the key value par `'f':6 ` to your dictionary. Print `dictionary`**"
   ]
  },
  {
   "cell_type": "code",
   "execution_count": 12,
   "metadata": {
    "nbgrader": {
     "grade": false,
     "grade_id": "cell-ed55c090a73fdba7",
     "locked": false,
     "schema_version": 3,
     "solution": true
    }
   },
   "outputs": [
    {
     "name": "stdout",
     "output_type": "stream",
     "text": [
      "{'a': 1, 'b': 2, 'c': 3, 'd': 4, 'e': 5, 'f': 6}\n"
     ]
    }
   ],
   "source": [
    "### BEGIN SOLUTION\n",
    "dictionary['f'] = 6\n",
    "print(dictionary)\n",
    "### END SOLUTION"
   ]
  },
  {
   "cell_type": "code",
   "execution_count": 13,
   "metadata": {
    "nbgrader": {
     "grade": true,
     "grade_id": "cell-b4d6c074ff2710f9",
     "locked": true,
     "points": 0.25,
     "schema_version": 3,
     "solution": false
    }
   },
   "outputs": [],
   "source": [
    "assert sorted(dictionary.items()) == [\n",
    "    ('a', 1),\n",
    "    ('b', 2),\n",
    "    ('c', 3),\n",
    "    ('d', 4),\n",
    "    ('e', 5),\n",
    "    ('f', 6)\n",
    "]"
   ]
  },
  {
   "cell_type": "markdown",
   "metadata": {
    "nbgrader": {
     "grade": false,
     "grade_id": "cell-1d90970cd1fb9918",
     "locked": true,
     "schema_version": 3,
     "solution": false
    }
   },
   "source": [
    "## Part II: Functions\n",
    "\n",
    "In addition to knowing how to work with and operate on dictionaries, knowing how to define and write helpful functions is and incredibly important skill to have. We'll write a few simple functions here."
   ]
  },
  {
   "cell_type": "markdown",
   "metadata": {
    "nbgrader": {
     "grade": false,
     "grade_id": "cell-5717ba77fd993ed8",
     "locked": true,
     "schema_version": 3,
     "solution": false
    }
   },
   "source": [
    "**Q6. Write a function `sum_odd` that adds the values in a tuple together and then returns a boolean describing whether or not the sum of the values in the tuple is an odd number.**"
   ]
  },
  {
   "cell_type": "code",
   "execution_count": 14,
   "metadata": {
    "nbgrader": {
     "grade": false,
     "grade_id": "cell-42bce381fcf14c8f",
     "locked": false,
     "schema_version": 3,
     "solution": true
    }
   },
   "outputs": [],
   "source": [
    "### BEGIN SOLUTION\n",
    "def sum_odd(tup):\n",
    "    \n",
    "    a = sum(tup)\n",
    "    inds = a % 2 != 0\n",
    "    \n",
    "    return inds\n",
    "### END SOLUTION"
   ]
  },
  {
   "cell_type": "markdown",
   "metadata": {
    "nbgrader": {
     "grade": false,
     "grade_id": "cell-9cb9a318e0843f78",
     "locked": true,
     "schema_version": 3,
     "solution": false
    }
   },
   "source": [
    "**Q7. Use this function to determine if the sum of the `numbers` list you generated earlier is odd.** "
   ]
  },
  {
   "cell_type": "code",
   "execution_count": 15,
   "metadata": {
    "nbgrader": {
     "grade": false,
     "grade_id": "cell-ec4e7d09211d2df5",
     "locked": false,
     "schema_version": 3,
     "solution": true
    }
   },
   "outputs": [
    {
     "data": {
      "text/plain": [
       "True"
      ]
     },
     "execution_count": 15,
     "metadata": {},
     "output_type": "execute_result"
    }
   ],
   "source": [
    "### BEGIN SOLUTION\n",
    "sum_odd(numbers)\n",
    "### END SOLUTION"
   ]
  },
  {
   "cell_type": "markdown",
   "metadata": {
    "nbgrader": {
     "grade": false,
     "grade_id": "cell-c63fc7c8ac4a0580",
     "locked": true,
     "schema_version": 3,
     "solution": false
    }
   },
   "source": [
    "**Q8. Create a variable `even` that would produce the value 'False' from the `sum_odd` function.**"
   ]
  },
  {
   "cell_type": "code",
   "execution_count": 16,
   "metadata": {
    "nbgrader": {
     "grade": false,
     "grade_id": "cell-334853547c7c0431",
     "locked": false,
     "schema_version": 3,
     "solution": true
    }
   },
   "outputs": [
    {
     "data": {
      "text/plain": [
       "False"
      ]
     },
     "execution_count": 16,
     "metadata": {},
     "output_type": "execute_result"
    }
   ],
   "source": [
    "### BEGIN SOLUTION\n",
    "even = range(1,5)\n",
    "sum_odd(even)\n",
    "### END SOLUTION"
   ]
  },
  {
   "cell_type": "code",
   "execution_count": 17,
   "metadata": {
    "nbgrader": {
     "grade": true,
     "grade_id": "cell-e7a7010c31f35057",
     "locked": true,
     "points": 0.25,
     "schema_version": 3,
     "solution": false
    }
   },
   "outputs": [],
   "source": [
    "assert sum_odd(even) == False"
   ]
  },
  {
   "cell_type": "markdown",
   "metadata": {
    "nbgrader": {
     "grade": false,
     "grade_id": "cell-d456f4ace5b4e7c1",
     "locked": true,
     "schema_version": 3,
     "solution": false
    }
   },
   "source": [
    "## Part 3: `git` and GitHub"
   ]
  },
  {
   "cell_type": "markdown",
   "metadata": {
    "nbgrader": {
     "grade": false,
     "grade_id": "cell-2715819d5f535edf",
     "locked": true,
     "schema_version": 3,
     "solution": false
    }
   },
   "source": [
    "**Q9. Work through the [Hello World GitHub Guide](https://guides.github.com/activities/hello-world/), carrying out the entire document**, being sure to understand what you're doing in each step. Note that we won't *actually* know if you do this or not; however, completing and understanding this guide will help you complete A1. So, if git and GitHub are new to you, please do this! (If you're already familiar with GitHub, then you could skip this part.)"
   ]
  },
  {
   "cell_type": "markdown",
   "metadata": {
    "nbgrader": {
     "grade": false,
     "grade_id": "cell-1e1301ba31c2a1bc",
     "locked": true,
     "schema_version": 3,
     "solution": false
    }
   },
   "source": [
    "**If you've worked through this workbook with ease and have full understanding of what was going on in each step, feel free to help out a classmate or move on to completing A1.**"
   ]
  }
 ],
 "metadata": {
  "celltoolbar": "Create Assignment",
  "kernelspec": {
   "display_name": "Python 3 (ipykernel)",
   "language": "python",
   "name": "python3"
  },
  "language_info": {
   "codemirror_mode": {
    "name": "ipython",
    "version": 3
   },
   "file_extension": ".py",
   "mimetype": "text/x-python",
   "name": "python",
   "nbconvert_exporter": "python",
   "pygments_lexer": "ipython3",
   "version": "3.9.7"
  }
 },
 "nbformat": 4,
 "nbformat_minor": 2
}
