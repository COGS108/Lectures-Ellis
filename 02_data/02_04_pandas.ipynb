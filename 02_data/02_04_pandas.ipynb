{
 "cells": [
  {
   "cell_type": "markdown",
   "metadata": {
    "slideshow": {
     "slide_type": "slide"
    }
   },
   "source": [
    "## Course Announcements\n",
    "\n",
    "Due Sunday (11:59 PM):\n",
    "- Pre-course Survey\n",
    "- D1\n",
    "- Q2\n",
    "- A1\n",
    "- Group Formation Survey"
   ]
  },
  {
   "cell_type": "markdown",
   "metadata": {
    "slideshow": {
     "slide_type": "slide"
    }
   },
   "source": [
    "# Data Wrangling\n",
    "\n",
    "- `pandas`\n",
    "- Where to find data?\n",
    "   - Web Scraping & APIs"
   ]
  },
  {
   "cell_type": "markdown",
   "metadata": {
    "slideshow": {
     "slide_type": "slide"
    }
   },
   "source": [
    "<center>\n",
    "<img src=\"img/pandas.png\" alt=\"pandas\" width=\"600px\">\n",
    "</center>"
   ]
  },
  {
   "cell_type": "markdown",
   "metadata": {
    "slideshow": {
     "slide_type": "-"
    }
   },
   "source": [
    "Pandas is Python library for managing heterogenous data.\n",
    "\n",
    "At its core, Pandas is used for the **DataFrame** object, which is:\n",
    "- a data structure for labeled rows and columns of data\n",
    "- associated methods and utilities for working with data.\n",
    "- each column contains a `pandas` **Series**"
   ]
  },
  {
   "cell_type": "markdown",
   "metadata": {},
   "source": [
    "## After this: \n",
    "\n",
    "When you are done with this notebook/lecture... the real learning can begin!\n",
    "\n",
    "One of your best tools is [https://pandastutor.com](https://pandastutor.com)\n",
    "\n",
    "Another is the documentation for pandas including [https://pandas.pydata.org/docs/user_guide/10min.html](https://pandas.pydata.org/docs/user_guide/10min.html)"
   ]
  },
  {
   "cell_type": "markdown",
   "metadata": {
    "slideshow": {
     "slide_type": "slide"
    }
   },
   "source": [
    "## Setup"
   ]
  },
  {
   "cell_type": "code",
   "execution_count": null,
   "metadata": {
    "slideshow": {
     "slide_type": "-"
    }
   },
   "outputs": [],
   "source": [
    "# Import standard libraries\n",
    "import pandas as pd\n",
    "import numpy as np"
   ]
  },
  {
   "cell_type": "code",
   "execution_count": null,
   "metadata": {},
   "outputs": [],
   "source": [
    "# reminder about tab completion and contextual help"
   ]
  },
  {
   "cell_type": "markdown",
   "metadata": {
    "slideshow": {
     "slide_type": "slide"
    }
   },
   "source": [
    "## Loading Data"
   ]
  },
  {
   "cell_type": "code",
   "execution_count": null,
   "metadata": {
    "slideshow": {
     "slide_type": "-"
    }
   },
   "outputs": [],
   "source": [
    "# Load a csv file of data\n",
    "df = pd.read_csv('data/my_data.csv')"
   ]
  },
  {
   "cell_type": "markdown",
   "metadata": {
    "slideshow": {
     "slide_type": "-"
    }
   },
   "source": [
    "Note: there are other `pd.read_*` functions for other files types. (i.e. `pd.read_excel()` and `pd.read_json()`)"
   ]
  },
  {
   "cell_type": "code",
   "execution_count": null,
   "metadata": {
    "slideshow": {
     "slide_type": "fragment"
    }
   },
   "outputs": [],
   "source": [
    "# Check out a few rows of the dataframe\n",
    "df"
   ]
  },
  {
   "cell_type": "markdown",
   "metadata": {
    "slideshow": {
     "slide_type": "-"
    }
   },
   "source": [
    "Pandas DataFrame:\n",
    "- Index for each row\n",
    "- Column name for each column (Series)\n",
    "- Stores heterogenous types"
   ]
  },
  {
   "cell_type": "markdown",
   "metadata": {
    "slideshow": {
     "slide_type": "slide"
    }
   },
   "source": [
    "## DataFrame Information (attributes)"
   ]
  },
  {
   "cell_type": "code",
   "execution_count": null,
   "metadata": {
    "slideshow": {
     "slide_type": "fragment"
    }
   },
   "outputs": [],
   "source": [
    "# Check how large our dataframe is\n",
    "df.shape"
   ]
  },
  {
   "cell_type": "code",
   "execution_count": null,
   "metadata": {
    "slideshow": {
     "slide_type": "fragment"
    }
   },
   "outputs": [],
   "source": [
    "# Check what columns we have in our DataFrame\n",
    "df.columns"
   ]
  },
  {
   "cell_type": "code",
   "execution_count": null,
   "metadata": {
    "scrolled": true,
    "slideshow": {
     "slide_type": "fragment"
    }
   },
   "outputs": [],
   "source": [
    "# Check the datatypes of our variables\n",
    "df.dtypes"
   ]
  },
  {
   "cell_type": "markdown",
   "metadata": {
    "slideshow": {
     "slide_type": "slide"
    }
   },
   "source": [
    "## Slicing"
   ]
  },
  {
   "cell_type": "code",
   "execution_count": null,
   "metadata": {
    "scrolled": true,
    "slideshow": {
     "slide_type": "fragment"
    }
   },
   "outputs": [],
   "source": [
    "# Slicing (Indexing): select a Series (column) using its name\n",
    "df['last_name']"
   ]
  },
  {
   "cell_type": "code",
   "execution_count": null,
   "metadata": {
    "slideshow": {
     "slide_type": "fragment"
    }
   },
   "outputs": [],
   "source": [
    "type(df['last_name'])"
   ]
  },
  {
   "cell_type": "code",
   "execution_count": null,
   "metadata": {},
   "outputs": [],
   "source": [
    "df.loc[5:10, ['age', 'last_name']]"
   ]
  },
  {
   "cell_type": "code",
   "execution_count": null,
   "metadata": {
    "slideshow": {
     "slide_type": "fragment"
    }
   },
   "outputs": [],
   "source": [
    "# Slicing: select a row & column with 'loc'\n",
    "df.loc[10, 'score']"
   ]
  },
  {
   "cell_type": "markdown",
   "metadata": {
    "slideshow": {
     "slide_type": "slide"
    }
   },
   "source": [
    "#### Question #1\n",
    "\n",
    "What would be the output of `df['age'] > 10`?\n",
    "\n",
    "- A) subset of `df` including only rows of individuals older than 10\n",
    "- B) a Series of Booleans with `True` for rows where age is greater than 10 and `False` otherwise\n",
    "- C) a Series of `id`s of rows where observations are greater than 10 \n",
    "- D) an error\n",
    "- E) I'm lost\n",
    "\n",
    "Link to Form: https://forms.gle/k1M6rrYjpVGdMwHk9\n",
    "\n",
    "![](../QRCodes/02_04_pandas_logic.png)"
   ]
  },
  {
   "cell_type": "code",
   "execution_count": null,
   "metadata": {
    "slideshow": {
     "slide_type": "-"
    }
   },
   "outputs": [],
   "source": [
    "## YOUR CODE HERE"
   ]
  },
  {
   "cell_type": "code",
   "execution_count": null,
   "metadata": {},
   "outputs": [],
   "source": [
    "## getting a subset using conditional logic"
   ]
  },
  {
   "cell_type": "markdown",
   "metadata": {
    "slideshow": {
     "slide_type": "slide"
    }
   },
   "source": [
    "## Exploring the data\n",
    "\n",
    "- quantitative (numbers)\n",
    "- qualitative (categorical)\n",
    "- basic descriptive statistics"
   ]
  },
  {
   "cell_type": "code",
   "execution_count": null,
   "metadata": {
    "scrolled": true,
    "slideshow": {
     "slide_type": "slide"
    }
   },
   "outputs": [],
   "source": [
    "# Checking categorical data\n",
    "df['first_name'].value_counts()"
   ]
  },
  {
   "cell_type": "code",
   "execution_count": null,
   "metadata": {
    "slideshow": {
     "slide_type": "fragment"
    }
   },
   "outputs": [],
   "source": [
    "# Check a particular descriptive statistic\n",
    "# mean(), median(), mode(), std()...\n",
    "df['value'].mean()"
   ]
  },
  {
   "cell_type": "code",
   "execution_count": null,
   "metadata": {
    "slideshow": {
     "slide_type": "fragment"
    }
   },
   "outputs": [],
   "source": [
    "# Describe a particular column\n",
    "df['score'].describe()"
   ]
  },
  {
   "cell_type": "code",
   "execution_count": null,
   "metadata": {
    "scrolled": true,
    "slideshow": {
     "slide_type": "fragment"
    }
   },
   "outputs": [],
   "source": [
    "# Get descriptive statistics of all numeric columns\n",
    "df.describe()"
   ]
  },
  {
   "cell_type": "markdown",
   "metadata": {
    "slideshow": {
     "slide_type": "fragment"
    }
   },
   "source": [
    "#### Question #2\n",
    "\n",
    "What's the median age of the individuals in this dataset?\n",
    "\n",
    "Link to Form: https://forms.gle/RjHPN5KsHE3jDjaNA\n",
    "\n",
    "![](../QRCodes/02_04_pandas_median.png)"
   ]
  },
  {
   "cell_type": "code",
   "execution_count": null,
   "metadata": {},
   "outputs": [],
   "source": [
    "## YOUR CODE HERE"
   ]
  },
  {
   "cell_type": "markdown",
   "metadata": {
    "nbgrader": {
     "grade": false,
     "grade_id": "cell-31cc3c7a4ac258dc",
     "locked": true,
     "schema_version": 1,
     "solution": false
    },
    "slideshow": {
     "slide_type": "slide"
    }
   },
   "source": [
    "## `pandas`: Common Manipulations\n",
    "\n",
    "You'll want to be *very* familiar with a few common data manipulations when wrangling data, each of which is described below:\n",
    "\n",
    "Manipulation | Description\n",
    "-------|------------\n",
    "**select** | select which columns to include in dataset\n",
    "**filter** | filter dataset to only include specified rows\n",
    "**mutate** | add a new column based on values in other columns\n",
    "**groupby** | group values to apply a function within the specified groups\n",
    "**summarize** | calculate specified summary metric of a specified variable\n",
    "**arrange** | sort rows ascending or descending order of a specified column\n",
    "**merge** | join separate datasets into a single dataset based on a common column\n",
    "\n"
   ]
  },
  {
   "cell_type": "markdown",
   "metadata": {
    "slideshow": {
     "slide_type": "slide"
    }
   },
   "source": [
    "## Selecting & Dropping Columns\n",
    "\n",
    "- include subset of columns of larger data frame"
   ]
  },
  {
   "cell_type": "code",
   "execution_count": null,
   "metadata": {
    "slideshow": {
     "slide_type": "-"
    }
   },
   "outputs": [],
   "source": [
    "df.head()"
   ]
  },
  {
   "cell_type": "code",
   "execution_count": null,
   "metadata": {
    "scrolled": true,
    "slideshow": {
     "slide_type": "fragment"
    }
   },
   "outputs": [],
   "source": [
    "# specify which columns to include\n",
    "select_df = df[['id', 'age', 'score', 'value']]\n",
    "select_df.head()"
   ]
  },
  {
   "cell_type": "code",
   "execution_count": null,
   "metadata": {
    "slideshow": {
     "slide_type": "fragment"
    }
   },
   "outputs": [],
   "source": [
    "# ...or Drop columns we don't want\n",
    "df = df.drop(labels=['first_name', 'last_name'], axis='columns')"
   ]
  },
  {
   "cell_type": "code",
   "execution_count": null,
   "metadata": {
    "slideshow": {
     "slide_type": "-"
    }
   },
   "outputs": [],
   "source": [
    "# Check out the DataFrame after dropping some columns\n",
    "df.head()"
   ]
  },
  {
   "cell_type": "code",
   "execution_count": null,
   "metadata": {},
   "outputs": [],
   "source": [
    "# Drop rows we don't want\n",
    "new_df = df.drop(labels=[0,2,6], axis='rows')"
   ]
  },
  {
   "cell_type": "code",
   "execution_count": null,
   "metadata": {
    "scrolled": true
   },
   "outputs": [],
   "source": [
    "new_df"
   ]
  },
  {
   "cell_type": "markdown",
   "metadata": {},
   "source": [
    "#### Think-Pair-Share\n",
    "\n",
    "What's wrong with the DataFrame after dropping? What went wrong? How do we fix it?"
   ]
  },
  {
   "cell_type": "code",
   "execution_count": null,
   "metadata": {},
   "outputs": [],
   "source": [
    "## YOUR CODE HERE"
   ]
  },
  {
   "cell_type": "markdown",
   "metadata": {
    "slideshow": {
     "slide_type": "slide"
    }
   },
   "source": [
    "## Filtering Data (slicing)\n",
    "\n",
    "- include a subset (slice) of rows from larger data frame"
   ]
  },
  {
   "cell_type": "code",
   "execution_count": null,
   "metadata": {
    "slideshow": {
     "slide_type": "fragment"
    }
   },
   "outputs": [],
   "source": [
    "# Check if we have any data from people below the age of 18\n",
    "sum(df['age'] < 18)"
   ]
  },
  {
   "cell_type": "code",
   "execution_count": null,
   "metadata": {
    "scrolled": true
   },
   "outputs": [],
   "source": [
    "# before filtering\n",
    "df.shape"
   ]
  },
  {
   "cell_type": "code",
   "execution_count": null,
   "metadata": {
    "slideshow": {
     "slide_type": "fragment"
    }
   },
   "outputs": [],
   "source": [
    "# Select only participants who are 18 or older AND who have a score of -1\n",
    "df_new = df[df['age'] >= 18] # & (df['score']==-1)]\n",
    "df_new.shape"
   ]
  },
  {
   "cell_type": "markdown",
   "metadata": {
    "slideshow": {
     "slide_type": "slide"
    }
   },
   "source": [
    "## Missing Data (NaNs)\n",
    "\n",
    " Examples: `isnull()`, `dropna()`, `fillna()`."
   ]
  },
  {
   "cell_type": "code",
   "execution_count": null,
   "metadata": {
    "slideshow": {
     "slide_type": "fragment"
    }
   },
   "outputs": [],
   "source": [
    "# Check for missing values in a column (series)\n",
    "df['value'].hasnans"
   ]
  },
  {
   "cell_type": "code",
   "execution_count": null,
   "metadata": {},
   "outputs": [],
   "source": [
    "# can operate on entire dataframe\n",
    "df.isnull()"
   ]
  },
  {
   "cell_type": "code",
   "execution_count": null,
   "metadata": {},
   "outputs": [],
   "source": [
    "# Check for null values\n",
    "df.isnull().sum(axis='rows')"
   ]
  },
  {
   "cell_type": "code",
   "execution_count": null,
   "metadata": {
    "scrolled": true,
    "slideshow": {
     "slide_type": "fragment"
    }
   },
   "outputs": [],
   "source": [
    "# Have a look at the missing values\n",
    "df[df['value'].isnull()]"
   ]
  },
  {
   "cell_type": "markdown",
   "metadata": {
    "slideshow": {
     "slide_type": "slide"
    }
   },
   "source": [
    "## Dealing with Missing Data - NaNs"
   ]
  },
  {
   "cell_type": "code",
   "execution_count": null,
   "metadata": {
    "slideshow": {
     "slide_type": "fragment"
    }
   },
   "outputs": [],
   "source": [
    "# Dealing with null values: Drop rows with missing data\n",
    "print('before dropping null rows',df.shape)\n",
    "no_na_df = df.dropna()\n",
    "print('new shape', no_na_df.shape)"
   ]
  },
  {
   "cell_type": "markdown",
   "metadata": {
    "slideshow": {
     "slide_type": "slide"
    }
   },
   "source": [
    "## Finding & Dealing with Bad Values"
   ]
  },
  {
   "cell_type": "code",
   "execution_count": null,
   "metadata": {
    "slideshow": {
     "slide_type": "fragment"
    }
   },
   "outputs": [],
   "source": [
    "# Check for the properties of specific columns\n",
    "df['score'].describe()"
   ]
  },
  {
   "cell_type": "markdown",
   "metadata": {
    "slideshow": {
     "slide_type": "fragment"
    }
   },
   "source": [
    "### Think-Pair-Share\n",
    "\n",
    "What sticks out to you in the above output?"
   ]
  },
  {
   "cell_type": "code",
   "execution_count": null,
   "metadata": {
    "scrolled": true,
    "slideshow": {
     "slide_type": "fragment"
    }
   },
   "outputs": [],
   "source": [
    "# Check the plot of the data for score to see the distribution\n",
    "df['score'].plot(kind='hist', bins=25);"
   ]
  },
  {
   "cell_type": "code",
   "execution_count": null,
   "metadata": {
    "slideshow": {
     "slide_type": "fragment"
    }
   },
   "outputs": [],
   "source": [
    "# Look for how many values have a -1 value in 'score'\n",
    "sum(df['score'] == -1)"
   ]
  },
  {
   "cell_type": "code",
   "execution_count": null,
   "metadata": {
    "slideshow": {
     "slide_type": "fragment"
    }
   },
   "outputs": [],
   "source": [
    "# Drop any row with -1 value in 'score'\n",
    "df = df[df['score'] != -1]\n",
    "df.shape"
   ]
  },
  {
   "cell_type": "markdown",
   "metadata": {
    "slideshow": {
     "slide_type": "slide"
    }
   },
   "source": [
    "## Creating new columns (mutating)\n",
    "\n",
    "- `assign` can be very helpful in adding a new column\n",
    "- lambda functions can be used to carry out calculations"
   ]
  },
  {
   "cell_type": "code",
   "execution_count": null,
   "metadata": {
    "slideshow": {
     "slide_type": "fragment"
    }
   },
   "outputs": [],
   "source": [
    "# convert age in years to age in (approximate) days\n",
    "df = df.assign(age_days = df['age'] * 365)\n",
    "df.head()"
   ]
  },
  {
   "cell_type": "code",
   "execution_count": null,
   "metadata": {},
   "outputs": [],
   "source": [
    "df['age_months'] = df['age'] * 12\n",
    "df.head()"
   ]
  },
  {
   "cell_type": "markdown",
   "metadata": {
    "slideshow": {
     "slide_type": "slide"
    }
   },
   "source": [
    "## Grouping & summarizing\n",
    "\n",
    "- group by a particular variable\n",
    "- calculate summary statistics/metrics within group"
   ]
  },
  {
   "cell_type": "code",
   "execution_count": null,
   "metadata": {},
   "outputs": [],
   "source": [
    "df['first_name'].value_counts()"
   ]
  },
  {
   "cell_type": "code",
   "execution_count": null,
   "metadata": {
    "slideshow": {
     "slide_type": "-"
    }
   },
   "outputs": [],
   "source": [
    "# caclculate average within each age\n",
    "df.groupby('first_name').age.mean()"
   ]
  },
  {
   "cell_type": "markdown",
   "metadata": {
    "slideshow": {
     "slide_type": "slide"
    }
   },
   "source": [
    "## Sorting Rows (arrange)\n",
    "\n",
    "- specify order in which to display rows"
   ]
  },
  {
   "cell_type": "code",
   "execution_count": null,
   "metadata": {
    "scrolled": true,
    "slideshow": {
     "slide_type": "fragment"
    }
   },
   "outputs": [],
   "source": [
    "df.head()"
   ]
  },
  {
   "cell_type": "code",
   "execution_count": null,
   "metadata": {
    "scrolled": true,
    "slideshow": {
     "slide_type": "fragment"
    }
   },
   "outputs": [],
   "source": [
    "# sort by values in age\n",
    "df = df.sort_values(by = ['age'], ascending=True)\n",
    "df.head()"
   ]
  },
  {
   "cell_type": "markdown",
   "metadata": {
    "slideshow": {
     "slide_type": "slide"
    }
   },
   "source": [
    "## Combining datasets\n",
    "![](img/join.png)"
   ]
  },
  {
   "cell_type": "code",
   "execution_count": null,
   "metadata": {
    "slideshow": {
     "slide_type": "slide"
    }
   },
   "outputs": [],
   "source": [
    "## Create two DataFrames\n",
    "left = pd.DataFrame({'key': ['A', 'B', 'C', 'D'], 'value': np.random.randn(4)})    \n",
    "right = pd.DataFrame({'key': ['B', 'D', 'E', 'F'], 'value': np.random.randn(4)})"
   ]
  },
  {
   "cell_type": "code",
   "execution_count": null,
   "metadata": {
    "scrolled": true,
    "slideshow": {
     "slide_type": "fragment"
    }
   },
   "outputs": [],
   "source": [
    "left"
   ]
  },
  {
   "cell_type": "code",
   "execution_count": null,
   "metadata": {
    "scrolled": true,
    "slideshow": {
     "slide_type": "fragment"
    }
   },
   "outputs": [],
   "source": [
    "right"
   ]
  },
  {
   "cell_type": "code",
   "execution_count": null,
   "metadata": {
    "slideshow": {
     "slide_type": "fragment"
    }
   },
   "outputs": [],
   "source": [
    "left.merge?"
   ]
  },
  {
   "cell_type": "code",
   "execution_count": null,
   "metadata": {
    "slideshow": {
     "slide_type": "fragment"
    }
   },
   "outputs": [],
   "source": [
    "# inner merge by default\n",
    "pd.merge(left, right, on='key')"
   ]
  },
  {
   "cell_type": "code",
   "execution_count": null,
   "metadata": {
    "slideshow": {
     "slide_type": "fragment"
    }
   },
   "outputs": [],
   "source": [
    "# same as above\n",
    "pd.merge(left, right, on='key', how='inner')"
   ]
  },
  {
   "cell_type": "code",
   "execution_count": null,
   "metadata": {
    "scrolled": true,
    "slideshow": {
     "slide_type": "fragment"
    }
   },
   "outputs": [],
   "source": [
    "# right merge\n",
    "pd.merge(left, right, on='key', how='right')"
   ]
  },
  {
   "cell_type": "code",
   "execution_count": null,
   "metadata": {
    "scrolled": true,
    "slideshow": {
     "slide_type": "fragment"
    }
   },
   "outputs": [],
   "source": [
    "# right merge\n",
    "pd.merge(left, right, on='key', how='left')"
   ]
  },
  {
   "cell_type": "code",
   "execution_count": null,
   "metadata": {
    "slideshow": {
     "slide_type": "fragment"
    }
   },
   "outputs": [],
   "source": [
    "# outer join\n",
    "pd.merge(left, right, on='key', how='outer')"
   ]
  },
  {
   "cell_type": "markdown",
   "metadata": {
    "slideshow": {
     "slide_type": "slide"
    }
   },
   "source": [
    "#### Question #3\n",
    "\n",
    "If table A had 5 rows and table B had 5 rows and 3 of those rows in each table were from the same observations present in the *other* table, how many rows would be present if an **inner merge** were carried out?\n",
    "\n",
    "- A) 3\n",
    "- B) 5\n",
    "- C) 10\n",
    "- D) 13\n",
    "- E) Totally unsure\n",
    "\n",
    "#### Question #4\n",
    "\n",
    "If table A had 5 rows and table B had 5 rows and 3 of those rows in each table were from the same observations present in the *other* table, how many rows would be present if a **left merge** were carried out?\n",
    "\n",
    "- A) 3\n",
    "- B) 5\n",
    "- C) 10\n",
    "- D) 13\n",
    "- E) Totally unsure\n",
    "\n",
    "Link to Form: https://forms.gle/PSKFFj23EF8XAfrY8\n",
    "\n",
    "![](../QRCodes/02_04_pandas_joins.png)"
   ]
  },
  {
   "cell_type": "markdown",
   "metadata": {
    "slideshow": {
     "slide_type": "slide"
    }
   },
   "source": [
    "## Application Program Interface (APIs)\n",
    "\n",
    "- APIs are basically a way for software to talk to software \n",
    "    - They are an interface into an application / website / database designed for computers / software."
   ]
  },
  {
   "cell_type": "markdown",
   "metadata": {
    "slideshow": {
     "slide_type": "fragment"
    }
   },
   "source": [
    "Notes on APIs:\n",
    "- Follow API guidelines! \n",
    "- These guidelines typically specify the number / rate / size of requests"
   ]
  },
  {
   "cell_type": "markdown",
   "metadata": {
    "slideshow": {
     "slide_type": "slide"
    }
   },
   "source": [
    "## Github API\n",
    "\n",
    "You can access the github api with the following API. Just added specifiers for what you are looking for. \n",
    "\n",
    "https://api.github.com/\n",
    "\n",
    "For example, the following URL will search for the user 'ShanEllis'\n",
    "\n",
    "https://api.github.com/users/shanellis\n",
    "\n",
    "<center>\n",
    "<img src=\"img/github.png\" alt=\"sql\" height=\"100\" width=\"100\">\n",
    "</center>"
   ]
  },
  {
   "cell_type": "markdown",
   "metadata": {
    "slideshow": {
     "slide_type": "slide"
    }
   },
   "source": [
    "## Requesting Web Pages from Python"
   ]
  },
  {
   "cell_type": "code",
   "execution_count": null,
   "metadata": {
    "slideshow": {
     "slide_type": "fragment"
    }
   },
   "outputs": [],
   "source": [
    "# The requests module allows you to send URL requests from python\n",
    "import requests  \n",
    "from bs4 import BeautifulSoup"
   ]
  },
  {
   "cell_type": "code",
   "execution_count": null,
   "metadata": {
    "slideshow": {
     "slide_type": "fragment"
    }
   },
   "outputs": [],
   "source": [
    "# Request data from the Github API on a particular user\n",
    "page = requests.get('https://api.github.com/users/shanellis')  "
   ]
  },
  {
   "cell_type": "code",
   "execution_count": null,
   "metadata": {
    "slideshow": {
     "slide_type": "fragment"
    }
   },
   "outputs": [],
   "source": [
    "# The content we get back is a messily organized json file\n",
    "page.content"
   ]
  },
  {
   "cell_type": "markdown",
   "metadata": {
    "slideshow": {
     "slide_type": "slide"
    }
   },
   "source": [
    "### Think-Pair-Share\n",
    "\n",
    "What data file/format are these output?"
   ]
  },
  {
   "cell_type": "markdown",
   "metadata": {},
   "source": [
    "## Working with these data..."
   ]
  },
  {
   "cell_type": "code",
   "execution_count": null,
   "metadata": {
    "slideshow": {
     "slide_type": "slide"
    }
   },
   "outputs": [],
   "source": [
    "# We can read in the data with pandas\n",
    "# page.json()\n",
    "git_data = pd.json_normalize(page.json())"
   ]
  },
  {
   "cell_type": "code",
   "execution_count": null,
   "metadata": {
    "slideshow": {
     "slide_type": "fragment"
    }
   },
   "outputs": [],
   "source": [
    "# Check out the pandas df full of data\n",
    "git_data  "
   ]
  },
  {
   "cell_type": "markdown",
   "metadata": {
    "slideshow": {
     "slide_type": "slide"
    }
   },
   "source": [
    "### Authorized Access - OAuth\n",
    "\n",
    "Open Authorization is a protocol to authorize access (of a user / application) to an API."
   ]
  },
  {
   "cell_type": "markdown",
   "metadata": {
    "slideshow": {
     "slide_type": "fragment"
    }
   },
   "source": [
    "OAuth provides a secure way to 'log-in' without using account names and passwords. \n",
    "\n",
    "It is effectively a set of keys, and passwords you can use to access APIs. "
   ]
  },
  {
   "cell_type": "markdown",
   "metadata": {
    "slideshow": {
     "slide_type": "slide"
    }
   },
   "source": [
    "## Web Scraping vs. APIs\n",
    "\n",
    "Web scraping and APIs are different approaches:"
   ]
  },
  {
   "cell_type": "markdown",
   "metadata": {
    "slideshow": {
     "slide_type": "fragment"
    }
   },
   "source": [
    "- APIs are an interface to interact with an application, designed for programmatic use\n",
    "    - They allow systematic, controlled access to (for example) and applications database\n",
    "    - They typically return structured (friendly) data "
   ]
  },
  {
   "cell_type": "markdown",
   "metadata": {
    "slideshow": {
     "slide_type": "fragment"
    }
   },
   "source": [
    "- Web scraping (typically) involves navigating through the internet, programmatically following an architecture built for humans\n",
    "    - This can be hard to systematize, being dependent on the idiosyncracies of a web page, at the time you request it\n",
    "    - This typically returns relatively unstructured data\n",
    "    - This entails much more wrangling of the data"
   ]
  },
  {
   "cell_type": "markdown",
   "metadata": {
    "slideshow": {
     "slide_type": "slide"
    }
   },
   "source": [
    "## Where to Find Data?\n",
    "\n",
    "* [Awesome Public Datasets](https://github.com/awesomedata/awesome-public-datasets/blob/master/README.rst)\n",
    "* [Data.gov](https://catalog.data.gov/dataset)\n",
    "* [Data Is Plural](https://docs.google.com/spreadsheets/d/1wZhPLMCHKJvwOkP4juclhjFgqIY8fQFMemwKL2c64vk/edit#gid=0)\n",
    "* [UCSD Datasets](https://ucsd.libguides.com/data-statistics/home)\n",
    "* [Datasets | Deep Learning](http://deeplearning.net/datasets/)\n",
    "* [Stanford | Social Science Data Collection](https://data.stanford.edu/)\n",
    "* [Eviction Lab (email required)](https://evictionlab.org/get-the-data/)\n",
    "* [San Diego Data](https://data.sandiego.gov/)\n",
    "* [US Census](https://www.census.gov/)\n",
    "* [Open Climate Data](http://openclimatedata.net/)\n",
    "* [Data and Story Library](https://dasl.datadescription.com/datafiles/)\n",
    "* [UCSD behavioral mobile data](http://extrasensory.ucsd.edu/)\n",
    "* [Kaggle](https://www.kaggle.com/)\n",
    "* [FiveThirtyEight](https://data.fivethirtyeight.com/)\n",
    "* [data.world](https://data.world/)\n",
    "* [Free Datasets - R and Data Mining ](http://www.rdatamining.com/resources/data)\n",
    "* [Data Sources for Cool Data Science Projects](https://blog.thedataincubator.com/2014/10/data-sources-for-cool-data-science-projects-part-1/)"
   ]
  },
  {
   "cell_type": "markdown",
   "metadata": {
    "slideshow": {
     "slide_type": "slide"
    }
   },
   "source": [
    "## Notes on Working with Data"
   ]
  },
  {
   "cell_type": "markdown",
   "metadata": {
    "slideshow": {
     "slide_type": "-"
    }
   },
   "source": [
    "### Data Science is Ad-Hoc\n",
    "\n",
    "- It is part of the job description to put things together that were not designed to go together.\n",
    "- We do not have universal solutions, but haphazard, idiosyncratic systems, for data collection, storage and analysis.\n",
    "- Data is everywhere. But relatively little of it was collected *as data*."
   ]
  },
  {
   "cell_type": "markdown",
   "metadata": {
    "slideshow": {
     "slide_type": "fragment"
    }
   },
   "source": [
    "### Data Collection, Curation, and Storage are Difficult\n",
    "\n",
    "- It can be difficult to choose broadly useful standards\n",
    "- Take time to think about your data, and how you will load, store, organize and save it"
   ]
  },
  {
   "cell_type": "markdown",
   "metadata": {
    "slideshow": {
     "slide_type": "fragment"
    }
   },
   "source": [
    "### Data is Inherently Noisy\n",
    "\n",
    "- We live in a messy, noisy, world, with messy, noisy, people, using messy, noisy instruments.\n",
    "- There is no perfect data. \n",
    "    - There is better / or worse data, given the context."
   ]
  },
  {
   "cell_type": "markdown",
   "metadata": {
    "slideshow": {
     "slide_type": "fragment"
    }
   },
   "source": [
    "### Different Objectives\n",
    "\n",
    "- Humans and computers are different.\n",
    "- We interact with '*data*' in different ways.\n",
    "- This underlies many aspects of data wrangling\n",
    "    - The 'friendliness' of data types / files\n",
    "    - The difference between web scraping and APIs\n",
    "    - A disconnect between data in the real world, and data we want to use"
   ]
  },
  {
   "cell_type": "markdown",
   "metadata": {
    "slideshow": {
     "slide_type": "fragment"
    }
   },
   "source": [
    "## So... What to do?\n",
    "\n",
    "- Think about how your data are stored & its structure?\n",
    "- Look at your data before you anayze it\n",
    "    - are there missing values? \n",
    "    - outlier values? \n",
    "- Are your data trustworthy? \n",
    "    - source?\n",
    "    - how was it generated?"
   ]
  },
  {
   "cell_type": "markdown",
   "metadata": {
    "slideshow": {
     "slide_type": "slide"
    }
   },
   "source": [
    "## Specific Recommendations\n",
    "\n",
    "- Prioritize using well structured, common, open file types\n",
    "    - Take advantage of existing tools to deal with these files (numpy, pandas, etc.)"
   ]
  },
  {
   "cell_type": "markdown",
   "metadata": {
    "slideshow": {
     "slide_type": "fragment"
    }
   },
   "source": [
    "- Look into, and then follow, common conventions\n",
    "    - Minimize custom objects, workflows and data files \n",
    "- Look for APIs. Ask if they are available.\n",
    "    - Acknowledge that web scraping and/or wrangling unstructured data are complex / long tasks"
   ]
  },
  {
   "cell_type": "markdown",
   "metadata": {
    "slideshow": {
     "slide_type": "fragment"
    }
   },
   "source": [
    "- Think about data flow from the beginning. Organize your data pipeline, consider the 'wrangling' aspects throughout\n",
    "    - Set yourself up with well organized, labelled approach to your data\n",
    "    - Think about when and how you might want/need to save out intermediate results."
   ]
  }
 ],
 "metadata": {
  "celltoolbar": "Slideshow",
  "kernelspec": {
   "display_name": "Python 3 (ipykernel)",
   "language": "python",
   "name": "python3"
  },
  "language_info": {
   "codemirror_mode": {
    "name": "ipython",
    "version": 3
   },
   "file_extension": ".py",
   "mimetype": "text/x-python",
   "name": "python",
   "nbconvert_exporter": "python",
   "pygments_lexer": "ipython3",
   "version": "3.11.8"
  },
  "rise": {
   "scroll": true
  }
 },
 "nbformat": 4,
 "nbformat_minor": 4
}
