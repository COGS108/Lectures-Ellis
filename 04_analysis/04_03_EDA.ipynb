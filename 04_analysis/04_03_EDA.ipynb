{
 "cells": [
  {
   "cell_type": "markdown",
   "metadata": {
    "slideshow": {
     "slide_type": "slide"
    }
   },
   "source": [
    "## Course Announcements\n",
    "\n",
    "- Due today (11:59 PM):\n",
    "    - D3\n",
    "    - Q3\n",
    "    - Project Proposal\n",
    "    - [Weekly Project Survey](https://docs.google.com/forms/d/e/1FAIpQLSf_ZLgO19fSP8CnUTzmOgDo6Es0Rj5frpP_OMSscfqrF0Nseg/viewform?usp=sf_link) (*optional*; link also on Canvas Assignments)"
   ]
  },
  {
   "cell_type": "markdown",
   "metadata": {
    "slideshow": {
     "slide_type": "slide"
    }
   },
   "source": [
    "# EDA: Exploratory Data Analysis\n",
    "\n",
    "- tools: `pandas`, `seaborn` & `matplotlib`\n",
    "- concepts:\n",
    "    - structure (including joins)\n",
    "    - granularity\n",
    "    - scope \n",
    "    - temporality\n",
    "    - faithfulness\n",
    "- EDA Case Studies: Student pre-course survey data"
   ]
  },
  {
   "cell_type": "markdown",
   "metadata": {
    "slideshow": {
     "slide_type": "notes"
    }
   },
   "source": [
    "<div class=\"alert alert-success\">\n",
    "The examples and data in this notebook are largely adapted from two places: (1) Jake VanderPlas' <a href=\"https://github.com/jakevdp/PythonDataScienceHandbook\" class=\"alert-link\">Python Data Science Handbook</a> and (2) Berkeley's <a href=\"https://www.textbook.ds100.org/ch/06/viz_intro.html\" class=\"alert-link\">Data 100 Textbook</a>. Feel free to check out these resources for more!\n",
    "</div>"
   ]
  },
  {
   "cell_type": "markdown",
   "metadata": {
    "slideshow": {
     "slide_type": "slide"
    }
   },
   "source": [
    "## Exploratory data analysis (EDA)\n",
    "\n",
    "> an approach to completely and fully understand your dataset.\n",
    "\n",
    "It requires a state of flexibility and a willingness to look for both:\n",
    "- artifacts in the data we anticipate exist \n",
    "- artifacts that we don't expect / believe are there\n",
    "\n"
   ]
  },
  {
   "cell_type": "markdown",
   "metadata": {
    "slideshow": {
     "slide_type": "slide"
    }
   },
   "source": [
    "![eda](img/exploratory.png)\n"
   ]
  },
  {
   "cell_type": "markdown",
   "metadata": {
    "slideshow": {
     "slide_type": "slide"
    }
   },
   "source": [
    "## Setup"
   ]
  },
  {
   "cell_type": "code",
   "execution_count": null,
   "metadata": {
    "slideshow": {
     "slide_type": "fragment"
    }
   },
   "outputs": [],
   "source": [
    "# Import seaborn and apply its plotting styles\n",
    "import seaborn as sns\n",
    "sns.set(style=\"white\", font_scale=1.5)\n",
    "\n",
    "# import matplotlib\n",
    "import matplotlib as mpl\n",
    "import matplotlib.pyplot as plt\n",
    "# set plotting size parameter\n",
    "plt.rcParams['figure.figsize'] = (17, 7)\n",
    "\n",
    "# make sure pandas & numpy are imported\n",
    "import pandas as pd\n",
    "import numpy as np\n",
    "\n",
    "import warnings\n",
    "warnings.filterwarnings('ignore')\n",
    "\n",
    "#improve resolution\n",
    "#comment this line if erroring on your machine/screen\n",
    "%config InlineBackend.figure_format ='retina'"
   ]
  },
  {
   "cell_type": "markdown",
   "metadata": {
    "slideshow": {
     "slide_type": "slide"
    }
   },
   "source": [
    "# EDA\n",
    "\n",
    "In the [Data 100 Textbook](https://www.textbook.ds100.org/ch/05/eda_intro.html), the authors state that with EDA, \"We seek to understand the following properties about our data\":\n",
    "\n",
    "- Structure: the format of our data file.\n",
    "- Granularity: how fine or coarse each row and column is.\n",
    "- Scope: how (in)complete our data are.\n",
    "- Temporality: how the data are situated in time.\n",
    "- Faithfulness: how well the data captures \"reality\"."
   ]
  },
  {
   "cell_type": "markdown",
   "metadata": {
    "slideshow": {
     "slide_type": "slide"
    }
   },
   "source": [
    "# Structure\n",
    "\n",
    "What is the format of our data file?"
   ]
  },
  {
   "cell_type": "markdown",
   "metadata": {
    "slideshow": {
     "slide_type": "fragment"
    }
   },
   "source": [
    "<div class=\"alert alert-info\">\n",
    "The <b>structure</b> of your data describes the \"shape\" of the dataset. This refers to the format that the data are stored.\n",
    "</div>"
   ]
  },
  {
   "cell_type": "markdown",
   "metadata": {
    "slideshow": {
     "slide_type": "slide"
    }
   },
   "source": [
    "#### Questions to be able to answer about the structure of your dataset:\n",
    "1. What format are the data in?\n",
    "    - tabular (CSV, TSV, Excel, SQL)\n",
    "    - nested (XML, JSON)   "
   ]
  },
  {
   "cell_type": "markdown",
   "metadata": {
    "slideshow": {
     "slide_type": "fragment"
    }
   },
   "source": [
    "2. Is each observation in a separate row? \n",
    "    - If not, can we get it into that format?\n",
    "    - If the data are nested, how would we unnest the data"
   ]
  },
  {
   "cell_type": "markdown",
   "metadata": {
    "slideshow": {
     "slide_type": "fragment"
    }
   },
   "source": [
    "3. What variables (columns) do we have information about?\n",
    "    - what `type` of information is in each column\n",
    "    - Do we have all of the variables we need?    "
   ]
  },
  {
   "cell_type": "markdown",
   "metadata": {
    "slideshow": {
     "slide_type": "fragment"
    }
   },
   "source": [
    "4. Are the data spread across multiple tables? \n",
    "    - How do we want to join the data?\n",
    "    "
   ]
  },
  {
   "cell_type": "markdown",
   "metadata": {
    "slideshow": {
     "slide_type": "slide"
    }
   },
   "source": [
    "# Granularity\n",
    "How fine or coarse is the data stored in each row and column?"
   ]
  },
  {
   "cell_type": "markdown",
   "metadata": {
    "slideshow": {
     "slide_type": "fragment"
    }
   },
   "source": [
    "<div class=\"alert alert-info\">\n",
    "The <b>granularity</b> of your data is what each observation in your data represents.\n",
    "</div>"
   ]
  },
  {
   "cell_type": "markdown",
   "metadata": {
    "slideshow": {
     "slide_type": "fragment"
    }
   },
   "source": [
    "Often, the observation will be a **single individual** (i.e. information about each person who has called into a call center). \n",
    "\n",
    "Other times, it will be data collected about a **single individual at a particular time** (i.e. information about each call received on a given day) - Note that the same individual could be in this dataset multiple times.\n",
    "\n",
    "Other times, each row will contain a **summary about a number of indidivuals** (i.e. total number of calls received at a call center each day) - Here, each row would contain summarized information about a whole bunch of people."
   ]
  },
  {
   "cell_type": "markdown",
   "metadata": {
    "slideshow": {
     "slide_type": "slide"
    }
   },
   "source": [
    "## Individual Level Granularity\n",
    "\n",
    "In this example, we see that each observation represents a single individual."
   ]
  },
  {
   "cell_type": "code",
   "execution_count": null,
   "metadata": {
    "slideshow": {
     "slide_type": "fragment"
    }
   },
   "outputs": [],
   "source": [
    "calls = pd.DataFrame(\n",
    "    [[\"Joey\",      \"suspected poisoning\",  42,  \"M\"],\n",
    "     [\"Weiwei\",    \"ingested substance\",   50,  \"F\"],\n",
    "     [\"Joey\",      \"chemical in eye\",       8,  \"M\"],\n",
    "     [\"Karina\",    \"ingested substance\",    7,  \"F\"],\n",
    "     [\"Nhi\",       \"ingested substance\",    3,  \"F\"],\n",
    "     [\"Sam\",       \"chemical on skin\",     42,  \"M\"]], \n",
    "    columns = [\"Name\", \"Complaint\", \"Age\", \"Gender\"])\n",
    "\n",
    "calls"
   ]
  },
  {
   "cell_type": "markdown",
   "metadata": {
    "slideshow": {
     "slide_type": "slide"
    }
   },
   "source": [
    "## Group-Level Granularity\n",
    "\n",
    "However often the data we're handed have observations (rows) that summarize information across many individuals."
   ]
  },
  {
   "cell_type": "code",
   "execution_count": null,
   "metadata": {
    "scrolled": true,
    "slideshow": {
     "slide_type": "fragment"
    }
   },
   "outputs": [],
   "source": [
    "calls_total = pd.DataFrame(\n",
    "    [[\"2019-08-29\", 100],\n",
    "    [\"2019-08-30\",  212],\n",
    "    [\"2019-08-31\",  88],\n",
    "    [\"2019-09-01\",  160],\n",
    "    [\"2019-09-02\",  122],\n",
    "    ], \n",
    "    columns = [\"Date\", \"Calls\"])\n",
    "\n",
    "calls_total"
   ]
  },
  {
   "cell_type": "markdown",
   "metadata": {
    "slideshow": {
     "slide_type": "slide"
    }
   },
   "source": [
    "#### Questions to be able to answer about the granularity of your dataset:\n",
    "1. What does each record (row) represent?"
   ]
  },
  {
   "cell_type": "markdown",
   "metadata": {
    "slideshow": {
     "slide_type": "fragment"
    }
   },
   "source": [
    "2. Do all records uniformly represent the same level of granularity\n",
    "   - are some rows individual-level, while others are summaries of the group? How will this be handled?"
   ]
  },
  {
   "cell_type": "markdown",
   "metadata": {
    "slideshow": {
     "slide_type": "fragment"
    }
   },
   "source": [
    "3. Were the data summarized or aggregated?\n",
    "    - How were they grouped & summarized\n",
    "    - What metrics were used for summarization (means and medians are common)"
   ]
  },
  {
   "cell_type": "markdown",
   "metadata": {
    "slideshow": {
     "slide_type": "fragment"
    }
   },
   "source": [
    "4. What aggregations/summarizations do we plan to do with these data?\n",
    "    "
   ]
  },
  {
   "cell_type": "markdown",
   "metadata": {
    "slideshow": {
     "slide_type": "slide"
    }
   },
   "source": [
    "# Scope\n",
    "\n",
    "How (in)complete are our data?"
   ]
  },
  {
   "cell_type": "markdown",
   "metadata": {
    "slideshow": {
     "slide_type": "fragment"
    }
   },
   "source": [
    "<div class=\"alert alert-info\">\n",
    "The <b>scope</b> of your data describes how helpful these data are with respect to our data science question.\n",
    "</div>"
   ]
  },
  {
   "cell_type": "markdown",
   "metadata": {
    "slideshow": {
     "slide_type": "fragment"
    }
   },
   "source": [
    "At this point, **descriptive statistics** & **exploratory visualizations** become pretty essential.\n",
    "\n",
    "- Descriptive Statistics - help to summarize typical values and ranges for variables of interest\n",
    "- Exploratory Visualizations - help us understand the distributions of individual variables and relationships between variables in our dataset\n",
    "\n",
    "We'll also want to start to determine how frequently, for what variables, and why data are **missing**."
   ]
  },
  {
   "cell_type": "markdown",
   "metadata": {
    "slideshow": {
     "slide_type": "slide"
    }
   },
   "source": [
    "# Temporality\n",
    "How are these data situated in time?"
   ]
  },
  {
   "cell_type": "markdown",
   "metadata": {
    "slideshow": {
     "slide_type": "fragment"
    }
   },
   "source": [
    "<div class=\"alert alert-info\">\n",
    "The <b>temporality</b> refers to how the data are situated in time. Specifically, we're interested in what data and time information are included in the dataset.\n",
    "</div>\n"
   ]
  },
  {
   "cell_type": "markdown",
   "metadata": {
    "slideshow": {
     "slide_type": "slide"
    }
   },
   "source": [
    "#### Questions to be able to answer about the temporality of your dataset:\n",
    "1. What do reported times represent?\n",
    "    - What does each date and time in the dataset mean? Time event occurred? Time reported?\n",
    "    - Note that **timezones** & **Daylight Saving Time** are always important to consider    "
   ]
  },
  {
   "cell_type": "markdown",
   "metadata": {
    "slideshow": {
     "slide_type": "fragment"
    }
   },
   "source": [
    "2. How are the dates/times represented? What format are they in?\n",
    "   - YYYY-MM-DD? Year? Time? Date & Time?"
   ]
  },
  {
   "cell_type": "markdown",
   "metadata": {
    "slideshow": {
     "slide_type": "fragment"
    }
   },
   "source": [
    "3. How are null timestamps represented? \n",
    "    - was a \"random\" date picked?\n",
    "        - `Jan 1st 1990` <- Excel's default date\n",
    "        - `Jan 1st, 1904` <- Excel's default date *on Mac*\n",
    "        - `12:00am Jan 1st, 1970`<- [Unix Epoch for Timestamps](https://www.wikiwand.com/en/Unix_time#/Encoding_time_as_a_number)\n",
    "    - `-999`, `NaN`, `NA`"
   ]
  },
  {
   "cell_type": "markdown",
   "metadata": {
    "slideshow": {
     "slide_type": "fragment"
    }
   },
   "source": [
    "4. What aggregations/summarizations do we plan to do with these data?"
   ]
  },
  {
   "cell_type": "markdown",
   "metadata": {
    "slideshow": {
     "slide_type": "slide"
    }
   },
   "source": [
    "# Faithfulness\n",
    "How well do these data reflect reality?\n"
   ]
  },
  {
   "cell_type": "markdown",
   "metadata": {
    "slideshow": {
     "slide_type": "fragment"
    }
   },
   "source": [
    "<div class=\"alert alert-info\">\n",
    "The <b>faithfulness</b> of your data is a determination of how trustworthy the data are.\n",
    "</div>"
   ]
  },
  {
   "cell_type": "markdown",
   "metadata": {
    "slideshow": {
     "slide_type": "slide"
    }
   },
   "source": [
    "#### Questions to be able to answer about the faithfulness of your dataset:\n",
    "1. Are the values reasonable / what we expect? \n",
    "    - Unreasonable values examples: dates in the future, locations that don't exist, negative counts, wild outliers"
   ]
  },
  {
   "cell_type": "markdown",
   "metadata": {
    "slideshow": {
     "slide_type": "fragment"
    }
   },
   "source": [
    "2. Are there inconsistencies across tables?\n",
    "    - Identifiers that don't match?\n",
    "    - Date of Births that differ between two tables?\n",
    "    - Any inconsistencies between values stored in more than one table?\n"
   ]
  },
  {
   "cell_type": "markdown",
   "metadata": {
    "slideshow": {
     "slide_type": "fragment"
    }
   },
   "source": [
    "3. Are there data entered by hand? These often contain inconsistencies.\n"
   ]
  },
  {
   "cell_type": "markdown",
   "metadata": {
    "slideshow": {
     "slide_type": "fragment"
    }
   },
   "source": [
    "4. Any obvious signs of falsification?\n",
    "    - examples: repeated names, fake looking email addresses, repeated uncommon names or fields"
   ]
  },
  {
   "cell_type": "markdown",
   "metadata": {
    "slideshow": {
     "slide_type": "slide"
    }
   },
   "source": [
    "# EDA Case Study: Pre-Course Surveys\n",
    "\n",
    "Typically you won't be handed a dataset without information about where the data came from or what question you want to ask. But, for the sake of this exercise, let's look at a dataset where you don't have too many specifics  beyond what's in the dataset itself and see what we can figure out through EDA."
   ]
  },
  {
   "cell_type": "markdown",
   "metadata": {
    "slideshow": {
     "slide_type": "slide"
    }
   },
   "source": [
    "## The Data\n",
    "\n",
    "We'll start with a dataset available by default from the `seaborn` package."
   ]
  },
  {
   "cell_type": "code",
   "execution_count": null,
   "metadata": {
    "slideshow": {
     "slide_type": "fragment"
    }
   },
   "outputs": [],
   "source": [
    "## load dataset in\n",
    "df = pd.read_csv('data/pre_survey_data_sp21.csv')\n",
    "df.head()"
   ]
  },
  {
   "cell_type": "markdown",
   "metadata": {
    "slideshow": {
     "slide_type": "slide"
    }
   },
   "source": [
    "## Structure\n",
    "\n",
    "<div class=\"alert alert-info\">\n",
    "The <b>structure</b> of your data describes the \"shape\" of the dataset. This refers to the format that the data are stored.\n",
    "</div>"
   ]
  },
  {
   "cell_type": "markdown",
   "metadata": {
    "slideshow": {
     "slide_type": "fragment"
    }
   },
   "source": [
    "Let's first clean up those column names for working with these data..."
   ]
  },
  {
   "cell_type": "code",
   "execution_count": null,
   "metadata": {
    "slideshow": {
     "slide_type": "-"
    }
   },
   "outputs": [],
   "source": [
    "df.columns = ['ID', 'enrolled', 'tech_access', 'timezone', 'objectives_pre', \n",
    "              'language', 'topics', 'statistics', 'programming']\n",
    "df.head()"
   ]
  },
  {
   "cell_type": "markdown",
   "metadata": {
    "slideshow": {
     "slide_type": "-"
    }
   },
   "source": [
    "At a glance and without any additional information, we can tell this is **tabular data** with *observations in rows* and *variables in columns*."
   ]
  },
  {
   "cell_type": "markdown",
   "metadata": {
    "slideshow": {
     "slide_type": "fragment"
    }
   },
   "source": [
    "### Clicker Question #1\n",
    "\n",
    "Should we change the way these data are stored and why?\n",
    "\n",
    "- A) Yes, nested XML is easier to work with\n",
    "- B) Yes, observations should be in columns \n",
    "- C) Yes, nested JSON is easier to work with\n",
    "- D) No, observations in rows is best\n",
    "- E) Some other answer..."
   ]
  },
  {
   "cell_type": "markdown",
   "metadata": {
    "slideshow": {
     "slide_type": "slide"
    }
   },
   "source": [
    "Often the first thing you'll want to know is how big the datset is."
   ]
  },
  {
   "cell_type": "code",
   "execution_count": null,
   "metadata": {
    "slideshow": {
     "slide_type": "fragment"
    }
   },
   "outputs": [],
   "source": [
    "## determine shape of dataset\n",
    "df.shape"
   ]
  },
  {
   "cell_type": "markdown",
   "metadata": {
    "slideshow": {
     "slide_type": "slide"
    }
   },
   "source": [
    "### What type of variable is in each column?"
   ]
  },
  {
   "cell_type": "code",
   "execution_count": null,
   "metadata": {
    "slideshow": {
     "slide_type": "fragment"
    }
   },
   "outputs": [],
   "source": [
    "df.dtypes "
   ]
  },
  {
   "cell_type": "markdown",
   "metadata": {
    "slideshow": {
     "slide_type": "fragment"
    }
   },
   "source": [
    "Ok, mostly continuous variables, except for `abbrev` which contains some type of string data."
   ]
  },
  {
   "cell_type": "markdown",
   "metadata": {
    "slideshow": {
     "slide_type": "slide"
    }
   },
   "source": [
    "## Granularity\n",
    "\n",
    "<div class=\"alert alert-info\">\n",
    "The <b>granularity</b> of your data is what each observation in your data represents.\n",
    "</div>"
   ]
  },
  {
   "cell_type": "code",
   "execution_count": null,
   "metadata": {
    "slideshow": {
     "slide_type": "-"
    }
   },
   "outputs": [],
   "source": [
    "df.head()"
   ]
  },
  {
   "cell_type": "markdown",
   "metadata": {
    "slideshow": {
     "slide_type": "fragment"
    }
   },
   "source": [
    "### Clicker Question #2\n",
    "\n",
    "What's the granularity of this dataset? \n",
    "\n",
    "- A) Individual-Level\n",
    "- B) Group-level\n",
    "- C) Individiual-level over time\n",
    "- D) Group-level over time"
   ]
  },
  {
   "cell_type": "markdown",
   "metadata": {
    "slideshow": {
     "slide_type": "slide"
    }
   },
   "source": [
    "## Scope\n",
    "\n",
    "<div class=\"alert alert-info\">\n",
    "The <b>scope</b> of your data describes how helpful these data are with respect to our data science question.\n",
    "</div>"
   ]
  },
  {
   "cell_type": "code",
   "execution_count": null,
   "metadata": {
    "scrolled": true,
    "slideshow": {
     "slide_type": "-"
    }
   },
   "outputs": [],
   "source": [
    "df.shape"
   ]
  },
  {
   "cell_type": "markdown",
   "metadata": {
    "slideshow": {
     "slide_type": "-"
    }
   },
   "source": [
    "### Clicker Question #3\n",
    "\n",
    "If we wanted to understand something about all COGS 108 students this quarter, could we do that with these data? \n",
    "\n",
    "- A) Yes\n",
    "- B) No\n",
    "- C) ¯\\\\\\_(ツ)\\_/¯\n",
    "\n",
    "Note: There are currently 315 students enrolled in COGS 108."
   ]
  },
  {
   "cell_type": "markdown",
   "metadata": {
    "slideshow": {
     "slide_type": "slide"
    }
   },
   "source": [
    "## Temporality?\n",
    "\n",
    "<div class=\"alert alert-info\">\n",
    "The <b>temporality</b> refers to how the data are situated in time. Specifically, we're interested in what data and time information are included in the dataset.\n",
    "</div>\n"
   ]
  },
  {
   "cell_type": "markdown",
   "metadata": {
    "slideshow": {
     "slide_type": "-"
    }
   },
   "source": [
    "Note: Prof Ellis deleted timestamps from the data (just in case students were chatting with one another filling these out, but not sharing the information in them with one another, I didn't want anyone to be able to identify data from any one student), but those data were in there originally."
   ]
  },
  {
   "cell_type": "markdown",
   "metadata": {
    "slideshow": {
     "slide_type": "slide"
    }
   },
   "source": [
    "## Faithfulness?\n",
    "\n",
    "<div class=\"alert alert-info\">\n",
    "The <b>faithfulness</b> of your data is a determination of how trustworthy the data are.\n",
    "</div>"
   ]
  },
  {
   "cell_type": "markdown",
   "metadata": {
    "slideshow": {
     "slide_type": "fragment"
    }
   },
   "source": [
    "First, the data are self reported. There are always concerns on surveys with faithfulness."
   ]
  },
  {
   "cell_type": "code",
   "execution_count": null,
   "metadata": {
    "slideshow": {
     "slide_type": "fragment"
    }
   },
   "outputs": [],
   "source": [
    "df.head()"
   ]
  },
  {
   "cell_type": "markdown",
   "metadata": {
    "slideshow": {
     "slide_type": "-"
    }
   },
   "source": [
    "### Clicker Question #4\n",
    "\n",
    "But wait...let's think about the information in this dataset...what does the `enrolled` mean? And why are there a bunch of `NaN` values? Have any idea?\n",
    "\n",
    "- A) I've got some thoughts.\n",
    "- B) No ideas here...\n",
    "- C) What am I supposed to be thinking about?"
   ]
  },
  {
   "cell_type": "markdown",
   "metadata": {
    "slideshow": {
     "slide_type": "slide"
    }
   },
   "source": [
    "## Observations to include?"
   ]
  },
  {
   "cell_type": "code",
   "execution_count": null,
   "metadata": {
    "scrolled": false,
    "slideshow": {
     "slide_type": "-"
    }
   },
   "outputs": [],
   "source": [
    "## breakdown of enrolled\n",
    "df['enrolled'].value_counts()"
   ]
  },
  {
   "cell_type": "code",
   "execution_count": null,
   "metadata": {
    "scrolled": true,
    "slideshow": {
     "slide_type": "-"
    }
   },
   "outputs": [],
   "source": [
    "# only students currently enrolled\n",
    "df = df[df['enrolled'] == 1]\n",
    "df.shape"
   ]
  },
  {
   "cell_type": "markdown",
   "metadata": {
    "slideshow": {
     "slide_type": "fragment"
    }
   },
   "source": [
    "### Clicker Question #5\n",
    "\n",
    "What? Prof Ellis told me there were 315 students in this class....why do we have *more* observations than students enrolled?\n",
    "\n",
    "- A) I've got some thoughts.\n",
    "- B) No ideas here...\n",
    "- C) What am I supposed to be thinking about?\n",
    "\n"
   ]
  },
  {
   "cell_type": "code",
   "execution_count": null,
   "metadata": {
    "slideshow": {
     "slide_type": "fragment"
    }
   },
   "outputs": [],
   "source": [
    "# remove duplicate values\n",
    "# you would have to figure out which to drop in the real world\n",
    "# and chck for consistency of responses\n",
    "df = df.drop_duplicates(subset='ID', keep='last')\n",
    "df.shape"
   ]
  },
  {
   "cell_type": "markdown",
   "metadata": {
    "slideshow": {
     "slide_type": "slide"
    }
   },
   "source": [
    "## Missing values?"
   ]
  },
  {
   "cell_type": "code",
   "execution_count": null,
   "metadata": {
    "scrolled": false,
    "slideshow": {
     "slide_type": "fragment"
    }
   },
   "outputs": [],
   "source": [
    "null_rows = df.isnull().any(axis=1)\n",
    "df[null_rows]"
   ]
  },
  {
   "cell_type": "markdown",
   "metadata": {
    "slideshow": {
     "slide_type": "fragment"
    }
   },
   "source": [
    "### Clicker Question #6\n",
    "\n",
    "Why are there so many `NaN`s?\n",
    "\n",
    "- A) I've got some thoughts.\n",
    "- B) No ideas here...\n",
    "- C) What am I supposed to be thinking about?"
   ]
  },
  {
   "cell_type": "code",
   "execution_count": null,
   "metadata": {
    "slideshow": {
     "slide_type": "fragment"
    }
   },
   "outputs": [],
   "source": [
    "# we'd expect to drop 36 rows\n",
    "sum(null_rows)"
   ]
  },
  {
   "cell_type": "code",
   "execution_count": null,
   "metadata": {
    "slideshow": {
     "slide_type": "-"
    }
   },
   "outputs": [],
   "source": [
    "# drop those who didn't respond to the survey\n",
    "df = df.dropna().reset_index(drop=True)\n",
    "df.shape"
   ]
  },
  {
   "cell_type": "markdown",
   "metadata": {
    "slideshow": {
     "slide_type": "slide"
    }
   },
   "source": [
    "## Expected values? Wild outliers?\n",
    "\n",
    "We'll look at each of the variables in the dataset to see if any thing looks *off*."
   ]
  },
  {
   "cell_type": "code",
   "execution_count": null,
   "metadata": {
    "scrolled": true,
    "slideshow": {
     "slide_type": "slide"
    }
   },
   "outputs": [],
   "source": [
    "df.describe()"
   ]
  },
  {
   "cell_type": "code",
   "execution_count": null,
   "metadata": {
    "slideshow": {
     "slide_type": "slide"
    }
   },
   "outputs": [],
   "source": [
    "plt.subplot(1, 3, 1)\n",
    "sns.histplot(df['statistics'], kde=True, color='#DE2D26')\n",
    "plt.subplot(1, 3, 2)\n",
    "sns.histplot(df['programming'], kde=True, color='#0CBD18')\n",
    "plt.subplot(1, 3, 3)\n",
    "sns.countplot(df['timezone'], color='#940CE8');"
   ]
  },
  {
   "cell_type": "markdown",
   "metadata": {
    "slideshow": {
     "slide_type": "slide"
    }
   },
   "source": [
    "## Categorical Columns\n",
    "\n",
    "Note that we're only focusing on the three columns above, and ignoring `tech_access`, `objectives_pre`, `language`, and `topics`. More cleaning/wrangling would need to be done...I'll show an example of one approach to this for the `language` and `topics` columns now. The idea here is called **one hot encoding** (AKA creating **dummy variables**)"
   ]
  },
  {
   "cell_type": "code",
   "execution_count": null,
   "metadata": {
    "slideshow": {
     "slide_type": "-"
    }
   },
   "outputs": [],
   "source": [
    "lang = (df.language.str.split('\\s*,\\s*', expand=True) # split on comma\n",
    "       .stack() # reshape multilevel index\n",
    "       .str.get_dummies() # one-hot encode\n",
    "       .sum(level=0))"
   ]
  },
  {
   "cell_type": "code",
   "execution_count": null,
   "metadata": {
    "slideshow": {
     "slide_type": "-"
    }
   },
   "outputs": [],
   "source": [
    "lang"
   ]
  },
  {
   "cell_type": "code",
   "execution_count": null,
   "metadata": {
    "slideshow": {
     "slide_type": "fragment"
    }
   },
   "outputs": [],
   "source": [
    "# one hot encode topics\n",
    "topics = (df.topics.str.split('\\s*,\\s*', expand=True) \n",
    "          .stack() \n",
    "          .str.get_dummies() \n",
    "          .sum(level=0))"
   ]
  },
  {
   "cell_type": "code",
   "execution_count": null,
   "metadata": {
    "scrolled": false,
    "slideshow": {
     "slide_type": "-"
    }
   },
   "outputs": [],
   "source": [
    "topics"
   ]
  },
  {
   "cell_type": "code",
   "execution_count": null,
   "metadata": {
    "slideshow": {
     "slide_type": "fragment"
    }
   },
   "outputs": [],
   "source": [
    "# join on index (merge on column/series)\n",
    "# note only joining lang here, not topics\n",
    "df = df.join(lang, how='outer').reset_index(drop=True)\n",
    "df"
   ]
  },
  {
   "cell_type": "code",
   "execution_count": null,
   "metadata": {
    "slideshow": {
     "slide_type": "fragment"
    }
   },
   "outputs": [],
   "source": [
    "# plot one-hot eoncoded data\n",
    "plt.subplot(2, 1, 1)\n",
    "lang.columns = lang.columns.str.wrap(12) # wrap column names\n",
    "a = lang.sum()/len(df)\n",
    "a = a.sort_values(axis=0, ascending=False)\n",
    "a.plot.bar(color='#686868', rot=0)\n",
    "\n",
    "plt.subplot(2, 1, 2)\n",
    "topics.columns = topics.columns.str.wrap(12) # wrap column names\n",
    "a = topics.sum()/len(df)\n",
    "a = a.sort_values(axis=0, ascending=False)\n",
    "a.plot.bar(color='#686868', rot=0)\n",
    "plt.xticks(size = 8);"
   ]
  },
  {
   "cell_type": "markdown",
   "metadata": {
    "slideshow": {
     "slide_type": "slide"
    }
   },
   "source": [
    "### Relationship between these variables?\n",
    "\n",
    "We can use scatterplots to start to get an understanding for how these values are related to one another."
   ]
  },
  {
   "cell_type": "code",
   "execution_count": null,
   "metadata": {
    "scrolled": false,
    "slideshow": {
     "slide_type": "fragment"
    }
   },
   "outputs": [],
   "source": [
    "# scatterplot\n",
    "sns.lmplot(x='statistics', y='programming', \n",
    "           data=df, fit_reg=False, \n",
    "           height=6, aspect=2, \n",
    "           x_jitter=.5, y_jitter=.5);"
   ]
  },
  {
   "cell_type": "markdown",
   "metadata": {
    "slideshow": {
     "slide_type": "fragment"
    }
   },
   "source": [
    "So we see a relationship...but there's a lot of variability here. And, maybe we're most interested in understanding those who fall further away from the group"
   ]
  },
  {
   "cell_type": "code",
   "execution_count": null,
   "metadata": {
    "slideshow": {
     "slide_type": "slide"
    }
   },
   "outputs": [],
   "source": [
    "# check for multiple conditions\n",
    "# be sure each condition in parentheses\n",
    "df[(df['statistics'] > 9) & (df['programming'] < 6)]"
   ]
  },
  {
   "cell_type": "markdown",
   "metadata": {
    "slideshow": {
     "slide_type": "slide"
    }
   },
   "source": [
    "## Relationships Across Multiple Variables\n",
    "\n",
    "We've looked at the histograms individually and scatterplots for the relationship, so we wanted to note that it is possible to combine the two in a single matrix plot."
   ]
  },
  {
   "cell_type": "code",
   "execution_count": null,
   "metadata": {
    "scrolled": false,
    "slideshow": {
     "slide_type": "fragment"
    }
   },
   "outputs": [],
   "source": [
    "# generate scatter matrix\n",
    "pd.plotting.scatter_matrix(df[['timezone','statistics','programming']], figsize=(15, 10));"
   ]
  },
  {
   "cell_type": "code",
   "execution_count": null,
   "metadata": {
    "slideshow": {
     "slide_type": "fragment"
    }
   },
   "outputs": [],
   "source": [
    "# cooccurrence matrix\n",
    "lang.T.dot(lang)"
   ]
  },
  {
   "cell_type": "code",
   "execution_count": null,
   "metadata": {
    "slideshow": {
     "slide_type": "fragment"
    }
   },
   "outputs": [],
   "source": [
    "# cooccurrence matrix\n",
    "topics.T.dot(topics)"
   ]
  }
 ],
 "metadata": {
  "celltoolbar": "Slideshow",
  "kernelspec": {
   "display_name": "Python 3",
   "language": "python",
   "name": "python3"
  },
  "language_info": {
   "codemirror_mode": {
    "name": "ipython",
    "version": 3
   },
   "file_extension": ".py",
   "mimetype": "text/x-python",
   "name": "python",
   "nbconvert_exporter": "python",
   "pygments_lexer": "ipython3",
   "version": "3.7.9"
  },
  "rise": {
   "scroll": true
  }
 },
 "nbformat": 4,
 "nbformat_minor": 2
}
