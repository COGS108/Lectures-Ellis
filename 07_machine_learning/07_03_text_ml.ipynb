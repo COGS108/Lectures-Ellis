{
 "cells": [
  {
   "cell_type": "markdown",
   "metadata": {
    "slideshow": {
     "slide_type": "slide"
    }
   },
   "source": [
    "### Course Announcements\n",
    "\n",
    "**Due tonight (11:59 PM)**\n",
    "- D6\n",
    "- Q6\n",
    "- A3\n",
    "- Weekly Project Survey (optional)\n",
    "\n",
    "**Notes**\n",
    "- Prof Ellis' Office hours\n",
    "    - this Friday only (aka today): 10-11; 2-2:30, 3-3:30\n",
    "    - Weeks 8-10: Wed 1:30-2:30; Fri 10-11"
   ]
  },
  {
   "cell_type": "markdown",
   "metadata": {
    "slideshow": {
     "slide_type": "slide"
    }
   },
   "source": [
    "**Mid-Course Survey Summary** (N=237)\n",
    "\n",
    "- Least Liked:\n",
    "    - Too much work due on Fridays!\n",
    "    - Quizzes (feel too high stakes!)\n",
    "    - Discussion labs are too long!\n",
    "    - Ah! Project! (it's a lot! had to change topics!)\n",
    "    - Remote learning (generally, and for the project)"
   ]
  },
  {
   "cell_type": "markdown",
   "metadata": {
    "slideshow": {
     "slide_type": "fragment"
    }
   },
   "source": [
    "**Planning ahead** & Changes:\n",
    "\n",
    "- Wk 8: Q7<sup>+</sup>, D7<sup>*</sup>, Checkpoint #2: EDA\n",
    "- Wk 9: Q8<sup>+</sup>, D8<sup>*</sup>, A4\n",
    "- Wk 10: Q9<sup>+</sup>, ~D9~\n",
    "- Finals Week: Final Report, Final Video, Project Survey\n",
    "\n",
    "<sup>*</sup> will shorten  \n",
    "<sup>+</sup> will make more straightforward"
   ]
  },
  {
   "cell_type": "markdown",
   "metadata": {
    "slideshow": {
     "slide_type": "slide"
    }
   },
   "source": [
    "# Machine Learning in Python\n",
    "\n",
    "- Tools: scikit-learn (`sklearn`)\n",
    "    - Data Partitioning\n",
    "    - Feature selection\n",
    "    - Modeling: SVM\n",
    "    - Model Assessment\n"
   ]
  },
  {
   "cell_type": "markdown",
   "metadata": {
    "slideshow": {
     "slide_type": "notes"
    }
   },
   "source": [
    "For more reading on scikit-learn (`sklearn`) and machine learning in Python: https://scikit-learn.org/stable/index.html"
   ]
  },
  {
   "cell_type": "markdown",
   "metadata": {
    "slideshow": {
     "slide_type": "slide"
    }
   },
   "source": [
    "# Machine Learning: General Steps\n",
    "\n",
    "1. Data Partitioning\n",
    "2. Feature Selection\n",
    "3. Model\n",
    "4. Model Assessment"
   ]
  },
  {
   "cell_type": "markdown",
   "metadata": {
    "slideshow": {
     "slide_type": "slide"
    }
   },
   "source": [
    "## Setup"
   ]
  },
  {
   "cell_type": "code",
   "execution_count": null,
   "metadata": {
    "slideshow": {
     "slide_type": "-"
    }
   },
   "outputs": [],
   "source": [
    "# import ds/plotting packages\n",
    "import numpy as np\n",
    "import pandas as pd\n",
    "import matplotlib.pyplot as plt\n",
    "import seaborn as sns\n",
    "\n",
    "# Import nltk package \n",
    "import nltk\n",
    "from nltk.tokenize import word_tokenize\n",
    "from nltk.corpus import stopwords\n",
    "\n",
    "# import random for randomizing\n",
    "import random\n",
    "\n",
    "# ignore warnings\n",
    "import warnings\n",
    "warnings.filterwarnings('ignore')\n",
    "\n",
    "# scikit-learn imports\n",
    "from sklearn.svm import SVC\n",
    "from sklearn.feature_extraction.text import TfidfVectorizer\n",
    "from sklearn.metrics import classification_report, precision_recall_fscore_support"
   ]
  },
  {
   "cell_type": "code",
   "execution_count": null,
   "metadata": {
    "slideshow": {
     "slide_type": "fragment"
    }
   },
   "outputs": [],
   "source": [
    "# Uncomment if you need to download the NLTK English tokenizer and the stopwords of all languages\n",
    "# nltk.download('punkt')\n",
    "# nltk.download('stopwords')"
   ]
  },
  {
   "cell_type": "markdown",
   "metadata": {
    "slideshow": {
     "slide_type": "slide"
    }
   },
   "source": [
    "# Example: Class Responses"
   ]
  },
  {
   "cell_type": "markdown",
   "metadata": {
    "slideshow": {
     "slide_type": "slide"
    }
   },
   "source": [
    "## Data"
   ]
  },
  {
   "cell_type": "markdown",
   "metadata": {
    "slideshow": {
     "slide_type": "-"
    }
   },
   "source": [
    "Student responses on COGS 108 Mid-course survey to the following two questions: \n",
    "\n",
    "- What have you enjoyed MOST about COGS 108 so far? Please explain.\n",
    "- What have you enjoyed LEAST about COGS 108 so far? Please explain."
   ]
  },
  {
   "cell_type": "code",
   "execution_count": null,
   "metadata": {
    "scrolled": true,
    "slideshow": {
     "slide_type": "fragment"
    }
   },
   "outputs": [],
   "source": [
    "# read data in\n",
    "# 1 = most; 0 = least\n",
    "df = pd.read_csv('https://raw.githubusercontent.com/shanellis/datasets/master/COGS108_ml.csv', encoding=\"ISO-8859-1\")\n",
    "df.tail()"
   ]
  },
  {
   "cell_type": "code",
   "execution_count": null,
   "metadata": {
    "scrolled": true,
    "slideshow": {
     "slide_type": "-"
    }
   },
   "outputs": [],
   "source": [
    "# randomly sort data frame\n",
    "df = df.sample(frac=1, random_state=200).reset_index(drop=True)\n",
    "df.head()"
   ]
  },
  {
   "cell_type": "markdown",
   "metadata": {
    "slideshow": {
     "slide_type": "fragment"
    }
   },
   "source": [
    "Randomly sorted data frame:\n",
    "- for selection of training and test set\n",
    "- will be approximately balanced between outcomes in each"
   ]
  },
  {
   "cell_type": "code",
   "execution_count": null,
   "metadata": {
    "scrolled": true,
    "slideshow": {
     "slide_type": "fragment"
    }
   },
   "outputs": [],
   "source": [
    "# see how much data we're working with\n",
    "df.shape"
   ]
  },
  {
   "cell_type": "markdown",
   "metadata": {
    "slideshow": {
     "slide_type": "slide"
    }
   },
   "source": [
    "### Train, Test, Validate\n",
    "\n",
    "- We'll train the model on 80% of the responses from the past four quarter's survey\n",
    "- We'll test the model on the 20% we've held out\n",
    "- We'll validate the model on this quarter's responses"
   ]
  },
  {
   "cell_type": "code",
   "execution_count": null,
   "metadata": {
    "slideshow": {
     "slide_type": "fragment"
    }
   },
   "outputs": [],
   "source": [
    "## Train/Test\n",
    "df_traintest = df[df['quarter']!='sp21']\n",
    "\n",
    "## Validation\n",
    "df_validation = df[df['quarter']=='sp21']"
   ]
  },
  {
   "cell_type": "code",
   "execution_count": null,
   "metadata": {
    "slideshow": {
     "slide_type": "fragment"
    }
   },
   "outputs": [],
   "source": [
    "print(df_traintest.shape, df_validation.shape)"
   ]
  },
  {
   "cell_type": "markdown",
   "metadata": {
    "slideshow": {
     "slide_type": "-"
    }
   },
   "source": [
    "- train/test\n",
    "    - Sp19: 631\n",
    "    - Wi20: 492\n",
    "    - Sp20: 705\n",
    "    - Fa20: 551\n",
    "    - Wi21: 615\n",
    "- validate:\n",
    "    - Sp21: 466"
   ]
  },
  {
   "cell_type": "markdown",
   "metadata": {
    "slideshow": {
     "slide_type": "slide"
    }
   },
   "source": [
    "#### Clicker Question #1\n",
    "\n",
    "How well do you think we will be able to predict whether a student comment is a response to what they liked most vs what they liked least in our ***test*** dataset?\n",
    "\n",
    "- A) Accuracy ~0%\n",
    "- B) Accuracy ~25%\n",
    "- C) Accuracy ~50%\n",
    "- D) Accuracy ~75%\n",
    "- E) Accuracy ~100%"
   ]
  },
  {
   "cell_type": "markdown",
   "metadata": {},
   "source": [
    "#### Clicker Question #2\n",
    "\n",
    "How well do you think we will be able to predict whether a student comment is a response to what they liked most vs what they liked least in our ***validation*** dataset?\n",
    "\n",
    "- A) Accuracy ~0%\n",
    "- B) Accuracy ~25%\n",
    "- C) Accuracy ~50%\n",
    "- D) Accuracy ~75%\n",
    "- E) Accuracy ~100%"
   ]
  },
  {
   "cell_type": "markdown",
   "metadata": {
    "slideshow": {
     "slide_type": "slide"
    }
   },
   "source": [
    "## Prediction Task: \n",
    "\n",
    "**Classify text from students as 'most liked' or 'least liked'**"
   ]
  },
  {
   "cell_type": "markdown",
   "metadata": {
    "slideshow": {
     "slide_type": "-"
    }
   },
   "source": [
    "#### 11 Steps to Prediction:\n",
    "\n",
    "1. Specify parameters for TF-IDF calculation\n",
    "2. Calculate TF-IDF from text input (predictors)\n",
    "3. Extract most or least (outcome)\n",
    "4. Specify how data will be partitioned\n",
    "5. Partition the data\n",
    "6. Train model\n",
    "7. Predict in training\n",
    "8. Predict in testing\n",
    "9. Assess accuracy in training\n",
    "10. Assess accuracy in test set\n",
    "11. Assess accuracy in validation set"
   ]
  },
  {
   "cell_type": "markdown",
   "metadata": {
    "slideshow": {
     "slide_type": "slide"
    }
   },
   "source": [
    "### Data Processing"
   ]
  },
  {
   "cell_type": "markdown",
   "metadata": {
    "slideshow": {
     "slide_type": "fragment"
    }
   },
   "source": [
    "Step 1: Determine how you'll convert a collection of raw documents to a matrix of TF-IDF features."
   ]
  },
  {
   "cell_type": "code",
   "execution_count": null,
   "metadata": {
    "slideshow": {
     "slide_type": "fragment"
    }
   },
   "outputs": [],
   "source": [
    "# Create vectorizer & specify parameters\n",
    "tfidf = TfidfVectorizer(sublinear_tf=True, #apply sublinear TF scaling\n",
    "                        analyzer='word',   #specify tokenizer\n",
    "                        max_features=500, # specify max # of features to include\n",
    "                        tokenizer=word_tokenize)"
   ]
  },
  {
   "cell_type": "markdown",
   "metadata": {
    "slideshow": {
     "slide_type": "notes"
    }
   },
   "source": [
    "* sublinear TF scaling - replaces term frequency (TF) with $1 + log(TF)$"
   ]
  },
  {
   "cell_type": "markdown",
   "metadata": {
    "slideshow": {
     "slide_type": "fragment"
    }
   },
   "source": [
    "Step 2: Generate matrix of TF-IDF features."
   ]
  },
  {
   "cell_type": "code",
   "execution_count": null,
   "metadata": {
    "scrolled": true,
    "slideshow": {
     "slide_type": "fragment"
    }
   },
   "outputs": [],
   "source": [
    "# Learn vocabulary and idf, return term-document matrix.\n",
    "# return an array;our predictor\n",
    "tfidf_X = tfidf.fit_transform(df_traintest['response']).toarray()\n",
    "\n",
    "# take a look at the output\n",
    "print(tfidf_X.shape)\n",
    "\n",
    "print(\"min: \" , np.min(tfidf_X), '\\n',\n",
    "      \"mean: \", np.mean(tfidf_X), '\\n',\n",
    "      \"max: \",  np.max(tfidf_X))"
   ]
  },
  {
   "cell_type": "code",
   "execution_count": null,
   "metadata": {
    "slideshow": {
     "slide_type": "fragment"
    }
   },
   "outputs": [],
   "source": [
    "## get IDF to visualize\n",
    "idf = tfidf.idf_\n",
    "rr = dict(zip(tfidf.fit(df_traintest['response']).get_feature_names(), idf))\n",
    "\n",
    "token_weight = pd.DataFrame.from_dict(rr, orient='index').reset_index()\n",
    "token_weight.columns=('token','weight')\n",
    "token_weight = token_weight.sort_values(by='weight', ascending=False)\n",
    "token_weight.head() "
   ]
  },
  {
   "cell_type": "code",
   "execution_count": null,
   "metadata": {
    "slideshow": {
     "slide_type": "fragment"
    }
   },
   "outputs": [],
   "source": [
    "sns.barplot(x='token', \n",
    "            y='weight', \n",
    "            data=token_weight[0:10], \n",
    "            color=\"gray\")            \n",
    "plt.title(\"Inverse Document Frequency(IDF) per token\")\n",
    "fig = plt.gcf()\n",
    "fig.set_size_inches(15,5);"
   ]
  },
  {
   "cell_type": "markdown",
   "metadata": {
    "slideshow": {
     "slide_type": "fragment"
    }
   },
   "source": [
    "Step 3: Extract outcome variable"
   ]
  },
  {
   "cell_type": "code",
   "execution_count": null,
   "metadata": {
    "slideshow": {
     "slide_type": "fragment"
    }
   },
   "outputs": [],
   "source": [
    "# specify outcome variable\n",
    "tfidf_Y = np.array(df_traintest['most_least'])\n",
    "tfidf_Y[0:5]"
   ]
  },
  {
   "cell_type": "markdown",
   "metadata": {
    "slideshow": {
     "slide_type": "slide"
    }
   },
   "source": [
    "## Data Partitioning & Feature Selection\n",
    "\n",
    "80/20 split"
   ]
  },
  {
   "cell_type": "markdown",
   "metadata": {
    "slideshow": {
     "slide_type": "fragment"
    }
   },
   "source": [
    "We're going to be looking at the ability of using the text responses to predict whether or not it was something someone liked most or liked least."
   ]
  },
  {
   "cell_type": "markdown",
   "metadata": {
    "slideshow": {
     "slide_type": "fragment"
    }
   },
   "source": [
    "Step 4: Determine split in data."
   ]
  },
  {
   "cell_type": "code",
   "execution_count": null,
   "metadata": {
    "scrolled": true,
    "slideshow": {
     "slide_type": "fragment"
    }
   },
   "outputs": [],
   "source": [
    "# specify training and test\n",
    "num_training = int(len(df_traintest)*0.8)\n",
    "num_testing = len(df_traintest)-num_training\n",
    "\n",
    "print(num_training, num_testing)"
   ]
  },
  {
   "cell_type": "markdown",
   "metadata": {
    "slideshow": {
     "slide_type": "fragment"
    }
   },
   "source": [
    "Step 5: Split (partition) the data."
   ]
  },
  {
   "cell_type": "code",
   "execution_count": null,
   "metadata": {
    "scrolled": true,
    "slideshow": {
     "slide_type": "fragment"
    }
   },
   "outputs": [],
   "source": [
    "# get data\n",
    "# because rows have been randomized previously\n",
    "tfidf_train_X = tfidf_X[:num_training]\n",
    "tfidf_train_Y = tfidf_Y[:num_training]\n",
    "tfidf_test_X = tfidf_X[num_training:]\n",
    "tfidf_test_Y = tfidf_Y[num_training:]"
   ]
  },
  {
   "cell_type": "markdown",
   "metadata": {
    "slideshow": {
     "slide_type": "fragment"
    }
   },
   "source": [
    "#### Clicker Question #3\n",
    "\n",
    "Looking at the code above and thinking about what we've done so far in this analysis, what is stored in `tfidf_test_Y`?\n",
    "\n",
    "- A) predictor variable - training data\n",
    "- B) outcome variable - training data\n",
    "- C) predictor variable - test data\n",
    "- D) outcome variable - test data\n",
    "- E) validation DataFrame"
   ]
  },
  {
   "cell_type": "code",
   "execution_count": null,
   "metadata": {
    "slideshow": {
     "slide_type": "fragment"
    }
   },
   "outputs": [],
   "source": [
    "# take a look at the data we're using\n",
    "print(tfidf_train_X.shape)\n",
    "tfidf_train_X"
   ]
  },
  {
   "cell_type": "markdown",
   "metadata": {
    "slideshow": {
     "slide_type": "slide"
    }
   },
   "source": [
    "## Model"
   ]
  },
  {
   "cell_type": "markdown",
   "metadata": {
    "slideshow": {
     "slide_type": "fragment"
    }
   },
   "source": [
    "### SVM: Support Vector Machines\n",
    "\n",
    "- simple & interpretable machine learning model\n",
    "- based in linear regression\n",
    "- classification task\n",
    "- supervized\n",
    "    - input: labeled training data\n",
    "    - model determines hyperplane that best discriminates between categories"
   ]
  },
  {
   "cell_type": "markdown",
   "metadata": {
    "slideshow": {
     "slide_type": "slide"
    }
   },
   "source": [
    "### SVM: Tuning Parameters\n",
    "- **regularization** parameter\n",
    "    - can determine how this line is drawn\n",
    "    - can increase accuracy of prediction\n",
    "    - can lead to overfitting of the data\n",
    "- **kernel** parameter\n",
    "    - specifies how to model & transform data\n",
    "    "
   ]
  },
  {
   "cell_type": "markdown",
   "metadata": {
    "slideshow": {
     "slide_type": "notes"
    }
   },
   "source": [
    "For more reading on SVMs using `sklearn`: https://scikit-learn.org/stable/modules/svm.html"
   ]
  },
  {
   "cell_type": "markdown",
   "metadata": {
    "slideshow": {
     "slide_type": "slide"
    }
   },
   "source": [
    "### Model Generation\n",
    "    "
   ]
  },
  {
   "cell_type": "markdown",
   "metadata": {
    "slideshow": {
     "slide_type": "fragment"
    }
   },
   "source": [
    "Step 6: Generate and train the model."
   ]
  },
  {
   "cell_type": "code",
   "execution_count": null,
   "metadata": {
    "slideshow": {
     "slide_type": "fragment"
    }
   },
   "outputs": [],
   "source": [
    "# uncomment to read documentation for model\n",
    "SVC?"
   ]
  },
  {
   "cell_type": "code",
   "execution_count": null,
   "metadata": {
    "slideshow": {
     "slide_type": "fragment"
    }
   },
   "outputs": [],
   "source": [
    "# function we'll use to run the model\n",
    "def train_SVM(X, Y, kernel='linear'):\n",
    "    model = SVC(kernel=kernel)\n",
    "    model.fit(X, Y)\n",
    "    return model"
   ]
  },
  {
   "cell_type": "code",
   "execution_count": null,
   "metadata": {
    "slideshow": {
     "slide_type": "fragment"
    }
   },
   "outputs": [],
   "source": [
    "# train model\n",
    "svm_model = train_SVM(tfidf_train_X, tfidf_train_Y)\n",
    "type(svm_model)"
   ]
  },
  {
   "cell_type": "markdown",
   "metadata": {
    "slideshow": {
     "slide_type": "fragment"
    }
   },
   "source": [
    "### Training Data"
   ]
  },
  {
   "cell_type": "markdown",
   "metadata": {
    "slideshow": {
     "slide_type": "fragment"
    }
   },
   "source": [
    "Step 7: Predict in the training data"
   ]
  },
  {
   "cell_type": "code",
   "execution_count": null,
   "metadata": {
    "slideshow": {
     "slide_type": "fragment"
    }
   },
   "outputs": [],
   "source": [
    "# predict on training\n",
    "df_predicted_train_Y = svm_model.predict(tfidf_train_X)\n",
    "print(df_predicted_train_Y[0:5])\n",
    "len(df_predicted_train_Y)"
   ]
  },
  {
   "cell_type": "code",
   "execution_count": null,
   "metadata": {
    "slideshow": {
     "slide_type": "fragment"
    }
   },
   "outputs": [],
   "source": [
    "# see how many were predicted most vs. least\n",
    "pd.Series(df_predicted_train_Y).value_counts()"
   ]
  },
  {
   "cell_type": "markdown",
   "metadata": {
    "slideshow": {
     "slide_type": "fragment"
    }
   },
   "source": [
    "### Testing Data"
   ]
  },
  {
   "cell_type": "markdown",
   "metadata": {
    "slideshow": {
     "slide_type": "-"
    }
   },
   "source": [
    "Step 8: Predict in the testing data"
   ]
  },
  {
   "cell_type": "code",
   "execution_count": null,
   "metadata": {
    "slideshow": {
     "slide_type": "fragment"
    }
   },
   "outputs": [],
   "source": [
    "# predict on training\n",
    "df_predicted_test_Y = svm_model.predict(tfidf_test_X)\n",
    "print(df_predicted_test_Y[0:5])\n",
    "len(df_predicted_test_Y)"
   ]
  },
  {
   "cell_type": "code",
   "execution_count": null,
   "metadata": {
    "slideshow": {
     "slide_type": "fragment"
    }
   },
   "outputs": [],
   "source": [
    "# see how many were predicted most vs. least\n",
    "pd.Series(df_predicted_test_Y).value_counts()"
   ]
  },
  {
   "cell_type": "markdown",
   "metadata": {
    "slideshow": {
     "slide_type": "slide"
    }
   },
   "source": [
    "## Accuracy Assessment\n",
    "\n",
    "- RMSE (continuous)\n",
    "- Accuracy, Sensitivity, Specificity, AUC\n",
    "    - TP, TN, FP, FN"
   ]
  },
  {
   "cell_type": "markdown",
   "metadata": {
    "slideshow": {
     "slide_type": "fragment"
    }
   },
   "source": [
    "**Accuracy** - What % were predicted correctly?  \n",
    "**Sensitivity (Recall)** - Of those that were positives, what % were predicted to be positive?  ; $\\frac {TP}{(TP + FN)}$  \n",
    "**Specificity** - Of those that were actually negatives, what % were predicted to be negative?  $\\frac {TN}{(TN + FP)}$"
   ]
  },
  {
   "cell_type": "markdown",
   "metadata": {
    "slideshow": {
     "slide_type": "fragment"
    }
   },
   "source": [
    "**Precision (Positive Predictive Value, PPV)** = $\\frac {TP}{(TP + FP)}$\n",
    "\n",
    "- probability that predicted positive truly is positive"
   ]
  },
  {
   "cell_type": "markdown",
   "metadata": {
    "slideshow": {
     "slide_type": "slide"
    }
   },
   "source": [
    "### Training Data"
   ]
  },
  {
   "cell_type": "markdown",
   "metadata": {
    "slideshow": {
     "slide_type": "-"
    }
   },
   "source": [
    "Step 9: Assess accuracy in training data"
   ]
  },
  {
   "cell_type": "code",
   "execution_count": null,
   "metadata": {
    "scrolled": true
   },
   "outputs": [],
   "source": [
    "print(classification_report(tfidf_train_Y, df_predicted_train_Y))"
   ]
  },
  {
   "cell_type": "markdown",
   "metadata": {
    "slideshow": {
     "slide_type": "fragment"
    }
   },
   "source": [
    "**support** - the number of occurrences of each class  \n",
    "**precision (PPV)** - ability of the classifier not to label a positive sample as negative  \n",
    "**recall (sensitivity)** - ability of the classifer to find all the positive samples\n"
   ]
  },
  {
   "cell_type": "markdown",
   "metadata": {
    "slideshow": {
     "slide_type": "fragment"
    }
   },
   "source": [
    "**f1-score** - weighted harmonic mean of the precision and recall; score reaches its best value at 1 and worst score at 0  \n",
    "**macro average** - averaging the unweighted mean per label  \n",
    "**weighted average** - averaging the support-weighted mean per label  \n",
    "**micro average** - averaging the total true positives, false negatives and false positives"
   ]
  },
  {
   "cell_type": "code",
   "execution_count": null,
   "metadata": {
    "scrolled": true,
    "slideshow": {
     "slide_type": "notes"
    }
   },
   "outputs": [],
   "source": [
    "# where 'support' comes from\n",
    "pd.Series(tfidf_train_Y).value_counts()"
   ]
  },
  {
   "cell_type": "markdown",
   "metadata": {
    "slideshow": {
     "slide_type": "slide"
    }
   },
   "source": [
    "### Testing Data"
   ]
  },
  {
   "cell_type": "markdown",
   "metadata": {
    "slideshow": {
     "slide_type": "-"
    }
   },
   "source": [
    "Step 10: Assess accuracy in testing data"
   ]
  },
  {
   "cell_type": "code",
   "execution_count": null,
   "metadata": {
    "scrolled": false
   },
   "outputs": [],
   "source": [
    "print(classification_report(tfidf_test_Y, df_predicted_test_Y))"
   ]
  },
  {
   "cell_type": "markdown",
   "metadata": {
    "slideshow": {
     "slide_type": "fragment"
    }
   },
   "source": [
    "#### Clicker Question #4\n",
    "\n",
    "Given this output, would you use this model to predict whether or not text was something someone liked or disliked about COGS 108?\n",
    "\n",
    "- A) Yes\n",
    "- B) No\n",
    "- C) Unsure"
   ]
  },
  {
   "cell_type": "markdown",
   "metadata": {
    "slideshow": {
     "slide_type": "slide"
    }
   },
   "source": [
    "### Validation Data"
   ]
  },
  {
   "cell_type": "markdown",
   "metadata": {
    "slideshow": {
     "slide_type": "-"
    }
   },
   "source": [
    "Step 11: Assess accuracy in validation data"
   ]
  },
  {
   "cell_type": "code",
   "execution_count": null,
   "metadata": {},
   "outputs": [],
   "source": [
    "df_validation.head()"
   ]
  },
  {
   "cell_type": "code",
   "execution_count": null,
   "metadata": {
    "scrolled": true,
    "slideshow": {
     "slide_type": "fragment"
    }
   },
   "outputs": [],
   "source": [
    "# the ground truth\n",
    "tfidf_vaidation_Y = np.array(df_validation['most_least'])\n",
    "\n",
    "# predicted values from class responses\n",
    "tfidf_validation_X = tfidf.fit_transform(df_validation['response']).toarray()\n",
    "df_predicted_validation_Y = svm_model.predict(tfidf_validation_X)\n",
    "\n",
    "# assess accuracy\n",
    "print(classification_report(tfidf_vaidation_Y, df_predicted_validation_Y))"
   ]
  },
  {
   "cell_type": "markdown",
   "metadata": {
    "slideshow": {
     "slide_type": "fragment"
    }
   },
   "source": [
    "#### Clicker Question #5\n",
    "\n",
    "Given this output, would you use this model to predict whether or not text was something someone liked or disliked about COGS 108?\n",
    "\n",
    "- A) Yes\n",
    "- B) No\n",
    "- C) Unsure"
   ]
  },
  {
   "cell_type": "markdown",
   "metadata": {
    "slideshow": {
     "slide_type": "slide"
    }
   },
   "source": [
    "### Summary"
   ]
  },
  {
   "cell_type": "markdown",
   "metadata": {},
   "source": [
    "1. 80:20 Partition\n",
    "2. Specified TF-IDF as predictor and most/least (0,1) as outcome\n",
    "3. Trained SVM linear classifier\n",
    "4. Built model on Training data\n",
    "5. Predicted in training data and on testing data\n",
    "6. Assessed overall accuracy"
   ]
  },
  {
   "cell_type": "markdown",
   "metadata": {
    "slideshow": {
     "slide_type": "slide"
    }
   },
   "source": [
    "### Approaches For Improvement?\n",
    "\n",
    "- Data Cleaning/Stemming\n",
    "- Different Tuning Parameters?\n",
    "- Cross-Validation?\n",
    "- Train/Test on all data OR Train only Sp20/Fa20/Wi21 (remote quarters)\n",
    "- Different Model?"
   ]
  }
 ],
 "metadata": {
  "celltoolbar": "Slideshow",
  "kernelspec": {
   "display_name": "Python 3",
   "language": "python",
   "name": "python3"
  },
  "language_info": {
   "codemirror_mode": {
    "name": "ipython",
    "version": 3
   },
   "file_extension": ".py",
   "mimetype": "text/x-python",
   "name": "python",
   "nbconvert_exporter": "python",
   "pygments_lexer": "ipython3",
   "version": "3.7.9"
  },
  "rise": {
   "scroll": true
  }
 },
 "nbformat": 4,
 "nbformat_minor": 2
}
