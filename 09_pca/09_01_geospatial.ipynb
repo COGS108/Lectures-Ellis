{
 "cells": [
  {
   "cell_type": "markdown",
   "metadata": {
    "slideshow": {
     "slide_type": "slide"
    }
   },
   "source": [
    "# Geospatial Analysis\n",
    "\n",
    "- Analysis:\n",
    "    - Exploratory Spatial Data Analysis\n",
    "    - K-Nearest Neighbors\n",
    "\n",
    "- Tools:\n",
    "    - `shapely` - create and manipulate shape objects\n",
    "    - `geopandas` - shapely + dataframe + visualization\n",
    "   "
   ]
  },
  {
   "cell_type": "markdown",
   "metadata": {
    "slideshow": {
     "slide_type": "-"
    }
   },
   "source": [
    "Lecture Video corresponding to these notes: https://youtu.be/6GZEhDSu2UA"
   ]
  },
  {
   "cell_type": "markdown",
   "metadata": {
    "slideshow": {
     "slide_type": "notes"
    }
   },
   "source": [
    "Today's notes are adapted from the [Scipy 2018 Tutorial - Introduction to Geospatial Data Analysis with Python](https://github.com/geopandas/scipy2018-geospatial-data).\n",
    "\n",
    "To get all notes and examples from this workshop, do the following:\n",
    "```\n",
    "git clone https://github.com/geopandas/scipy2018-geospatial-data    # get materials\n",
    "conda env create -f environment.yml                                 # download packages\n",
    "python check_environment.py                                         # check environment \n",
    "```"
   ]
  },
  {
   "cell_type": "markdown",
   "metadata": {
    "slideshow": {
     "slide_type": "notes"
    }
   },
   "source": [
    "Additional resource for mapping data with `geopandas`: http://darribas.org/gds15/content/labs/lab_03.html"
   ]
  },
  {
   "cell_type": "code",
   "execution_count": null,
   "metadata": {
    "slideshow": {
     "slide_type": "notes"
    }
   },
   "outputs": [],
   "source": [
    "# uncomment below if not yet installed\n",
    "# !pip install --user geopandas\n",
    "# !pip install --user descartes"
   ]
  },
  {
   "cell_type": "code",
   "execution_count": null,
   "metadata": {
    "scrolled": true,
    "slideshow": {
     "slide_type": "slide"
    }
   },
   "outputs": [],
   "source": [
    "%matplotlib inline\n",
    "\n",
    "import pandas as pd\n",
    "import geopandas as gpd\n",
    "import numpy as np\n",
    "\n",
    "import matplotlib.pyplot as plt\n",
    "plt.rcParams['figure.figsize'] = (17, 5)\n",
    "plt.rcParams.update({'font.size': 16})\n",
    "from mpl_toolkits.axes_grid1 import make_axes_locatable\n",
    "import seaborn as sns\n",
    "\n",
    "import shapely.geometry as shp\n",
    "\n",
    "import sklearn.neighbors as skn\n",
    "import sklearn.metrics as skm\n",
    "\n",
    "import warnings\n",
    "warnings.filterwarnings('ignore')\n",
    "\n",
    "pd.options.display.max_rows = 10\n",
    "\n",
    "#improve resolution\n",
    "#comment this line if erroring on your machine/screen\n",
    "%config InlineBackend.figure_format ='retina'"
   ]
  },
  {
   "cell_type": "markdown",
   "metadata": {
    "slideshow": {
     "slide_type": "slide"
    }
   },
   "source": [
    "# `geopandas` basics"
   ]
  },
  {
   "cell_type": "markdown",
   "metadata": {
    "slideshow": {
     "slide_type": "notes"
    }
   },
   "source": [
    "Examples here are from `geopandas` documentation: http://geopandas.org/mapping.html"
   ]
  },
  {
   "cell_type": "markdown",
   "metadata": {
    "slideshow": {
     "slide_type": "fragment"
    }
   },
   "source": [
    "## The Data"
   ]
  },
  {
   "cell_type": "code",
   "execution_count": null,
   "metadata": {
    "slideshow": {
     "slide_type": "fragment"
    }
   },
   "outputs": [],
   "source": [
    "world = gpd.read_file(gpd.datasets.get_path('naturalearth_lowres'))\n",
    "cities = gpd.read_file(gpd.datasets.get_path('naturalearth_cities'))"
   ]
  },
  {
   "cell_type": "code",
   "execution_count": null,
   "metadata": {
    "scrolled": true,
    "slideshow": {
     "slide_type": "fragment"
    }
   },
   "outputs": [],
   "source": [
    "world"
   ]
  },
  {
   "cell_type": "code",
   "execution_count": null,
   "metadata": {
    "slideshow": {
     "slide_type": "fragment"
    }
   },
   "outputs": [],
   "source": [
    "cities"
   ]
  },
  {
   "cell_type": "markdown",
   "metadata": {
    "slideshow": {
     "slide_type": "slide"
    }
   },
   "source": [
    "## Population Estimates"
   ]
  },
  {
   "cell_type": "code",
   "execution_count": null,
   "metadata": {
    "scrolled": false,
    "slideshow": {
     "slide_type": "-"
    }
   },
   "outputs": [],
   "source": [
    "# Plot population estimates with an accurate legend\n",
    "fig, ax = plt.subplots(1, 1, figsize=(17, 7))\n",
    "divider = make_axes_locatable(ax)\n",
    "world.plot(column='pop_est', ax=ax, legend=True);"
   ]
  },
  {
   "cell_type": "code",
   "execution_count": null,
   "metadata": {
    "scrolled": true,
    "slideshow": {
     "slide_type": "slide"
    }
   },
   "outputs": [],
   "source": [
    "# Plot population estimates with a different color scale\n",
    "fig, ax = plt.subplots(1, 1, figsize=(17, 7))\n",
    "divider = make_axes_locatable(ax)\n",
    "world.plot(column='pop_est', ax=ax, cmap='GnBu', legend=True);"
   ]
  },
  {
   "cell_type": "markdown",
   "metadata": {
    "slideshow": {
     "slide_type": "slide"
    }
   },
   "source": [
    "## GDP per capita"
   ]
  },
  {
   "cell_type": "code",
   "execution_count": null,
   "metadata": {
    "slideshow": {
     "slide_type": "-"
    }
   },
   "outputs": [],
   "source": [
    "# Plot by GDP per capita\n",
    "\n",
    "# specify data\n",
    "world = world[(world.pop_est>0) & (world.name!=\"Antarctica\")]\n",
    "world['gdp_per_cap'] = world.gdp_md_est / world.pop_est\n",
    "\n",
    "# plot choropleth\n",
    "fig, ax = plt.subplots(1, 1, figsize=(17, 7))\n",
    "divider = make_axes_locatable(ax)\n",
    "world.plot(column='gdp_per_cap', ax = ax, figsize=(17, 6), cmap='GnBu', legend = True);"
   ]
  },
  {
   "cell_type": "code",
   "execution_count": null,
   "metadata": {
    "scrolled": false,
    "slideshow": {
     "slide_type": "fragment"
    }
   },
   "outputs": [],
   "source": [
    "world[world['gdp_per_cap'] > 0.08]"
   ]
  },
  {
   "cell_type": "code",
   "execution_count": null,
   "metadata": {
    "scrolled": true,
    "slideshow": {
     "slide_type": "slide"
    }
   },
   "outputs": [],
   "source": [
    "# combining maps\n",
    "base = world.plot(column='pop_est', cmap='GnBu')\n",
    "cities.plot(ax=base, marker='o', color='red', markersize=5);"
   ]
  },
  {
   "cell_type": "markdown",
   "metadata": {
    "slideshow": {
     "slide_type": "slide"
    }
   },
   "source": [
    "## Geospatial Analysis\n",
    "\n",
    "- Data\n",
    "- EDA (Visualization)\n",
    "- Analysis"
   ]
  },
  {
   "cell_type": "markdown",
   "metadata": {
    "slideshow": {
     "slide_type": "slide"
    }
   },
   "source": [
    "### District data: Berlin"
   ]
  },
  {
   "cell_type": "code",
   "execution_count": null,
   "metadata": {
    "slideshow": {
     "slide_type": "fragment"
    }
   },
   "outputs": [],
   "source": [
    "# berlin districts\n",
    "df = gpd.read_file('https://raw.githubusercontent.com/geopandas/scipy2018-geospatial-data/master/data/berlin-districts.geojson')"
   ]
  },
  {
   "cell_type": "code",
   "execution_count": null,
   "metadata": {},
   "outputs": [],
   "source": [
    "df.shape"
   ]
  },
  {
   "cell_type": "code",
   "execution_count": null,
   "metadata": {
    "scrolled": false,
    "slideshow": {
     "slide_type": "slide"
    }
   },
   "outputs": [],
   "source": [
    "df.head()"
   ]
  },
  {
   "cell_type": "markdown",
   "metadata": {
    "slideshow": {
     "slide_type": "slide"
    }
   },
   "source": [
    "### Exploratory Spatial Data Analysis"
   ]
  },
  {
   "cell_type": "code",
   "execution_count": null,
   "metadata": {
    "scrolled": true,
    "slideshow": {
     "slide_type": "fragment"
    }
   },
   "outputs": [],
   "source": [
    "sns.distplot(df['median_price']);"
   ]
  },
  {
   "cell_type": "markdown",
   "metadata": {
    "slideshow": {
     "slide_type": "fragment"
    }
   },
   "source": [
    "We get an idea of what the median price for listings in this area of Berlin is, but we don't know how this information is spatially related."
   ]
  },
  {
   "cell_type": "code",
   "execution_count": null,
   "metadata": {
    "scrolled": false,
    "slideshow": {
     "slide_type": "slide"
    }
   },
   "outputs": [],
   "source": [
    "df.plot(column='median_price', figsize=(18, 12), cmap='GnBu', legend=True);"
   ]
  },
  {
   "cell_type": "markdown",
   "metadata": {
    "slideshow": {
     "slide_type": "-"
    }
   },
   "source": [
    "Unless you happen to know something about this area of Germany, interpreting what's going on in this choropleth is likely a little tricky, but we can see there is some variation in median prices across this region."
   ]
  },
  {
   "cell_type": "markdown",
   "metadata": {
    "slideshow": {
     "slide_type": "slide"
    }
   },
   "source": [
    "### Spatial Autocorrelation\n",
    "\n",
    "Note that if prices were distributed randomly, there would be no clustering of similar values."
   ]
  },
  {
   "cell_type": "markdown",
   "metadata": {
    "slideshow": {
     "slide_type": "fragment"
    }
   },
   "source": [
    "To visualize the existence of global spatial autocorrelation, let's take it to the extreme. Let's look at the 68 districts with the highest Airbnb prices and those with the lowest prices."
   ]
  },
  {
   "cell_type": "code",
   "execution_count": null,
   "metadata": {
    "slideshow": {
     "slide_type": "fragment"
    }
   },
   "outputs": [],
   "source": [
    "# get data to dichotomize\n",
    "y = df['median_price']\n",
    "yb = y > y.median()\n",
    "labels = [\"0 Low\", \"1 High\"]\n",
    "yb = [labels[i] for i in 1*yb] \n",
    "df['yb'] = yb"
   ]
  },
  {
   "cell_type": "code",
   "execution_count": null,
   "metadata": {
    "slideshow": {
     "slide_type": "slide"
    }
   },
   "outputs": [],
   "source": [
    "# take a look\n",
    "fig = plt.figure(figsize=(12,10))\n",
    "ax = plt.gca()\n",
    "df.plot(column='yb', cmap='binary',\n",
    "        edgecolor='grey', legend=True, ax=ax);"
   ]
  },
  {
   "cell_type": "markdown",
   "metadata": {
    "slideshow": {
     "slide_type": "slide"
    }
   },
   "source": [
    "### Airbnb Listings: Berlin\n",
    "\n",
    "- kernel regressions\n",
    "    - \"borrow strength\" from nearby observations"
   ]
  },
  {
   "cell_type": "markdown",
   "metadata": {
    "slideshow": {
     "slide_type": "slide"
    }
   },
   "source": [
    "A reminder that in geospatial data, there *two simultaneous senses of what is near:*\n",
    "- things that similar in attribute (classical kernel regression)\n",
    "- things that are similar in spatial position (spatial kernel regression)\n"
   ]
  },
  {
   "cell_type": "markdown",
   "metadata": {
    "slideshow": {
     "slide_type": "slide"
    }
   },
   "source": [
    "### Question\n",
    "\n",
    "What features would you consider including in a model to predict an Airbnb's nightly price?\n"
   ]
  },
  {
   "cell_type": "markdown",
   "metadata": {
    "slideshow": {
     "slide_type": "slide"
    }
   },
   "source": [
    "First, though, let's try to predict the log of an **Airbnb's nightly price** based on a few factors:\n",
    "- `accommodates`: the number of people the airbnb can accommodate\n",
    "- `review_scores_rating`: the aggregate rating of the listing\n",
    "- `bedrooms`: the number of bedrooms the airbnb has\n",
    "- `bathrooms`: the number of bathrooms the airbnb has\n",
    "- `beds`: the number of beds the airbnb offers"
   ]
  },
  {
   "cell_type": "markdown",
   "metadata": {
    "slideshow": {
     "slide_type": "slide"
    }
   },
   "source": [
    "### Airbnb Listings: The Data"
   ]
  },
  {
   "cell_type": "code",
   "execution_count": null,
   "metadata": {
    "slideshow": {
     "slide_type": "fragment"
    }
   },
   "outputs": [],
   "source": [
    "listings = pd.read_csv('https://raw.githubusercontent.com/geopandas/scipy2018-geospatial-data/master/data/berlin-listings.csv.gz')\n",
    "listings['geometry'] = listings[['longitude', 'latitude']].apply(shp.Point, axis=1)\n",
    "listings = gpd.GeoDataFrame(listings)\n",
    "listings.crs = {'init':'epsg:4269'} # coordinate reference system\n",
    "listings = listings.to_crs(epsg=3857)"
   ]
  },
  {
   "cell_type": "code",
   "execution_count": null,
   "metadata": {
    "slideshow": {
     "slide_type": "fragment"
    }
   },
   "outputs": [],
   "source": [
    "listings.shape"
   ]
  },
  {
   "cell_type": "code",
   "execution_count": null,
   "metadata": {
    "scrolled": true,
    "slideshow": {
     "slide_type": "slide"
    }
   },
   "outputs": [],
   "source": [
    "listings.head()"
   ]
  },
  {
   "cell_type": "markdown",
   "metadata": {
    "slideshow": {
     "slide_type": "slide"
    }
   },
   "source": [
    "### Airbnb Listings: Outcome Variable"
   ]
  },
  {
   "cell_type": "code",
   "execution_count": null,
   "metadata": {
    "scrolled": true,
    "slideshow": {
     "slide_type": "fragment"
    }
   },
   "outputs": [],
   "source": [
    "fig, ax = plt.subplots(1, 1, figsize=(11, 7))\n",
    "divider = make_axes_locatable(ax)\n",
    "listings.sort_values('price').plot('price', cmap='plasma', \n",
    "                                   figsize=(10, 18), ax=ax, legend=True);"
   ]
  },
  {
   "cell_type": "code",
   "execution_count": null,
   "metadata": {
    "scrolled": true,
    "slideshow": {
     "slide_type": "slide"
    }
   },
   "outputs": [],
   "source": [
    "# distribution of price\n",
    "sns.distplot(listings['price']);"
   ]
  },
  {
   "cell_type": "code",
   "execution_count": null,
   "metadata": {
    "scrolled": true,
    "slideshow": {
     "slide_type": "slide"
    }
   },
   "outputs": [],
   "source": [
    "listings['price_log'] = np.log(listings['price'])\n",
    "\n",
    "fig, ax = plt.subplots(1, 1, figsize=(11, 7))\n",
    "divider = make_axes_locatable(ax)\n",
    "listings.sort_values('price_log').plot('price_log', cmap='plasma', \n",
    "                                       figsize=(10, 18), ax=ax, legend=True);"
   ]
  },
  {
   "cell_type": "code",
   "execution_count": null,
   "metadata": {
    "scrolled": true,
    "slideshow": {
     "slide_type": "slide"
    }
   },
   "outputs": [],
   "source": [
    "# distribution of log price\n",
    "sns.distplot(listings['price_log'], bins=10);"
   ]
  },
  {
   "cell_type": "markdown",
   "metadata": {
    "slideshow": {
     "slide_type": "slide"
    }
   },
   "source": [
    "### The Models"
   ]
  },
  {
   "cell_type": "code",
   "execution_count": null,
   "metadata": {
    "slideshow": {
     "slide_type": "fragment"
    }
   },
   "outputs": [],
   "source": [
    "# get data for attributes model\n",
    "model_data = listings[['accommodates', 'review_scores_rating', \n",
    "                       'bedrooms', 'bathrooms', 'beds', \n",
    "                       'price', 'geometry']].dropna()"
   ]
  },
  {
   "cell_type": "code",
   "execution_count": null,
   "metadata": {
    "slideshow": {
     "slide_type": "-"
    }
   },
   "outputs": [],
   "source": [
    "# specify predictors (X) and outcome (y)\n",
    "Xnames = ['accommodates', 'review_scores_rating', \n",
    "               'bedrooms', 'bathrooms', 'beds' ]\n",
    "X = model_data[Xnames].values\n",
    "X = X.astype(float)\n",
    "y = np.log(model_data[['price']].values)"
   ]
  },
  {
   "cell_type": "markdown",
   "metadata": {
    "slideshow": {
     "slide_type": "fragment"
    }
   },
   "source": [
    "We'll need the spatial coordinates for each listing..."
   ]
  },
  {
   "cell_type": "code",
   "execution_count": null,
   "metadata": {
    "slideshow": {
     "slide_type": "fragment"
    }
   },
   "outputs": [],
   "source": [
    "# get spatial coordinates\n",
    "coordinates = np.vstack(model_data.geometry.apply(lambda p: np.hstack(p.xy)).values)"
   ]
  },
  {
   "cell_type": "markdown",
   "metadata": {
    "slideshow": {
     "slide_type": "slide"
    }
   },
   "source": [
    "`scikit-learn`'s neighbor regressions are contained in the sklearn.neighbors module, and there are two main types:\n",
    "\n",
    "- **KNeighborsRegressor** -  uses a k-nearest neighborhood of observations around each focal site\n",
    "- **RadiusNeighborsRegressor** - considers all observations within a fixed radius around each focal site.\n",
    "\n",
    "Further, these methods can use inverse distance weighting to rank the relative importance of sites around each focal; in this way, near things are given more weight than far things, even when there's a lot of near things."
   ]
  },
  {
   "cell_type": "markdown",
   "metadata": {
    "slideshow": {
     "slide_type": "slide"
    }
   },
   "source": [
    "#### Training & Test"
   ]
  },
  {
   "cell_type": "code",
   "execution_count": null,
   "metadata": {
    "slideshow": {
     "slide_type": "fragment"
    }
   },
   "outputs": [],
   "source": [
    "# specify training and test set\n",
    "shuffle = np.random.permutation(len(y))\n",
    "num = int(0.8*len(shuffle))\n",
    "train, test = shuffle[:num],shuffle[num:]"
   ]
  },
  {
   "cell_type": "markdown",
   "metadata": {
    "slideshow": {
     "slide_type": "slide"
    }
   },
   "source": [
    "#### Three Models\n",
    "So, let's fit three models:\n",
    "- `spatial`: using inverse distance weighting on the nearest 100 neighbors geographical space\n",
    "- `attribute`: using inverse distance weighting on the nearest 100 neighbors in attribute space\n",
    "- `both`: using inverse distance weighting in both geographical and attribute space. "
   ]
  },
  {
   "cell_type": "code",
   "execution_count": null,
   "metadata": {
    "slideshow": {
     "slide_type": "slide"
    }
   },
   "outputs": [],
   "source": [
    "# spatial\n",
    "KNNR = skn.KNeighborsRegressor(weights='distance', n_neighbors=100)\n",
    "spatial = KNNR.fit(coordinates[train,:],\n",
    "                  y[train,:])\n",
    "# attribute\n",
    "KNNR = skn.KNeighborsRegressor(weights='distance', n_neighbors=100)\n",
    "attribute = KNNR.fit(X[train,:],\n",
    "                    y[train,])\n",
    "# both\n",
    "KNNR = skn.KNeighborsRegressor(weights='distance', n_neighbors=100)\n",
    "both = KNNR.fit(np.hstack((coordinates,X))[train,:],\n",
    "                y[train,:])"
   ]
  },
  {
   "cell_type": "markdown",
   "metadata": {
    "slideshow": {
     "slide_type": "slide"
    }
   },
   "source": [
    "### Performance"
   ]
  },
  {
   "cell_type": "markdown",
   "metadata": {},
   "source": [
    "To score them, I'm going to look at the scatterplot and get their % explained variance:"
   ]
  },
  {
   "cell_type": "markdown",
   "metadata": {
    "slideshow": {
     "slide_type": "slide"
    }
   },
   "source": [
    "#### Training Data"
   ]
  },
  {
   "cell_type": "code",
   "execution_count": null,
   "metadata": {
    "slideshow": {
     "slide_type": "fragment"
    }
   },
   "outputs": [],
   "source": [
    "# generate predictions in the training set\n",
    "sp_ypred_train =  spatial.predict(coordinates[train,:])  # spatial\n",
    "att_ypred_train = attribute.predict(X[train,:])          # attribute\n",
    "both_ypred_train = both.predict(np.hstack((X,coordinates))[train,:]) # combo"
   ]
  },
  {
   "cell_type": "code",
   "execution_count": null,
   "metadata": {
    "scrolled": true,
    "slideshow": {
     "slide_type": "fragment"
    }
   },
   "outputs": [],
   "source": [
    "# variance explained in training data\n",
    "(skm.explained_variance_score(y[train,], sp_ypred_train),\n",
    " skm.explained_variance_score(y[train,], att_ypred_train),\n",
    " skm.explained_variance_score(y[train,], both_ypred_train))"
   ]
  },
  {
   "cell_type": "code",
   "execution_count": null,
   "metadata": {
    "scrolled": true,
    "slideshow": {
     "slide_type": "slide"
    }
   },
   "outputs": [],
   "source": [
    "# take a look at predictions\n",
    "plt.plot(y[train,], sp_ypred_train, '.')\n",
    "plt.xlabel('reported')\n",
    "plt.ylabel('predicted');"
   ]
  },
  {
   "cell_type": "markdown",
   "metadata": {
    "slideshow": {
     "slide_type": "slide"
    }
   },
   "source": [
    "#### Test Data"
   ]
  },
  {
   "cell_type": "code",
   "execution_count": null,
   "metadata": {
    "slideshow": {
     "slide_type": "fragment"
    }
   },
   "outputs": [],
   "source": [
    "# generate predictions in the test set\n",
    "sp_ypred =  spatial.predict(coordinates[test,:])\n",
    "att_ypred = attribute.predict(X[test,:])\n",
    "both_ypred = both.predict(np.hstack((X,coordinates))[test,:])"
   ]
  },
  {
   "cell_type": "code",
   "execution_count": null,
   "metadata": {
    "slideshow": {
     "slide_type": "fragment"
    }
   },
   "outputs": [],
   "source": [
    "(skm.explained_variance_score(y[test,], sp_ypred),\n",
    " skm.explained_variance_score(y[test,], att_ypred),\n",
    " skm.explained_variance_score(y[test,], both_ypred))"
   ]
  },
  {
   "cell_type": "code",
   "execution_count": null,
   "metadata": {
    "scrolled": true,
    "slideshow": {
     "slide_type": "slide"
    }
   },
   "outputs": [],
   "source": [
    "# take a look at predictions\n",
    "plt.plot(y[test,], both_ypred, '.')\n",
    "plt.xlabel('reported')\n",
    "plt.ylabel('predicted');"
   ]
  },
  {
   "cell_type": "markdown",
   "metadata": {
    "slideshow": {
     "slide_type": "slide"
    }
   },
   "source": [
    "### Model Improvement\n",
    "\n",
    "None of these models is performing particularly well...\n",
    "\n",
    "Cosiderations for improvement:\n",
    "- features included in attribute model\n",
    "- model tuning (i.e. number of nearest neighbors)\n",
    "- model selected\n",
    "- etc..."
   ]
  },
  {
   "cell_type": "markdown",
   "metadata": {
    "slideshow": {
     "slide_type": "fragment"
    }
   },
   "source": [
    "\n",
    "One method that can exploit the fact that local data may be more informative in predicting $y$ at site $i$ than distant data is **Geographically Weighted Regression**, a type of Generalized Additive Spatial Model. Kind of like a Kernel Regression, GWR conducts a bunch of regressions at each training site only considering data near that site. This means it works like the kernel regressions above, but uses *both* the coordinates *and* the data in $X$ to predict $y$ at each site. It optimizes its sense of \"local\" depending on some information criteria or fit score.\n",
    "\n",
    "You can find this in the `gwr` package, and significant development is ongoing on this at `https://github.com/pysal/gwr`."
   ]
  }
 ],
 "metadata": {
  "celltoolbar": "Slideshow",
  "kernelspec": {
   "display_name": "Python 3",
   "language": "python",
   "name": "python3"
  },
  "language_info": {
   "codemirror_mode": {
    "name": "ipython",
    "version": 3
   },
   "file_extension": ".py",
   "mimetype": "text/x-python",
   "name": "python",
   "nbconvert_exporter": "python",
   "pygments_lexer": "ipython3",
   "version": "3.7.7"
  },
  "rise": {
   "scroll": true
  }
 },
 "nbformat": 4,
 "nbformat_minor": 2
}
