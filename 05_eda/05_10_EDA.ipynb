{
 "cells": [
  {
   "cell_type": "markdown",
   "metadata": {
    "slideshow": {
     "slide_type": "slide"
    }
   },
   "source": [
    "# EDA: Exploratory Data Analysis\n",
    "\n",
    "- tools: `pandas`, `seaborn` & `matplotlib`\n",
    "- concepts:\n",
    "    - structure\n",
    "    - granularity\n",
    "    - scope \n",
    "    - temporality\n",
    "    - faithfulness\n",
    "    - missingness\n",
    "    - single variable: shape, central tendency, variability\n",
    "    - multiple variable EDA (disc./examples coming soon)"
   ]
  },
  {
   "cell_type": "markdown",
   "metadata": {
    "slideshow": {
     "slide_type": "-"
    }
   },
   "source": [
    "<div class=\"alert alert-success\">\n",
    "For more information on this topic, check out: (1) Jake VanderPlas' <a href=\"https://jakevdp.github.io/PythonDataScienceHandbook/\" class=\"alert-link\">Python Data Science Handbook</a> and (2) Berkeley's <a href=\"https://learningds.org/intro.html\" class=\"alert-link\">Learning Data Science</a>.\n",
    "</div>"
   ]
  },
  {
   "cell_type": "markdown",
   "metadata": {
    "slideshow": {
     "slide_type": "slide"
    }
   },
   "source": [
    "## Exploratory data analysis (EDA)\n",
    "\n",
    "> an approach to completely and fully understand your dataset.\n",
    "\n",
    "It requires a state of flexibility and a willingness to look for both:\n",
    "- artifacts in the data we anticipate exist \n",
    "- artifacts that we don't expect / believe are there\n",
    "\n"
   ]
  },
  {
   "cell_type": "markdown",
   "metadata": {
    "slideshow": {
     "slide_type": "slide"
    }
   },
   "source": [
    "## Setup"
   ]
  },
  {
   "cell_type": "code",
   "execution_count": 1,
   "metadata": {
    "slideshow": {
     "slide_type": "-"
    }
   },
   "outputs": [],
   "source": [
    "# Import seaborn and apply its plotting styles\n",
    "import seaborn as sns\n",
    "sns.set(style=\"white\", font_scale=1.5)\n",
    "\n",
    "# import matplotlib\n",
    "import matplotlib.pyplot as plt\n",
    "# set plotting size parameter\n",
    "plt.rcParams['figure.figsize'] = (14, 7)\n",
    "\n",
    "# make sure pandas & numpy are imported\n",
    "import pandas as pd\n",
    "import numpy as np\n",
    "\n",
    "import warnings\n",
    "warnings.filterwarnings('ignore')\n",
    "\n",
    "#improve resolution\n",
    "#comment this line if erroring on your machine/screen\n",
    "%config InlineBackend.figure_format ='retina'"
   ]
  },
  {
   "cell_type": "markdown",
   "metadata": {
    "slideshow": {
     "slide_type": "slide"
    }
   },
   "source": [
    "## Motivating Question(s)\n",
    "\n",
    "How well do COGS 108 students estimate the following:\n",
    "- How fast does human hair grow (cm/yr)?\n",
    "- If every living person stood crammed together side-by-side, how large of an area would they occupy (km²)?\n",
    "- How many days would it take to walk from San Diego to New York City (assuming no stopping to fix shoes, apply sunscreen, or for sleeping, eating, or other biological needs)?"
   ]
  },
  {
   "cell_type": "markdown",
   "metadata": {
    "slideshow": {
     "slide_type": "slide"
    }
   },
   "source": [
    "## The Data\n",
    "\n",
    "To walk through these concepts today, we're going to use your responses from after the Data Intuition Lecture."
   ]
  },
  {
   "cell_type": "code",
   "execution_count": 2,
   "metadata": {
    "slideshow": {
     "slide_type": "-"
    }
   },
   "outputs": [],
   "source": [
    "# read data into Python\n",
    "df = pd.read_csv('data/woc_wi24.csv')"
   ]
  },
  {
   "cell_type": "code",
   "execution_count": 4,
   "metadata": {
    "scrolled": false,
    "slideshow": {
     "slide_type": "-"
    }
   },
   "outputs": [
    {
     "data": {
      "text/html": [
       "<div>\n",
       "<style scoped>\n",
       "    .dataframe tbody tr th:only-of-type {\n",
       "        vertical-align: middle;\n",
       "    }\n",
       "\n",
       "    .dataframe tbody tr th {\n",
       "        vertical-align: top;\n",
       "    }\n",
       "\n",
       "    .dataframe thead th {\n",
       "        text-align: right;\n",
       "    }\n",
       "</style>\n",
       "<table border=\"1\" class=\"dataframe\">\n",
       "  <thead>\n",
       "    <tr style=\"text-align: right;\">\n",
       "      <th></th>\n",
       "      <th>Timestamp</th>\n",
       "      <th>How fast does human hair grow (cm/yr)?</th>\n",
       "      <th>If every living person stood crammed together side-by-side, how large of an area would they occupy (km²)?</th>\n",
       "      <th>How many days would it take to walk from San Diego to New York City (assuming no stopping to fix shoes, apply sunscreen, or for sleeping, eating, or other biological needs)?</th>\n",
       "    </tr>\n",
       "  </thead>\n",
       "  <tbody>\n",
       "    <tr>\n",
       "      <th>0</th>\n",
       "      <td>1/24/2024 9:50:07</td>\n",
       "      <td>100</td>\n",
       "      <td>the size of Egypt</td>\n",
       "      <td>1 week</td>\n",
       "    </tr>\n",
       "    <tr>\n",
       "      <th>1</th>\n",
       "      <td>1/24/2024 9:50:10</td>\n",
       "      <td>5</td>\n",
       "      <td>/</td>\n",
       "      <td>/</td>\n",
       "    </tr>\n",
       "    <tr>\n",
       "      <th>2</th>\n",
       "      <td>1/24/2024 9:50:11</td>\n",
       "      <td>10cm/yr</td>\n",
       "      <td>5</td>\n",
       "      <td>32</td>\n",
       "    </tr>\n",
       "    <tr>\n",
       "      <th>3</th>\n",
       "      <td>1/24/2024 9:50:14</td>\n",
       "      <td>6</td>\n",
       "      <td>10000</td>\n",
       "      <td>50</td>\n",
       "    </tr>\n",
       "    <tr>\n",
       "      <th>4</th>\n",
       "      <td>1/24/2024 9:50:14</td>\n",
       "      <td>5</td>\n",
       "      <td>1000</td>\n",
       "      <td>300</td>\n",
       "    </tr>\n",
       "    <tr>\n",
       "      <th>5</th>\n",
       "      <td>1/24/2024 9:50:23</td>\n",
       "      <td>24</td>\n",
       "      <td>1000</td>\n",
       "      <td>50 days</td>\n",
       "    </tr>\n",
       "    <tr>\n",
       "      <th>6</th>\n",
       "      <td>1/24/2024 9:50:26</td>\n",
       "      <td>10</td>\n",
       "      <td>1000</td>\n",
       "      <td>25</td>\n",
       "    </tr>\n",
       "    <tr>\n",
       "      <th>7</th>\n",
       "      <td>1/24/2024 9:50:27</td>\n",
       "      <td>10cm</td>\n",
       "      <td>100000</td>\n",
       "      <td>3 weeks</td>\n",
       "    </tr>\n",
       "    <tr>\n",
       "      <th>8</th>\n",
       "      <td>1/24/2024 9:50:28</td>\n",
       "      <td>0.75</td>\n",
       "      <td>250</td>\n",
       "      <td>100</td>\n",
       "    </tr>\n",
       "    <tr>\n",
       "      <th>9</th>\n",
       "      <td>1/24/2024 9:50:28</td>\n",
       "      <td>4</td>\n",
       "      <td>About the size of rhode island (xkcd)</td>\n",
       "      <td>365</td>\n",
       "    </tr>\n",
       "    <tr>\n",
       "      <th>10</th>\n",
       "      <td>1/24/2024 9:50:39</td>\n",
       "      <td>0.5cm, 1 year</td>\n",
       "      <td>5</td>\n",
       "      <td>150</td>\n",
       "    </tr>\n",
       "    <tr>\n",
       "      <th>11</th>\n",
       "      <td>1/24/2024 9:50:41</td>\n",
       "      <td>3</td>\n",
       "      <td>5</td>\n",
       "      <td>150</td>\n",
       "    </tr>\n",
       "    <tr>\n",
       "      <th>12</th>\n",
       "      <td>1/24/2024 9:50:42</td>\n",
       "      <td>8</td>\n",
       "      <td>100</td>\n",
       "      <td>150</td>\n",
       "    </tr>\n",
       "    <tr>\n",
       "      <th>13</th>\n",
       "      <td>1/24/2024 9:50:43</td>\n",
       "      <td>10</td>\n",
       "      <td>10000</td>\n",
       "      <td>30</td>\n",
       "    </tr>\n",
       "    <tr>\n",
       "      <th>14</th>\n",
       "      <td>1/24/2024 9:51:07</td>\n",
       "      <td>1yr</td>\n",
       "      <td>100000km</td>\n",
       "      <td>50</td>\n",
       "    </tr>\n",
       "    <tr>\n",
       "      <th>15</th>\n",
       "      <td>1/24/2024 9:51:10</td>\n",
       "      <td>15</td>\n",
       "      <td>100000</td>\n",
       "      <td>90 days</td>\n",
       "    </tr>\n",
       "    <tr>\n",
       "      <th>16</th>\n",
       "      <td>1/24/2024 9:51:13</td>\n",
       "      <td>40</td>\n",
       "      <td>100,000</td>\n",
       "      <td>70</td>\n",
       "    </tr>\n",
       "    <tr>\n",
       "      <th>17</th>\n",
       "      <td>1/24/2024 9:51:26</td>\n",
       "      <td>40</td>\n",
       "      <td>500</td>\n",
       "      <td>40</td>\n",
       "    </tr>\n",
       "    <tr>\n",
       "      <th>18</th>\n",
       "      <td>1/24/2024 9:51:36</td>\n",
       "      <td>10cm/yr</td>\n",
       "      <td>30km2</td>\n",
       "      <td>700days</td>\n",
       "    </tr>\n",
       "    <tr>\n",
       "      <th>19</th>\n",
       "      <td>1/24/2024 9:51:36</td>\n",
       "      <td>30cm</td>\n",
       "      <td>3 million</td>\n",
       "      <td>1 year</td>\n",
       "    </tr>\n",
       "    <tr>\n",
       "      <th>20</th>\n",
       "      <td>1/24/2024 9:51:38</td>\n",
       "      <td>70</td>\n",
       "      <td>1000000</td>\n",
       "      <td>280</td>\n",
       "    </tr>\n",
       "    <tr>\n",
       "      <th>21</th>\n",
       "      <td>1/24/2024 9:51:42</td>\n",
       "      <td>10</td>\n",
       "      <td>idk</td>\n",
       "      <td>58</td>\n",
       "    </tr>\n",
       "    <tr>\n",
       "      <th>22</th>\n",
       "      <td>1/24/2024 9:51:43</td>\n",
       "      <td>10-15cm/yr</td>\n",
       "      <td>how ever large is 4/9 of the world surface area</td>\n",
       "      <td>since i know it takes roughly a week to get fr...</td>\n",
       "    </tr>\n",
       "    <tr>\n",
       "      <th>23</th>\n",
       "      <td>1/24/2024 9:51:56</td>\n",
       "      <td>10 cm per year</td>\n",
       "      <td>100</td>\n",
       "      <td>125 days</td>\n",
       "    </tr>\n",
       "    <tr>\n",
       "      <th>24</th>\n",
       "      <td>1/24/2024 9:52:06</td>\n",
       "      <td>100</td>\n",
       "      <td>16000</td>\n",
       "      <td>250</td>\n",
       "    </tr>\n",
       "    <tr>\n",
       "      <th>25</th>\n",
       "      <td>1/24/2024 9:52:17</td>\n",
       "      <td>(6cm/yr)</td>\n",
       "      <td>10,000 km^2</td>\n",
       "      <td>80 days</td>\n",
       "    </tr>\n",
       "    <tr>\n",
       "      <th>26</th>\n",
       "      <td>1/24/2024 9:52:24</td>\n",
       "      <td>6</td>\n",
       "      <td>100</td>\n",
       "      <td>40</td>\n",
       "    </tr>\n",
       "    <tr>\n",
       "      <th>27</th>\n",
       "      <td>1/24/2024 9:52:31</td>\n",
       "      <td>150</td>\n",
       "      <td>10 billion</td>\n",
       "      <td>1 year</td>\n",
       "    </tr>\n",
       "    <tr>\n",
       "      <th>28</th>\n",
       "      <td>1/24/2024 9:52:40</td>\n",
       "      <td>15cm/yr</td>\n",
       "      <td>100</td>\n",
       "      <td>20 days</td>\n",
       "    </tr>\n",
       "    <tr>\n",
       "      <th>29</th>\n",
       "      <td>1/24/2024 9:53:39</td>\n",
       "      <td>20</td>\n",
       "      <td>5</td>\n",
       "      <td>1000</td>\n",
       "    </tr>\n",
       "    <tr>\n",
       "      <th>30</th>\n",
       "      <td>1/24/2024 9:53:47</td>\n",
       "      <td>30</td>\n",
       "      <td>100000</td>\n",
       "      <td>15</td>\n",
       "    </tr>\n",
       "    <tr>\n",
       "      <th>31</th>\n",
       "      <td>1/24/2024 9:53:53</td>\n",
       "      <td>4cm/yr</td>\n",
       "      <td>1000</td>\n",
       "      <td>70</td>\n",
       "    </tr>\n",
       "    <tr>\n",
       "      <th>32</th>\n",
       "      <td>1/24/2024 9:53:54</td>\n",
       "      <td>30cm per year</td>\n",
       "      <td>100000</td>\n",
       "      <td>15</td>\n",
       "    </tr>\n",
       "    <tr>\n",
       "      <th>33</th>\n",
       "      <td>1/24/2024 9:54:05</td>\n",
       "      <td>6</td>\n",
       "      <td>1000</td>\n",
       "      <td>75</td>\n",
       "    </tr>\n",
       "    <tr>\n",
       "      <th>34</th>\n",
       "      <td>1/24/2024 9:54:49</td>\n",
       "      <td>5</td>\n",
       "      <td>490000</td>\n",
       "      <td>32</td>\n",
       "    </tr>\n",
       "    <tr>\n",
       "      <th>35</th>\n",
       "      <td>1/24/2024 9:55:03</td>\n",
       "      <td>10</td>\n",
       "      <td>1000</td>\n",
       "      <td>100</td>\n",
       "    </tr>\n",
       "    <tr>\n",
       "      <th>36</th>\n",
       "      <td>1/24/2024 9:55:10</td>\n",
       "      <td>30</td>\n",
       "      <td>100</td>\n",
       "      <td>90 days</td>\n",
       "    </tr>\n",
       "    <tr>\n",
       "      <th>37</th>\n",
       "      <td>1/24/2024 9:56:01</td>\n",
       "      <td>12</td>\n",
       "      <td>500,000</td>\n",
       "      <td>24 days (2800 miles / 5mph)</td>\n",
       "    </tr>\n",
       "    <tr>\n",
       "      <th>38</th>\n",
       "      <td>1/24/2024 9:56:07</td>\n",
       "      <td>6cm/yr</td>\n",
       "      <td>500000km^2</td>\n",
       "      <td>20 days</td>\n",
       "    </tr>\n",
       "    <tr>\n",
       "      <th>39</th>\n",
       "      <td>1/24/2024 9:56:39</td>\n",
       "      <td>10^2</td>\n",
       "      <td>10^4</td>\n",
       "      <td>10^5</td>\n",
       "    </tr>\n",
       "    <tr>\n",
       "      <th>40</th>\n",
       "      <td>1/24/2024 9:56:57</td>\n",
       "      <td>23</td>\n",
       "      <td>1000</td>\n",
       "      <td>24</td>\n",
       "    </tr>\n",
       "    <tr>\n",
       "      <th>41</th>\n",
       "      <td>1/24/2024 9:57:05</td>\n",
       "      <td>8</td>\n",
       "      <td>300</td>\n",
       "      <td>40</td>\n",
       "    </tr>\n",
       "    <tr>\n",
       "      <th>42</th>\n",
       "      <td>1/24/2024 9:57:12</td>\n",
       "      <td>2-4</td>\n",
       "      <td>258</td>\n",
       "      <td>90</td>\n",
       "    </tr>\n",
       "    <tr>\n",
       "      <th>43</th>\n",
       "      <td>1/24/2024 9:59:49</td>\n",
       "      <td>10</td>\n",
       "      <td>7mil km^2</td>\n",
       "      <td>5 hrs</td>\n",
       "    </tr>\n",
       "    <tr>\n",
       "      <th>44</th>\n",
       "      <td>1/24/2024 14:49:50</td>\n",
       "      <td>10</td>\n",
       "      <td>New York</td>\n",
       "      <td>166</td>\n",
       "    </tr>\n",
       "    <tr>\n",
       "      <th>45</th>\n",
       "      <td>1/24/2024 14:50:11</td>\n",
       "      <td>6</td>\n",
       "      <td>100</td>\n",
       "      <td>250</td>\n",
       "    </tr>\n",
       "    <tr>\n",
       "      <th>46</th>\n",
       "      <td>1/24/2024 14:50:16</td>\n",
       "      <td>2.5</td>\n",
       "      <td>5000000</td>\n",
       "      <td>40</td>\n",
       "    </tr>\n",
       "    <tr>\n",
       "      <th>47</th>\n",
       "      <td>1/24/2024 14:50:34</td>\n",
       "      <td>30</td>\n",
       "      <td>700000000</td>\n",
       "      <td>200</td>\n",
       "    </tr>\n",
       "    <tr>\n",
       "      <th>48</th>\n",
       "      <td>1/24/2024 14:51:38</td>\n",
       "      <td>5cm/yr</td>\n",
       "      <td>500000</td>\n",
       "      <td>40</td>\n",
       "    </tr>\n",
       "    <tr>\n",
       "      <th>49</th>\n",
       "      <td>1/24/2024 14:52:36</td>\n",
       "      <td>30</td>\n",
       "      <td>4500000</td>\n",
       "      <td>30</td>\n",
       "    </tr>\n",
       "    <tr>\n",
       "      <th>50</th>\n",
       "      <td>1/24/2024 14:53:20</td>\n",
       "      <td>15</td>\n",
       "      <td>6000</td>\n",
       "      <td>150</td>\n",
       "    </tr>\n",
       "    <tr>\n",
       "      <th>51</th>\n",
       "      <td>1/24/2024 14:53:25</td>\n",
       "      <td>20</td>\n",
       "      <td>16000000</td>\n",
       "      <td>17</td>\n",
       "    </tr>\n",
       "    <tr>\n",
       "      <th>52</th>\n",
       "      <td>1/24/2024 14:53:27</td>\n",
       "      <td>15</td>\n",
       "      <td>100000</td>\n",
       "      <td>50</td>\n",
       "    </tr>\n",
       "    <tr>\n",
       "      <th>53</th>\n",
       "      <td>1/24/2024 14:53:50</td>\n",
       "      <td>20</td>\n",
       "      <td>20000</td>\n",
       "      <td>20</td>\n",
       "    </tr>\n",
       "    <tr>\n",
       "      <th>54</th>\n",
       "      <td>1/24/2024 14:54:11</td>\n",
       "      <td>12</td>\n",
       "      <td>2000000</td>\n",
       "      <td>42</td>\n",
       "    </tr>\n",
       "    <tr>\n",
       "      <th>55</th>\n",
       "      <td>1/24/2024 14:54:54</td>\n",
       "      <td>40</td>\n",
       "      <td>4000000</td>\n",
       "      <td>40</td>\n",
       "    </tr>\n",
       "    <tr>\n",
       "      <th>56</th>\n",
       "      <td>1/24/2024 14:55:45</td>\n",
       "      <td>10</td>\n",
       "      <td>100</td>\n",
       "      <td>2 years</td>\n",
       "    </tr>\n",
       "    <tr>\n",
       "      <th>57</th>\n",
       "      <td>1/24/2024 15:02:26</td>\n",
       "      <td>10</td>\n",
       "      <td>1000000</td>\n",
       "      <td>100</td>\n",
       "    </tr>\n",
       "    <tr>\n",
       "      <th>58</th>\n",
       "      <td>1/24/2024 15:03:12</td>\n",
       "      <td>52</td>\n",
       "      <td>4876800</td>\n",
       "      <td>50 days</td>\n",
       "    </tr>\n",
       "  </tbody>\n",
       "</table>\n",
       "</div>"
      ],
      "text/plain": [
       "             Timestamp How fast does human hair grow (cm/yr)?  \\\n",
       "0    1/24/2024 9:50:07                                    100   \n",
       "1    1/24/2024 9:50:10                                      5   \n",
       "2    1/24/2024 9:50:11                                10cm/yr   \n",
       "3    1/24/2024 9:50:14                                      6   \n",
       "4    1/24/2024 9:50:14                                      5   \n",
       "5    1/24/2024 9:50:23                                     24   \n",
       "6    1/24/2024 9:50:26                                     10   \n",
       "7    1/24/2024 9:50:27                                   10cm   \n",
       "8    1/24/2024 9:50:28                                   0.75   \n",
       "9    1/24/2024 9:50:28                                      4   \n",
       "10   1/24/2024 9:50:39                          0.5cm, 1 year   \n",
       "11   1/24/2024 9:50:41                                      3   \n",
       "12   1/24/2024 9:50:42                                      8   \n",
       "13   1/24/2024 9:50:43                                     10   \n",
       "14   1/24/2024 9:51:07                                    1yr   \n",
       "15   1/24/2024 9:51:10                                     15   \n",
       "16   1/24/2024 9:51:13                                     40   \n",
       "17   1/24/2024 9:51:26                                     40   \n",
       "18   1/24/2024 9:51:36                                10cm/yr   \n",
       "19   1/24/2024 9:51:36                                   30cm   \n",
       "20   1/24/2024 9:51:38                                     70   \n",
       "21   1/24/2024 9:51:42                                     10   \n",
       "22   1/24/2024 9:51:43                             10-15cm/yr   \n",
       "23   1/24/2024 9:51:56                         10 cm per year   \n",
       "24   1/24/2024 9:52:06                                    100   \n",
       "25   1/24/2024 9:52:17                               (6cm/yr)   \n",
       "26   1/24/2024 9:52:24                                      6   \n",
       "27   1/24/2024 9:52:31                                    150   \n",
       "28   1/24/2024 9:52:40                                15cm/yr   \n",
       "29   1/24/2024 9:53:39                                     20   \n",
       "30   1/24/2024 9:53:47                                     30   \n",
       "31   1/24/2024 9:53:53                                 4cm/yr   \n",
       "32   1/24/2024 9:53:54                          30cm per year   \n",
       "33   1/24/2024 9:54:05                                      6   \n",
       "34   1/24/2024 9:54:49                                      5   \n",
       "35   1/24/2024 9:55:03                                     10   \n",
       "36   1/24/2024 9:55:10                                     30   \n",
       "37   1/24/2024 9:56:01                                     12   \n",
       "38   1/24/2024 9:56:07                                 6cm/yr   \n",
       "39   1/24/2024 9:56:39                                   10^2   \n",
       "40   1/24/2024 9:56:57                                     23   \n",
       "41   1/24/2024 9:57:05                                      8   \n",
       "42   1/24/2024 9:57:12                                    2-4   \n",
       "43   1/24/2024 9:59:49                                     10   \n",
       "44  1/24/2024 14:49:50                                     10   \n",
       "45  1/24/2024 14:50:11                                      6   \n",
       "46  1/24/2024 14:50:16                                    2.5   \n",
       "47  1/24/2024 14:50:34                                     30   \n",
       "48  1/24/2024 14:51:38                                 5cm/yr   \n",
       "49  1/24/2024 14:52:36                                     30   \n",
       "50  1/24/2024 14:53:20                                     15   \n",
       "51  1/24/2024 14:53:25                                     20   \n",
       "52  1/24/2024 14:53:27                                     15   \n",
       "53  1/24/2024 14:53:50                                     20   \n",
       "54  1/24/2024 14:54:11                                     12   \n",
       "55  1/24/2024 14:54:54                                     40   \n",
       "56  1/24/2024 14:55:45                                     10   \n",
       "57  1/24/2024 15:02:26                                     10   \n",
       "58  1/24/2024 15:03:12                                     52   \n",
       "\n",
       "   If every living person stood crammed together side-by-side, how large of an area would they occupy (km²)?  \\\n",
       "0                                   the size of Egypt                                                          \n",
       "1                                                   /                                                          \n",
       "2                                                   5                                                          \n",
       "3                                               10000                                                          \n",
       "4                                                1000                                                          \n",
       "5                                                1000                                                          \n",
       "6                                                1000                                                          \n",
       "7                                              100000                                                          \n",
       "8                                                 250                                                          \n",
       "9               About the size of rhode island (xkcd)                                                          \n",
       "10                                                  5                                                          \n",
       "11                                                  5                                                          \n",
       "12                                                100                                                          \n",
       "13                                              10000                                                          \n",
       "14                                           100000km                                                          \n",
       "15                                             100000                                                          \n",
       "16                                            100,000                                                          \n",
       "17                                                500                                                          \n",
       "18                                              30km2                                                          \n",
       "19                                          3 million                                                          \n",
       "20                                            1000000                                                          \n",
       "21                                                idk                                                          \n",
       "22    how ever large is 4/9 of the world surface area                                                          \n",
       "23                                                100                                                          \n",
       "24                                              16000                                                          \n",
       "25                                        10,000 km^2                                                          \n",
       "26                                                100                                                          \n",
       "27                                        10 billion                                                           \n",
       "28                                                100                                                          \n",
       "29                                                  5                                                          \n",
       "30                                             100000                                                          \n",
       "31                                               1000                                                          \n",
       "32                                             100000                                                          \n",
       "33                                               1000                                                          \n",
       "34                                             490000                                                          \n",
       "35                                               1000                                                          \n",
       "36                                                100                                                          \n",
       "37                                            500,000                                                          \n",
       "38                                         500000km^2                                                          \n",
       "39                                               10^4                                                          \n",
       "40                                               1000                                                          \n",
       "41                                                300                                                          \n",
       "42                                                258                                                          \n",
       "43                                          7mil km^2                                                          \n",
       "44                                           New York                                                          \n",
       "45                                                100                                                          \n",
       "46                                            5000000                                                          \n",
       "47                                          700000000                                                          \n",
       "48                                             500000                                                          \n",
       "49                                            4500000                                                          \n",
       "50                                               6000                                                          \n",
       "51                                           16000000                                                          \n",
       "52                                             100000                                                          \n",
       "53                                              20000                                                          \n",
       "54                                            2000000                                                          \n",
       "55                                            4000000                                                          \n",
       "56                                                100                                                          \n",
       "57                                            1000000                                                          \n",
       "58                                            4876800                                                          \n",
       "\n",
       "   How many days would it take to walk from San Diego to New York City (assuming no stopping to fix shoes, apply sunscreen, or for sleeping, eating, or other biological needs)?  \n",
       "0                                              1 week                                                                                                                             \n",
       "1                                                   /                                                                                                                             \n",
       "2                                                  32                                                                                                                             \n",
       "3                                                  50                                                                                                                             \n",
       "4                                                 300                                                                                                                             \n",
       "5                                             50 days                                                                                                                             \n",
       "6                                                  25                                                                                                                             \n",
       "7                                             3 weeks                                                                                                                             \n",
       "8                                                 100                                                                                                                             \n",
       "9                                                 365                                                                                                                             \n",
       "10                                                150                                                                                                                             \n",
       "11                                                150                                                                                                                             \n",
       "12                                                150                                                                                                                             \n",
       "13                                                 30                                                                                                                             \n",
       "14                                                 50                                                                                                                             \n",
       "15                                            90 days                                                                                                                             \n",
       "16                                                 70                                                                                                                             \n",
       "17                                                 40                                                                                                                             \n",
       "18                                            700days                                                                                                                             \n",
       "19                                             1 year                                                                                                                             \n",
       "20                                                280                                                                                                                             \n",
       "21                                                 58                                                                                                                             \n",
       "22  since i know it takes roughly a week to get fr...                                                                                                                             \n",
       "23                                           125 days                                                                                                                             \n",
       "24                                                250                                                                                                                             \n",
       "25                                            80 days                                                                                                                             \n",
       "26                                                 40                                                                                                                             \n",
       "27                                            1 year                                                                                                                              \n",
       "28                                            20 days                                                                                                                             \n",
       "29                                               1000                                                                                                                             \n",
       "30                                                 15                                                                                                                             \n",
       "31                                                 70                                                                                                                             \n",
       "32                                                 15                                                                                                                             \n",
       "33                                                 75                                                                                                                             \n",
       "34                                                 32                                                                                                                             \n",
       "35                                                100                                                                                                                             \n",
       "36                                            90 days                                                                                                                             \n",
       "37                        24 days (2800 miles / 5mph)                                                                                                                             \n",
       "38                                            20 days                                                                                                                             \n",
       "39                                               10^5                                                                                                                             \n",
       "40                                                 24                                                                                                                             \n",
       "41                                                 40                                                                                                                             \n",
       "42                                                 90                                                                                                                             \n",
       "43                                              5 hrs                                                                                                                             \n",
       "44                                                166                                                                                                                             \n",
       "45                                                250                                                                                                                             \n",
       "46                                                 40                                                                                                                             \n",
       "47                                                200                                                                                                                             \n",
       "48                                                 40                                                                                                                             \n",
       "49                                                 30                                                                                                                             \n",
       "50                                                150                                                                                                                             \n",
       "51                                                 17                                                                                                                             \n",
       "52                                                 50                                                                                                                             \n",
       "53                                                 20                                                                                                                             \n",
       "54                                                 42                                                                                                                             \n",
       "55                                                 40                                                                                                                             \n",
       "56                                            2 years                                                                                                                             \n",
       "57                                                100                                                                                                                             \n",
       "58                                            50 days                                                                                                                             "
      ]
     },
     "execution_count": 4,
     "metadata": {},
     "output_type": "execute_result"
    }
   ],
   "source": [
    "# take a look at the data\n",
    "df"
   ]
  },
  {
   "cell_type": "markdown",
   "metadata": {
    "slideshow": {
     "slide_type": "fragment"
    }
   },
   "source": [
    "### Clicker Question #1\n",
    "\n",
    "Are these data in the tidy data format?\n",
    "\n",
    "- A) Yes, these data are ready to analyze\n",
    "- B) Yes, but there is more work to do before analysis\n",
    "- C) No, not tidy\n",
    "- D) Have no idea what you're talking about"
   ]
  },
  {
   "cell_type": "markdown",
   "metadata": {
    "slideshow": {
     "slide_type": "fragment"
    }
   },
   "source": [
    "**Brainstorming**\n",
    "\n",
    "What considerations do we have to make about these data?\n",
    "(2PM)\n",
    "- handling responses that didn't conform to the question that was asked\n",
    "- handle unit conversions\n",
    "- ensuring understanding of data responses (i.e. unit/what people said was what we actually asked for)\n",
    "- column names/titles are really long; harder to work with - shorten to something informative, but short\n",
    "- don't need timestamp column - can get rid of it\n",
    "- ensuring floats/numbers when that's what we want"
   ]
  },
  {
   "cell_type": "markdown",
   "metadata": {
    "slideshow": {
     "slide_type": "skip"
    }
   },
   "source": [
    "(9AM) \n",
    "- standardizing units/making everything on the same scale\n",
    "- ensuring everything is actually a number (float) ; removing units\n",
    "- clean up to make usable or remove timestamp"
   ]
  },
  {
   "cell_type": "markdown",
   "metadata": {
    "slideshow": {
     "slide_type": "slide"
    }
   },
   "source": [
    "### Tidy Data Rules (Review):\n",
    "\n",
    "1. Every observation in a row\n",
    "2. Every variable in a column\n",
    "3. If multiple tables, column on which to merge"
   ]
  },
  {
   "cell_type": "code",
   "execution_count": 5,
   "metadata": {
    "scrolled": true,
    "slideshow": {
     "slide_type": "slide"
    }
   },
   "outputs": [
    {
     "data": {
      "text/html": [
       "<div>\n",
       "<style scoped>\n",
       "    .dataframe tbody tr th:only-of-type {\n",
       "        vertical-align: middle;\n",
       "    }\n",
       "\n",
       "    .dataframe tbody tr th {\n",
       "        vertical-align: top;\n",
       "    }\n",
       "\n",
       "    .dataframe thead th {\n",
       "        text-align: right;\n",
       "    }\n",
       "</style>\n",
       "<table border=\"1\" class=\"dataframe\">\n",
       "  <thead>\n",
       "    <tr style=\"text-align: right;\">\n",
       "      <th></th>\n",
       "      <th>timestamp</th>\n",
       "      <th>hair_growth</th>\n",
       "      <th>crammed</th>\n",
       "      <th>SAN_NYC</th>\n",
       "    </tr>\n",
       "  </thead>\n",
       "  <tbody>\n",
       "    <tr>\n",
       "      <th>0</th>\n",
       "      <td>1/24/2024 9:50:07</td>\n",
       "      <td>100</td>\n",
       "      <td>the size of Egypt</td>\n",
       "      <td>1 week</td>\n",
       "    </tr>\n",
       "    <tr>\n",
       "      <th>1</th>\n",
       "      <td>1/24/2024 9:50:10</td>\n",
       "      <td>5</td>\n",
       "      <td>/</td>\n",
       "      <td>/</td>\n",
       "    </tr>\n",
       "    <tr>\n",
       "      <th>2</th>\n",
       "      <td>1/24/2024 9:50:11</td>\n",
       "      <td>10cm/yr</td>\n",
       "      <td>5</td>\n",
       "      <td>32</td>\n",
       "    </tr>\n",
       "    <tr>\n",
       "      <th>3</th>\n",
       "      <td>1/24/2024 9:50:14</td>\n",
       "      <td>6</td>\n",
       "      <td>10000</td>\n",
       "      <td>50</td>\n",
       "    </tr>\n",
       "    <tr>\n",
       "      <th>4</th>\n",
       "      <td>1/24/2024 9:50:14</td>\n",
       "      <td>5</td>\n",
       "      <td>1000</td>\n",
       "      <td>300</td>\n",
       "    </tr>\n",
       "  </tbody>\n",
       "</table>\n",
       "</div>"
      ],
      "text/plain": [
       "           timestamp hair_growth            crammed SAN_NYC\n",
       "0  1/24/2024 9:50:07         100  the size of Egypt  1 week\n",
       "1  1/24/2024 9:50:10           5                  /       /\n",
       "2  1/24/2024 9:50:11     10cm/yr                  5      32\n",
       "3  1/24/2024 9:50:14           6              10000      50\n",
       "4  1/24/2024 9:50:14           5               1000     300"
      ]
     },
     "execution_count": 5,
     "metadata": {},
     "output_type": "execute_result"
    }
   ],
   "source": [
    "# change column names\n",
    "df.columns = ['timestamp', 'hair_growth', 'crammed', 'SAN_NYC']\n",
    "df.head()"
   ]
  },
  {
   "cell_type": "code",
   "execution_count": 6,
   "metadata": {
    "scrolled": true,
    "slideshow": {
     "slide_type": "slide"
    }
   },
   "outputs": [
    {
     "data": {
      "text/plain": [
       "timestamp      object\n",
       "hair_growth    object\n",
       "crammed        object\n",
       "SAN_NYC        object\n",
       "dtype: object"
      ]
     },
     "execution_count": 6,
     "metadata": {},
     "output_type": "execute_result"
    }
   ],
   "source": [
    "# check type of each Series (column)\n",
    "df.dtypes"
   ]
  },
  {
   "cell_type": "code",
   "execution_count": 7,
   "metadata": {
    "slideshow": {
     "slide_type": "-"
    }
   },
   "outputs": [
    {
     "data": {
      "text/plain": [
       "(59, 4)"
      ]
     },
     "execution_count": 7,
     "metadata": {},
     "output_type": "execute_result"
    }
   ],
   "source": [
    "# determine rows and columns in df\n",
    "df.shape"
   ]
  },
  {
   "cell_type": "markdown",
   "metadata": {
    "slideshow": {
     "slide_type": "slide"
    }
   },
   "source": [
    "## EDA\n",
    "\n",
    "At this point...we know:\n",
    "\n",
    "- granularity\n",
    "- temporality\n",
    "- scope\n",
    "- ~faithfulness\n",
    "\n",
    "Let's check our understanding."
   ]
  },
  {
   "cell_type": "markdown",
   "metadata": {
    "slideshow": {
     "slide_type": "fragment"
    }
   },
   "source": [
    "### Clicker Question #2\n",
    "\n",
    "What's the granularity of this dataset? \n",
    "\n",
    "- A) Individual-Level\n",
    "- B) Group-level\n",
    "- C) Individual-level over time\n",
    "- D) Group-level over time\n",
    "\n",
    "<div class=\"alert alert-info\">\n",
    "The <b>granularity</b> of your data is what each observation in your data represents.\n",
    "</div>"
   ]
  },
  {
   "cell_type": "markdown",
   "metadata": {
    "slideshow": {
     "slide_type": "slide"
    }
   },
   "source": [
    "### Clicker Question #3\n",
    "\n",
    "If we wanted to understand something about all COGS 108 students this quarter, could we do that with these data? \n",
    "\n",
    "- A) Yes\n",
    "- B) No\n",
    "- C) ¯\\\\\\_(ツ)\\_/¯\n",
    "\n",
    "Note: There are currently 700 students enrolled in COGS 108.\n",
    "\n",
    "<div class=\"alert alert-info\">\n",
    "The <b>scope</b> of your data describes how helpful these data are with respect to our data science question.\n",
    "</div>"
   ]
  },
  {
   "cell_type": "markdown",
   "metadata": {
    "slideshow": {
     "slide_type": "fragment"
    }
   },
   "source": [
    "### Clicker Question #4\n",
    "\n",
    "How trustworthy do you find these data (given what you've seen so far)?\n",
    "\n",
    "- A) Definitely ready to use for analysis\n",
    "- B) Maybe ready to use for analysis\n",
    "- C) Definitely *not* ready to use for analysis\n",
    "- D) ¯\\\\\\_(ツ)\\_/¯\n",
    "\n",
    "<div class=\"alert alert-info\">\n",
    "The <b>faithfulness</b> of your data is a determination of how trustworthy the data are.\n",
    "</div>"
   ]
  },
  {
   "cell_type": "markdown",
   "metadata": {
    "slideshow": {
     "slide_type": "fragment"
    }
   },
   "source": [
    "What we don't know (yet)\n",
    "- missingness\n",
    "- Single variables: Shape, Central Tendency, Variability\n",
    "- Relationship across variables?"
   ]
  },
  {
   "cell_type": "markdown",
   "metadata": {
    "slideshow": {
     "slide_type": "slide"
    }
   },
   "source": [
    "## Missingness\n",
    "\n",
    "Data can be missing for all kinds of reasons. It's your job to determine if:\n",
    "- values are missing at random\n",
    "- values are missing due to data entry errors\n",
    "- values are missing due to faulty data collection\n",
    "\n"
   ]
  },
  {
   "cell_type": "code",
   "execution_count": 8,
   "metadata": {
    "slideshow": {
     "slide_type": "fragment"
    }
   },
   "outputs": [
    {
     "data": {
      "text/plain": [
       "(0, 4)"
      ]
     },
     "execution_count": 8,
     "metadata": {},
     "output_type": "execute_result"
    }
   ],
   "source": [
    "# True if row contains at least one null value\n",
    "# axis argument: 0 for reducing by ‘index’, 1 for reducing by ‘columns’,\n",
    "null_rows = df.isnull().any(axis=1)\n",
    "df[null_rows].shape"
   ]
  },
  {
   "cell_type": "code",
   "execution_count": 9,
   "metadata": {
    "slideshow": {
     "slide_type": "fragment"
    }
   },
   "outputs": [
    {
     "data": {
      "text/plain": [
       "Index([], dtype='object')"
      ]
     },
     "execution_count": 9,
     "metadata": {},
     "output_type": "execute_result"
    }
   ],
   "source": [
    "# columns with missing values\n",
    "df.columns[df.isnull().any(axis=0)]"
   ]
  },
  {
   "cell_type": "code",
   "execution_count": 10,
   "metadata": {
    "scrolled": false,
    "slideshow": {
     "slide_type": "fragment"
    }
   },
   "outputs": [
    {
     "data": {
      "text/plain": [
       "timestamp      0\n",
       "hair_growth    0\n",
       "crammed        0\n",
       "SAN_NYC        0\n",
       "dtype: int64"
      ]
     },
     "execution_count": 10,
     "metadata": {},
     "output_type": "execute_result"
    }
   ],
   "source": [
    "# number of missing values by column\n",
    "df.isnull().sum()"
   ]
  },
  {
   "cell_type": "markdown",
   "metadata": {
    "slideshow": {
     "slide_type": "slide"
    }
   },
   "source": [
    "## Cleaning: Hair Growth\n",
    "\n",
    "How fast does human hair grow (cm/yr)?"
   ]
  },
  {
   "cell_type": "code",
   "execution_count": 11,
   "metadata": {
    "scrolled": true,
    "slideshow": {
     "slide_type": "fragment"
    }
   },
   "outputs": [
    {
     "data": {
      "text/plain": [
       "array(['100', '5', '10cm/yr', '6', '24', '10', '10cm', '0.75', '4',\n",
       "       '0.5cm, 1 year', '3', '8', '1yr', '15', '40', '30cm', '70',\n",
       "       '10-15cm/yr', '10 cm per year', '(6cm/yr)', '150', '15cm/yr', '20',\n",
       "       '30', '4cm/yr', '30cm per year', '12', '6cm/yr', '10^2', '23',\n",
       "       '2-4', '2.5', '5cm/yr', '52'], dtype=object)"
      ]
     },
     "execution_count": 11,
     "metadata": {},
     "output_type": "execute_result"
    }
   ],
   "source": [
    "# take a look at unique values\n",
    "df[\"hair_growth\"].unique()"
   ]
  },
  {
   "cell_type": "code",
   "execution_count": 12,
   "metadata": {
    "slideshow": {
     "slide_type": "fragment"
    }
   },
   "outputs": [],
   "source": [
    "# standardize height column\n",
    "def standardize_hair(string):\n",
    "    \n",
    "    # Basic string pre-processing\n",
    "    string = string.lower()\n",
    "    string = string.strip()    \n",
    "\n",
    "    # take care of inclded unit cases   \n",
    "    string = string.replace(\"cm a year\", \"\")\n",
    "    string = string.replace(\"cm/year\", \"\")\n",
    "    string = string.replace(\"cm/ye\", \"\")\n",
    "    string = string.replace(\"centimeters\", \"\")\n",
    "    string = string.replace(\"cm per year\", \"\")\n",
    "    string = string.replace(\"cm/yr\", \"\")\n",
    "    string = string.replace(\"cm/1yr\", \"\")\n",
    "    string = string.replace(\"cm/y\", \"\")\n",
    "    string = string.replace(\"cm/1 year\", \"\")\n",
    "    string = string.replace(\"year\", \"\")\n",
    "    string = string.replace(\"yr\", \"\")\n",
    "    string = string.replace(\"cm\", \"\")    \n",
    "    string = string.replace(\"/\", \"\")\n",
    "    string = string.replace(\",\", \"\")\n",
    "\n",
    "    string = string.replace(\"^2\", \"0\")\n",
    "    \n",
    "    string = string.strip()\n",
    "\n",
    "    # convert to numeric\n",
    "    try:\n",
    "        output = float(eval(string))\n",
    "    except:\n",
    "        output = np.nan\n",
    "    \n",
    "    return output"
   ]
  },
  {
   "cell_type": "code",
   "execution_count": 13,
   "metadata": {
    "scrolled": false,
    "slideshow": {
     "slide_type": "fragment"
    }
   },
   "outputs": [
    {
     "data": {
      "text/plain": [
       "array([100.  ,   5.  ,  10.  ,   6.  ,  24.  ,   0.75,   4.  ,    nan,\n",
       "         3.  ,   8.  ,   1.  ,  15.  ,  40.  ,  30.  ,  70.  ,  -5.  ,\n",
       "       150.  ,  20.  ,  12.  ,  23.  ,  -2.  ,   2.5 ,  52.  ])"
      ]
     },
     "execution_count": 13,
     "metadata": {},
     "output_type": "execute_result"
    }
   ],
   "source": [
    "# apply function across values in hair growth columns\n",
    "df[\"hair_growth\"] = df[\"hair_growth\"].apply(standardize_hair)\n",
    "df[\"hair_growth\"].unique()"
   ]
  },
  {
   "cell_type": "markdown",
   "metadata": {
    "slideshow": {
     "slide_type": "slide"
    }
   },
   "source": [
    "## Cleaning: Crammed\n",
    "\n",
    "If every living person stood crammed together side-by-side, how large of an area would they occupy (km²)?"
   ]
  },
  {
   "cell_type": "code",
   "execution_count": null,
   "metadata": {
    "scrolled": false,
    "slideshow": {
     "slide_type": "fragment"
    }
   },
   "outputs": [],
   "source": [
    "df['crammed'].unique()"
   ]
  },
  {
   "cell_type": "code",
   "execution_count": null,
   "metadata": {
    "slideshow": {
     "slide_type": "fragment"
    }
   },
   "outputs": [],
   "source": [
    "# standardize crammed column\n",
    "def standardize_crammed(string):    \n",
    "    # Basic string pre-processing\n",
    "    string = string.lower()\n",
    "    string = string.strip()\n",
    "    \n",
    "    # take care of commas\n",
    "    string = string.replace(\",\", \"\")\n",
    "\n",
    "    # take care of inclded unit cases\n",
    "    string = string.replace(\"^2\", \"\")\n",
    "    string = string.replace(\"²\", \"\")\n",
    "    string = string.replace(\"km\", \"\")\n",
    "    \n",
    "    # take care of scientific notation / word cases\n",
    "    string = string.replace(\" million\", \"000000\")\n",
    "    string = string.replace(\" billion\", \"000000000\")\n",
    "\n",
    "    string = string.strip()\n",
    "\n",
    "    # convert to numeric\n",
    "    try:\n",
    "        output = float(eval(string))\n",
    "    except:\n",
    "        output = np.nan\n",
    "    \n",
    "    return output"
   ]
  },
  {
   "cell_type": "code",
   "execution_count": null,
   "metadata": {
    "scrolled": false,
    "slideshow": {
     "slide_type": "fragment"
    }
   },
   "outputs": [],
   "source": [
    "# apply function across values in crammed columns\n",
    "df[\"crammed\"] = df[\"crammed\"].apply(standardize_crammed)\n",
    "df[\"crammed\"].unique()"
   ]
  },
  {
   "cell_type": "markdown",
   "metadata": {
    "slideshow": {
     "slide_type": "slide"
    }
   },
   "source": [
    "## Cleaning: San Diego to NYC\n",
    "\n",
    "How many days would it take to walk from here to New York City (assuming no stopping to fix shoes, apply sunscreen, or for sleeping, eating, or other biological needs)?"
   ]
  },
  {
   "cell_type": "code",
   "execution_count": null,
   "metadata": {
    "scrolled": false,
    "slideshow": {
     "slide_type": "fragment"
    }
   },
   "outputs": [],
   "source": [
    "df['SAN_NYC'].unique()"
   ]
  },
  {
   "cell_type": "code",
   "execution_count": null,
   "metadata": {},
   "outputs": [],
   "source": [
    "# a more general approach compared to above\n",
    "def dist_helper(distance):\n",
    "    if len(distance) == 1:\n",
    "        return distance[0]\n",
    "    if distance[1] == '*':\n",
    "        return str(float(distance[0]) * float(distance[2]))\n",
    "    if distance[1] == '/':\n",
    "        return str(float(distance[0]) / float(distance[2]))\n",
    "\n",
    "df[\"SAN_NYC\"] = pd.to_numeric(df[\"SAN_NYC\"].\n",
    "                              str.lower().\n",
    "                              replace({\"days?\":\"\", \n",
    "                                       \"\\^\":\"e\", \"^\\([\\w */)=?]+$\":\"1000\",\n",
    "                                       \" weeks?\":\" * 7\",\n",
    "                                       \" months?\":\" * 30\", \n",
    "                                       \" hours?\": \" / 24\", \n",
    "                                       \" years?\": \" * 365\"}, regex = True).\n",
    "                              str.strip().\n",
    "                              str.split(' ').\n",
    "                              apply(dist_helper), errors = 'coerce')\n"
   ]
  },
  {
   "cell_type": "code",
   "execution_count": null,
   "metadata": {
    "scrolled": true,
    "slideshow": {
     "slide_type": "fragment"
    }
   },
   "outputs": [],
   "source": [
    "# apply function across values in crammed columns\n",
    "df[\"SAN_NYC\"].unique()"
   ]
  },
  {
   "cell_type": "markdown",
   "metadata": {},
   "source": [
    "#### Return to missingness\n",
    "\n",
    "Note that after cleaning, we DO have missing values. These would be worth looking into further; being sure we understand *why* they're missing"
   ]
  },
  {
   "cell_type": "code",
   "execution_count": null,
   "metadata": {
    "scrolled": false
   },
   "outputs": [],
   "source": [
    "# number of missing values by column\n",
    "df.isnull().sum()"
   ]
  },
  {
   "cell_type": "code",
   "execution_count": null,
   "metadata": {
    "scrolled": true
   },
   "outputs": [],
   "source": [
    "null_rows = df.isnull().any(axis=1)\n",
    "df[null_rows]"
   ]
  },
  {
   "cell_type": "markdown",
   "metadata": {
    "slideshow": {
     "slide_type": "slide"
    }
   },
   "source": [
    "## The Cleaned Data"
   ]
  },
  {
   "cell_type": "code",
   "execution_count": null,
   "metadata": {},
   "outputs": [],
   "source": [
    "df"
   ]
  },
  {
   "cell_type": "markdown",
   "metadata": {
    "slideshow": {
     "slide_type": "slide"
    }
   },
   "source": [
    "### Clicker Question #5\n",
    "\n",
    "What could we have done to avoid these cleaning/wrangling issues?\n",
    "\n",
    "- A) I have some ideas.\n",
    "- B) I've thought but I have no idea.\n",
    "- C) I'm unsure what we're supposed to be thinking about"
   ]
  },
  {
   "cell_type": "markdown",
   "metadata": {
    "slideshow": {
     "slide_type": "fragment"
    }
   },
   "source": [
    "**Brainstorming**\n"
   ]
  },
  {
   "cell_type": "markdown",
   "metadata": {
    "slideshow": {
     "slide_type": "slide"
    }
   },
   "source": [
    "## Aside: Anscombe's Quartet: A Cautionary Tale"
   ]
  },
  {
   "cell_type": "markdown",
   "metadata": {
    "slideshow": {
     "slide_type": "notes"
    }
   },
   "source": [
    "Code in this example taken from [here](https://matplotlib.org/gallery/specialty_plots/anscombe.html)."
   ]
  },
  {
   "cell_type": "code",
   "execution_count": null,
   "metadata": {
    "slideshow": {
     "slide_type": "-"
    }
   },
   "outputs": [],
   "source": [
    "x = np.array([10, 8, 13, 9, 11, 14, 6, 4, 12, 7, 5])\n",
    "y1 = np.array([8.04, 6.95, 7.58, 8.81, 8.33, 9.96, 7.24, 4.26, 10.84, 4.82, 5.68])\n",
    "y2 = np.array([9.14, 8.14, 8.74, 8.77, 9.26, 8.10, 6.13, 3.10, 9.13, 7.26, 4.74])\n",
    "y3 = np.array([7.46, 6.77, 12.74, 7.11, 7.81, 8.84, 6.08, 5.39, 8.15, 6.42, 5.73])\n",
    "x4 = np.array([8, 8, 8, 8, 8, 8, 8, 19, 8, 8, 8])\n",
    "y4 = np.array([6.58, 5.76, 7.71, 8.84, 8.47, 7.04, 5.25, 12.50, 5.56, 7.91, 6.89])"
   ]
  },
  {
   "cell_type": "code",
   "execution_count": null,
   "metadata": {
    "scrolled": false,
    "slideshow": {
     "slide_type": "-"
    }
   },
   "outputs": [],
   "source": [
    "def fit(x):\n",
    "    return 3 + 0.5 * x\n",
    "\n",
    "xfit = np.array([np.min(x), np.max(x)])\n",
    "\n",
    "plt.subplot(221)\n",
    "plt.plot(x, y1, 'ks', xfit, fit(xfit), 'r-', lw=2)\n",
    "plt.axis([2, 20, 2, 14])\n",
    "plt.setp(plt.gca(), xticklabels=[], yticks=(4, 8, 12), xticks=(0, 10, 20))\n",
    "plt.text(3, 12, 'I', fontsize=20)\n",
    "\n",
    "plt.subplot(222)\n",
    "plt.plot(x, y2, 'ks', xfit, fit(xfit), 'r-', lw=2)\n",
    "plt.axis([2, 20, 2, 14])\n",
    "plt.setp(plt.gca(), xticks=(0, 10, 20), xticklabels=[],\n",
    "         yticks=(4, 8, 12), yticklabels=[], )\n",
    "plt.text(3, 12, 'II', fontsize=20)\n",
    "\n",
    "plt.subplot(223)\n",
    "plt.plot(x, y3, 'ks', xfit, fit(xfit), 'r-', lw=2)\n",
    "plt.axis([2, 20, 2, 14])\n",
    "plt.text(3, 12, 'III', fontsize=20)\n",
    "plt.setp(plt.gca(), yticks=(4, 8, 12), xticks=(0, 10, 20))\n",
    "\n",
    "plt.subplot(224)\n",
    "xfit = np.array([np.min(x4), np.max(x4)])\n",
    "plt.plot(x4, y4, 'ks', xfit, fit(xfit), 'r-', lw=2)\n",
    "plt.axis([2, 20, 2, 14])\n",
    "plt.setp(plt.gca(), yticklabels=[], yticks=(4, 8, 12), xticks=(0, 10, 20))\n",
    "plt.text(3, 12, 'IV', fontsize=20)\n",
    "\n",
    "# verify the stats\n",
    "pairs = (x, y1), (x, y2), (x, y3), (x4, y4)\n",
    "for x, y in pairs:\n",
    "    print('mean=%1.2f, std=%1.2f, r=%1.2f' % (np.mean(y), np.std(y),\n",
    "          np.corrcoef(x, y)[0][1]))\n",
    "\n",
    "plt.show()"
   ]
  },
  {
   "cell_type": "markdown",
   "metadata": {
    "slideshow": {
     "slide_type": "fragment"
    }
   },
   "source": [
    "### Draw the Graph (What a complete EDA is all about!)"
   ]
  },
  {
   "cell_type": "markdown",
   "metadata": {
    "slideshow": {
     "slide_type": "slide"
    }
   },
   "source": [
    "## Shape\n",
    "\n",
    "- range of values\n",
    "- overall shape\n",
    "- outliers? "
   ]
  },
  {
   "cell_type": "markdown",
   "metadata": {
    "slideshow": {
     "slide_type": "slide"
    }
   },
   "source": [
    "### Outliers\n",
    "\n",
    "Outliers are values that fall outside the typical range of your dataset. These can occur for all types of reasons:\n",
    "\n",
    "- data entry errors\n",
    "- poor sampling procedures\n",
    "- technical or mechanical errors\n",
    "- unexpected changes in weather\n",
    "- extreme values\n",
    "- people giving incorrect information\n",
    "- etc."
   ]
  },
  {
   "cell_type": "code",
   "execution_count": null,
   "metadata": {
    "scrolled": false
   },
   "outputs": [],
   "source": [
    "sns.histplot(df['hair_growth'], bins=20);"
   ]
  },
  {
   "cell_type": "code",
   "execution_count": null,
   "metadata": {
    "slideshow": {
     "slide_type": "fragment"
    }
   },
   "outputs": [],
   "source": [
    "sns.histplot(df['crammed'], bins=20);"
   ]
  },
  {
   "cell_type": "code",
   "execution_count": null,
   "metadata": {
    "scrolled": true,
    "slideshow": {
     "slide_type": "fragment"
    }
   },
   "outputs": [],
   "source": [
    "sns.histplot(df['SAN_NYC'], bins=20);"
   ]
  },
  {
   "cell_type": "markdown",
   "metadata": {
    "slideshow": {
     "slide_type": "fragment"
    }
   },
   "source": [
    "<div class=\"alert alert-danger\">\n",
    "Caution: Observations should only be removed from your dataset if you have a valid reason to do so. If you remove outliers from your dataset, your report should be <b>very</b> clear that you did so.\n",
    "</div>"
   ]
  },
  {
   "cell_type": "markdown",
   "metadata": {
    "slideshow": {
     "slide_type": "slide"
    }
   },
   "source": [
    "### Clicker Question #6\n",
    "\n",
    "Should we remove any outlier values in this dataset? \n",
    "\n",
    "- A) Yes\n",
    "- B) No\n",
    "- C) ¯\\\\\\_(ツ)\\_/¯"
   ]
  },
  {
   "cell_type": "markdown",
   "metadata": {
    "slideshow": {
     "slide_type": "slide"
    }
   },
   "source": [
    "## Central Tendency\n",
    "\n",
    "- mean \n",
    "- median\n",
    "- mode\n",
    "\n",
    "The Central Tendency tells you the 'typical' value for an observation in your dataset."
   ]
  },
  {
   "cell_type": "markdown",
   "metadata": {
    "slideshow": {
     "slide_type": "slide"
    }
   },
   "source": [
    "### Mean"
   ]
  },
  {
   "cell_type": "markdown",
   "metadata": {
    "slideshow": {
     "slide_type": "-"
    }
   },
   "source": [
    "\n",
    "$$ \\bar x = \\frac{\\sum\\limits_{i = 1}^N x_i}N  $$\n"
   ]
  },
  {
   "cell_type": "markdown",
   "metadata": {
    "slideshow": {
     "slide_type": "-"
    }
   },
   "source": [
    "- $x_i$ = ith element of the sample\n",
    "- $\\bar x$ = sample mean\n",
    "- $N$ = sample size\n"
   ]
  },
  {
   "cell_type": "code",
   "execution_count": null,
   "metadata": {
    "slideshow": {
     "slide_type": "-"
    }
   },
   "outputs": [],
   "source": [
    "df['hair_growth'].mean()"
   ]
  },
  {
   "cell_type": "code",
   "execution_count": null,
   "metadata": {
    "slideshow": {
     "slide_type": "-"
    }
   },
   "outputs": [],
   "source": [
    "# check mean for each column\n",
    "df.mean()"
   ]
  },
  {
   "cell_type": "markdown",
   "metadata": {
    "slideshow": {
     "slide_type": "slide"
    }
   },
   "source": [
    "### Median"
   ]
  },
  {
   "cell_type": "code",
   "execution_count": null,
   "metadata": {
    "scrolled": true,
    "slideshow": {
     "slide_type": "-"
    }
   },
   "outputs": [],
   "source": [
    "# check median for each column\n",
    "df.median()"
   ]
  },
  {
   "cell_type": "markdown",
   "metadata": {
    "slideshow": {
     "slide_type": "slide"
    }
   },
   "source": [
    "### Median vs. Mean\n",
    "\n",
    "When the median and mean are not similar to one another...what's the best approach?"
   ]
  },
  {
   "cell_type": "code",
   "execution_count": null,
   "metadata": {
    "scrolled": true,
    "slideshow": {
     "slide_type": "-"
    }
   },
   "outputs": [],
   "source": [
    "# median and mean for same series\n",
    "print( 'median: ', df['hair_growth'].median())\n",
    "print( 'mean: ', df['hair_growth'].mean())"
   ]
  },
  {
   "cell_type": "code",
   "execution_count": null,
   "metadata": {
    "scrolled": false,
    "slideshow": {
     "slide_type": "-"
    }
   },
   "outputs": [],
   "source": [
    "# take a look at it all together\n",
    "ax = sns.histplot(df['hair_growth'], bins=5);\n",
    "ax.axvline(df['hair_growth'].mean(), color='darkred', linestyle='--', label='mean');\n",
    "ax.axvline(df['hair_growth'].median(), color='#2e2e2e', linestyle='-', label='median')\n",
    "ax.legend();"
   ]
  },
  {
   "cell_type": "markdown",
   "metadata": {
    "slideshow": {
     "slide_type": "fragment"
    }
   },
   "source": [
    "### Clicker Question #7\n",
    "\n",
    "Which of the following is the best way to measure the central tendency of `hair_growth` in these data?\n",
    "\n",
    "- A) mean\n",
    "- B) median\n",
    "- C) mode"
   ]
  },
  {
   "cell_type": "code",
   "execution_count": null,
   "metadata": {
    "scrolled": true,
    "slideshow": {
     "slide_type": "fragment"
    }
   },
   "outputs": [],
   "source": [
    "# increase the number of bins here\n",
    "ax = sns.histplot(df['hair_growth'], bins=100);\n",
    "ax.axvline(df['hair_growth'].mean(), color='darkred', linestyle='--', label='mean');\n",
    "ax.axvline(df['hair_growth'].median(), color='#2e2e2e', linestyle='--', label='median')\n",
    "ax.legend();"
   ]
  },
  {
   "cell_type": "markdown",
   "metadata": {
    "slideshow": {
     "slide_type": "slide"
    }
   },
   "source": [
    "#### How did y'all do?\n",
    "\n",
    "How well do COGS 108 students estimate the following:\n",
    "- How fast does human hair grow (cm/yr)?\n",
    "- If every living person stood crammed together side-by-side, how large of an area would they occupy (km²)?\n",
    "- How many days would it take to walk from San Diego to New York City (assuming no stopping to fix shoes, apply sunscreen, or for sleeping, eating, or other biological needs)?"
   ]
  },
  {
   "cell_type": "code",
   "execution_count": null,
   "metadata": {
    "scrolled": true,
    "slideshow": {
     "slide_type": "-"
    }
   },
   "outputs": [],
   "source": [
    "# compare to actual value: 15 cm/year (~6 in)\n",
    "df[\"hair_growth\"].median()"
   ]
  },
  {
   "cell_type": "code",
   "execution_count": null,
   "metadata": {
    "slideshow": {
     "slide_type": "-"
    }
   },
   "outputs": [],
   "source": [
    "# compare to actual value: 1,000-10,000 km^2)\n",
    "df['crammed'].median()"
   ]
  },
  {
   "cell_type": "code",
   "execution_count": null,
   "metadata": {
    "scrolled": true,
    "slideshow": {
     "slide_type": "-"
    }
   },
   "outputs": [],
   "source": [
    "# compare to actual value: 38 days)\n",
    "df['SAN_NYC'].median()"
   ]
  },
  {
   "cell_type": "markdown",
   "metadata": {
    "slideshow": {
     "slide_type": "slide"
    }
   },
   "source": [
    "Calculating the mean and median of your sample is helpful when dealing with **quantitative variables**.\n",
    "\n",
    "When working with **categorical variables**, knowing the mode is helpful."
   ]
  },
  {
   "cell_type": "markdown",
   "metadata": {
    "slideshow": {
     "slide_type": "slide"
    }
   },
   "source": [
    "### Mode\n",
    "\n",
    "When working with categorical data, the mode is the most common value in the dataset."
   ]
  },
  {
   "cell_type": "markdown",
   "metadata": {
    "slideshow": {
     "slide_type": "slide"
    }
   },
   "source": [
    "### Aside: Why Central Tendency Doesn't Tell the Whole Story"
   ]
  },
  {
   "cell_type": "code",
   "execution_count": null,
   "metadata": {
    "slideshow": {
     "slide_type": "-"
    }
   },
   "outputs": [],
   "source": [
    "# generate two different normal distributions\n",
    "dist_1 = np.random.normal(5, 2, 1000)\n",
    "dist_2 = np.random.normal(5, 10, 1000)"
   ]
  },
  {
   "cell_type": "code",
   "execution_count": null,
   "metadata": {
    "scrolled": false,
    "slideshow": {
     "slide_type": "-"
    }
   },
   "outputs": [],
   "source": [
    "# plot distributions side by side\n",
    "sns.kdeplot(dist_1, label=\"mean: 5, sd: 2\")\n",
    "sns.kdeplot(dist_2, label=\"mean: 5, sd: 10\")\n",
    "plt.legend();"
   ]
  },
  {
   "cell_type": "markdown",
   "metadata": {
    "slideshow": {
     "slide_type": "slide"
    }
   },
   "source": [
    "## Variability\n",
    "\n",
    "- Range\n",
    "- IQR \n",
    "- Variance & Standard Deviation"
   ]
  },
  {
   "cell_type": "markdown",
   "metadata": {
    "slideshow": {
     "slide_type": "slide"
    }
   },
   "source": [
    "### Range\n",
    "\n",
    "The highest value minus the lowest value."
   ]
  },
  {
   "cell_type": "code",
   "execution_count": null,
   "metadata": {
    "slideshow": {
     "slide_type": "-"
    }
   },
   "outputs": [],
   "source": [
    "# determine the 25th and 75th percentiles\n",
    "min_val = df['hair_growth'].min()\n",
    "max_val = df['hair_growth'].max()\n",
    "range_vals =  max_val - min_val\n",
    "print(max_val, '-' , min_val,' = ',  range_vals)"
   ]
  },
  {
   "cell_type": "markdown",
   "metadata": {
    "slideshow": {
     "slide_type": "slide"
    }
   },
   "source": [
    "### IQR (Interquartile Range)\n",
    "\n",
    "75th percentile - 25th percentile"
   ]
  },
  {
   "cell_type": "code",
   "execution_count": null,
   "metadata": {
    "scrolled": false,
    "slideshow": {
     "slide_type": "-"
    }
   },
   "outputs": [],
   "source": [
    "# determine the 25th and 75th percentiles\n",
    "lower, upper = np.percentile(df['hair_growth'], [25, 75])\n",
    "lower, upper"
   ]
  },
  {
   "cell_type": "code",
   "execution_count": null,
   "metadata": {
    "scrolled": true,
    "slideshow": {
     "slide_type": "-"
    }
   },
   "outputs": [],
   "source": [
    "# calculate IQR\n",
    "iqr = upper - lower\n",
    "iqr"
   ]
  },
  {
   "cell_type": "code",
   "execution_count": null,
   "metadata": {
    "slideshow": {
     "slide_type": "-"
    }
   },
   "outputs": [],
   "source": [
    "# visualizing IQR\n",
    "sns.boxplot(x='hair_growth', data=df);"
   ]
  },
  {
   "cell_type": "markdown",
   "metadata": {
    "slideshow": {
     "slide_type": "slide"
    }
   },
   "source": [
    "### Variance & Standard Deviation\n",
    "\n",
    "- variance\n",
    "    - measures how close the values in the distribution are to the middle of the distribution\n",
    "    - average squared difference of the scores from  the mean\n",
    "- standard deviation\n",
    "    - square root of the variance"
   ]
  },
  {
   "cell_type": "markdown",
   "metadata": {
    "slideshow": {
     "slide_type": "slide"
    }
   },
   "source": [
    "#### Variance"
   ]
  },
  {
   "cell_type": "markdown",
   "metadata": {
    "slideshow": {
     "slide_type": "-"
    }
   },
   "source": [
    "$$ s^2 = \\frac {\\sum\\limits_{i = 1}^N {\\left( {x_i - \\bar x} \\right)^2 }} {(N-1)} $$"
   ]
  },
  {
   "cell_type": "markdown",
   "metadata": {
    "slideshow": {
     "slide_type": "-"
    }
   },
   "source": [
    "- $s^2$ = sample variance\n",
    "- $x_i$ = ith element of the sample\n",
    "- $\\bar x$ = mean of the sample\n",
    "- $N$ = sample size\n"
   ]
  },
  {
   "cell_type": "code",
   "execution_count": null,
   "metadata": {
    "slideshow": {
     "slide_type": "fragment"
    }
   },
   "outputs": [],
   "source": [
    "# calculate variance using pandas\n",
    "var = df['hair_growth'].var()\n",
    "var"
   ]
  },
  {
   "cell_type": "markdown",
   "metadata": {
    "slideshow": {
     "slide_type": "slide"
    }
   },
   "source": [
    "#### Standard Deviation\n",
    "square root of the variance"
   ]
  },
  {
   "cell_type": "markdown",
   "metadata": {
    "slideshow": {
     "slide_type": "-"
    }
   },
   "source": [
    "$$ s = \\sqrt {\\frac {\\sum\\limits_{i = 1}^N {\\left( {x_i - \\bar x} \\right)^2 }} {(N-1)}} $$"
   ]
  },
  {
   "cell_type": "code",
   "execution_count": null,
   "metadata": {
    "scrolled": true,
    "slideshow": {
     "slide_type": "fragment"
    }
   },
   "outputs": [],
   "source": [
    "np.sqrt(var)"
   ]
  },
  {
   "cell_type": "code",
   "execution_count": null,
   "metadata": {
    "scrolled": true,
    "slideshow": {
     "slide_type": "fragment"
    }
   },
   "outputs": [],
   "source": [
    "# calculate variance using pandas\n",
    "sd = df['hair_growth'].std()\n",
    "sd "
   ]
  },
  {
   "cell_type": "markdown",
   "metadata": {
    "slideshow": {
     "slide_type": "slide"
    }
   },
   "source": [
    "## Descriptive Tables\n",
    "\n",
    "Helpful for understanding your data...but not the best explanatory visualization."
   ]
  },
  {
   "cell_type": "code",
   "execution_count": null,
   "metadata": {
    "scrolled": true,
    "slideshow": {
     "slide_type": "fragment"
    }
   },
   "outputs": [],
   "source": [
    "df.describe()"
   ]
  },
  {
   "cell_type": "markdown",
   "metadata": {
    "slideshow": {
     "slide_type": "slide"
    }
   },
   "source": [
    "### Clicker Question #8\n",
    "\n",
    "What would be the next step in this analysis to answer our question of interest?\n",
    "\n",
    "- A) I have some ideas on next steps.\n",
    "- B) I think the analysis is complete.\n",
    "- C) ¯\\\\\\_(ツ)\\_/¯"
   ]
  },
  {
   "cell_type": "markdown",
   "metadata": {
    "slideshow": {
     "slide_type": "slide"
    }
   },
   "source": [
    "### Clicker Question #9\n",
    "\n",
    "Final thoughts: Should you ensure that all plots you make during the EDA process adhere to data visualization best practices?\n",
    "    \n",
    "- A) Yes.\n",
    "- B) No.\n",
    "- C) ¯\\\\\\_(ツ)\\_/¯"
   ]
  }
 ],
 "metadata": {
  "celltoolbar": "Slideshow",
  "kernelspec": {
   "display_name": "Python 3 (ipykernel)",
   "language": "python",
   "name": "python3"
  },
  "language_info": {
   "codemirror_mode": {
    "name": "ipython",
    "version": 3
   },
   "file_extension": ".py",
   "mimetype": "text/x-python",
   "name": "python",
   "nbconvert_exporter": "python",
   "pygments_lexer": "ipython3",
   "version": "3.9.7"
  },
  "rise": {
   "scroll": true
  }
 },
 "nbformat": 4,
 "nbformat_minor": 2
}
